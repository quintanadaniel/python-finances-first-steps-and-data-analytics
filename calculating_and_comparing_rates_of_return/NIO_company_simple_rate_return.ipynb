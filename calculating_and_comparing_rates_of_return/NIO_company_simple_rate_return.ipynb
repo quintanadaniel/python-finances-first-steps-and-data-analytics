{
 "cells": [
  {
   "cell_type": "code",
   "id": "initial_id",
   "metadata": {
    "collapsed": true,
    "ExecuteTime": {
     "end_time": "2025-03-28T21:43:49.647805Z",
     "start_time": "2025-03-28T21:43:48.785415Z"
    }
   },
   "source": [
    "import yfinance as yf\n",
    "import pandas as pd\n",
    "import numpy as np\n",
    "import matplotlib.pyplot as plt\n",
    "from datetime import date\n",
    "import os"
   ],
   "outputs": [],
   "execution_count": 1
  },
  {
   "metadata": {
    "ExecuteTime": {
     "end_time": "2025-03-28T21:43:56.245905Z",
     "start_time": "2025-03-28T21:43:56.233235Z"
    }
   },
   "cell_type": "code",
   "source": "path = os.path.dirname(os.getcwd())",
   "id": "c4219f47c54b1c21",
   "outputs": [],
   "execution_count": 2
  },
  {
   "metadata": {
    "ExecuteTime": {
     "end_time": "2025-03-28T21:45:49.698698Z",
     "start_time": "2025-03-28T21:45:49.341112Z"
    }
   },
   "cell_type": "code",
   "source": "df_nio = yf.download('NIO', start=date(1995,1,1))",
   "id": "20bf41612fd0b61d",
   "outputs": [
    {
     "name": "stderr",
     "output_type": "stream",
     "text": [
      "[*********************100%***********************]  1 of 1 completed\n"
     ]
    }
   ],
   "execution_count": 4
  },
  {
   "metadata": {
    "ExecuteTime": {
     "end_time": "2025-03-28T21:51:05.371583Z",
     "start_time": "2025-03-28T21:51:05.365961Z"
    }
   },
   "cell_type": "code",
   "source": [
    "from utils.util_funcs import build_columns_for_df, read_from_csv, save_to_csv\n",
    "\n"
   ],
   "id": "228672f77cf143d9",
   "outputs": [],
   "execution_count": 6
  },
  {
   "metadata": {
    "ExecuteTime": {
     "end_time": "2025-03-28T21:51:11.837767Z",
     "start_time": "2025-03-28T21:51:11.799157Z"
    }
   },
   "cell_type": "code",
   "source": [
    "columns = build_columns_for_df(df_nio)\n",
    "save_to_csv(df_nio, \"NIO\")\n",
    "all_df = pd.DataFrame()\n",
    "all_df[\"NIO\"] = read_from_csv(\"NIO\", columns)['Close']"
   ],
   "id": "412293210f1f96c1",
   "outputs": [],
   "execution_count": 7
  },
  {
   "metadata": {
    "ExecuteTime": {
     "end_time": "2025-03-28T21:51:23.759480Z",
     "start_time": "2025-03-28T21:51:23.728063Z"
    }
   },
   "cell_type": "code",
   "source": "all_df.head()",
   "id": "467afc38cba5082f",
   "outputs": [
    {
     "data": {
      "text/plain": [
       "              NIO\n",
       "Date             \n",
       "2018-09-12   6.60\n",
       "2018-09-13  11.60\n",
       "2018-09-14   9.90\n",
       "2018-09-17   8.50\n",
       "2018-09-18   7.68"
      ],
      "text/html": [
       "<div>\n",
       "<style scoped>\n",
       "    .dataframe tbody tr th:only-of-type {\n",
       "        vertical-align: middle;\n",
       "    }\n",
       "\n",
       "    .dataframe tbody tr th {\n",
       "        vertical-align: top;\n",
       "    }\n",
       "\n",
       "    .dataframe thead th {\n",
       "        text-align: right;\n",
       "    }\n",
       "</style>\n",
       "<table border=\"1\" class=\"dataframe\">\n",
       "  <thead>\n",
       "    <tr style=\"text-align: right;\">\n",
       "      <th></th>\n",
       "      <th>NIO</th>\n",
       "    </tr>\n",
       "    <tr>\n",
       "      <th>Date</th>\n",
       "      <th></th>\n",
       "    </tr>\n",
       "  </thead>\n",
       "  <tbody>\n",
       "    <tr>\n",
       "      <th>2018-09-12</th>\n",
       "      <td>6.60</td>\n",
       "    </tr>\n",
       "    <tr>\n",
       "      <th>2018-09-13</th>\n",
       "      <td>11.60</td>\n",
       "    </tr>\n",
       "    <tr>\n",
       "      <th>2018-09-14</th>\n",
       "      <td>9.90</td>\n",
       "    </tr>\n",
       "    <tr>\n",
       "      <th>2018-09-17</th>\n",
       "      <td>8.50</td>\n",
       "    </tr>\n",
       "    <tr>\n",
       "      <th>2018-09-18</th>\n",
       "      <td>7.68</td>\n",
       "    </tr>\n",
       "  </tbody>\n",
       "</table>\n",
       "</div>"
      ]
     },
     "execution_count": 8,
     "metadata": {},
     "output_type": "execute_result"
    }
   ],
   "execution_count": 8
  },
  {
   "metadata": {
    "ExecuteTime": {
     "end_time": "2025-03-28T21:51:42.966702Z",
     "start_time": "2025-03-28T21:51:42.945650Z"
    }
   },
   "cell_type": "code",
   "source": "all_df.tail()",
   "id": "404756ff73cf2f72",
   "outputs": [
    {
     "data": {
      "text/plain": [
       "             NIO\n",
       "Date            \n",
       "2025-03-24  4.38\n",
       "2025-03-25  4.39\n",
       "2025-03-26  4.22\n",
       "2025-03-27  3.98\n",
       "2025-03-28  3.75"
      ],
      "text/html": [
       "<div>\n",
       "<style scoped>\n",
       "    .dataframe tbody tr th:only-of-type {\n",
       "        vertical-align: middle;\n",
       "    }\n",
       "\n",
       "    .dataframe tbody tr th {\n",
       "        vertical-align: top;\n",
       "    }\n",
       "\n",
       "    .dataframe thead th {\n",
       "        text-align: right;\n",
       "    }\n",
       "</style>\n",
       "<table border=\"1\" class=\"dataframe\">\n",
       "  <thead>\n",
       "    <tr style=\"text-align: right;\">\n",
       "      <th></th>\n",
       "      <th>NIO</th>\n",
       "    </tr>\n",
       "    <tr>\n",
       "      <th>Date</th>\n",
       "      <th></th>\n",
       "    </tr>\n",
       "  </thead>\n",
       "  <tbody>\n",
       "    <tr>\n",
       "      <th>2025-03-24</th>\n",
       "      <td>4.38</td>\n",
       "    </tr>\n",
       "    <tr>\n",
       "      <th>2025-03-25</th>\n",
       "      <td>4.39</td>\n",
       "    </tr>\n",
       "    <tr>\n",
       "      <th>2025-03-26</th>\n",
       "      <td>4.22</td>\n",
       "    </tr>\n",
       "    <tr>\n",
       "      <th>2025-03-27</th>\n",
       "      <td>3.98</td>\n",
       "    </tr>\n",
       "    <tr>\n",
       "      <th>2025-03-28</th>\n",
       "      <td>3.75</td>\n",
       "    </tr>\n",
       "  </tbody>\n",
       "</table>\n",
       "</div>"
      ]
     },
     "execution_count": 9,
     "metadata": {},
     "output_type": "execute_result"
    }
   ],
   "execution_count": 9
  },
  {
   "metadata": {},
   "cell_type": "markdown",
   "source": "## Normalizations",
   "id": "9dbf4a280073b76c"
  },
  {
   "metadata": {
    "ExecuteTime": {
     "end_time": "2025-03-28T21:52:49.346898Z",
     "start_time": "2025-03-28T21:52:49.100395Z"
    }
   },
   "cell_type": "code",
   "source": "(all_df / all_df.iloc[0] * 100).plot(figsize=(10,6))",
   "id": "7a7e575a8479a703",
   "outputs": [
    {
     "data": {
      "text/plain": [
       "<Axes: xlabel='Date'>"
      ]
     },
     "execution_count": 10,
     "metadata": {},
     "output_type": "execute_result"
    },
    {
     "data": {
      "text/plain": [
       "<Figure size 1000x600 with 1 Axes>"
      ],
      "image/png": "[encoded data removed]"
     },
     "metadata": {},
     "output_type": "display_data"
    }
   ],
   "execution_count": 10
  },
  {
   "metadata": {},
   "cell_type": "markdown",
   "source": [
    "## Simple Rate of Return\n",
    "\n",
    "P1 - P0 / P0 = P1 / P0 = 1"
   ],
   "id": "9b310bcbbffef2a6"
  },
  {
   "metadata": {
    "ExecuteTime": {
     "end_time": "2025-03-28T21:59:56.730743Z",
     "start_time": "2025-03-28T21:59:56.709863Z"
    }
   },
   "cell_type": "code",
   "source": [
    "returns = (all_df / all_df.shift(1)) - 1\n",
    "returns.head()"
   ],
   "id": "935f3e149a33b97b",
   "outputs": [
    {
     "data": {
      "text/plain": [
       "                 NIO\n",
       "Date                \n",
       "2018-09-12       NaN\n",
       "2018-09-13  0.757576\n",
       "2018-09-14 -0.146552\n",
       "2018-09-17 -0.141414\n",
       "2018-09-18 -0.096471"
      ],
      "text/html": [
       "<div>\n",
       "<style scoped>\n",
       "    .dataframe tbody tr th:only-of-type {\n",
       "        vertical-align: middle;\n",
       "    }\n",
       "\n",
       "    .dataframe tbody tr th {\n",
       "        vertical-align: top;\n",
       "    }\n",
       "\n",
       "    .dataframe thead th {\n",
       "        text-align: right;\n",
       "    }\n",
       "</style>\n",
       "<table border=\"1\" class=\"dataframe\">\n",
       "  <thead>\n",
       "    <tr style=\"text-align: right;\">\n",
       "      <th></th>\n",
       "      <th>NIO</th>\n",
       "    </tr>\n",
       "    <tr>\n",
       "      <th>Date</th>\n",
       "      <th></th>\n",
       "    </tr>\n",
       "  </thead>\n",
       "  <tbody>\n",
       "    <tr>\n",
       "      <th>2018-09-12</th>\n",
       "      <td>NaN</td>\n",
       "    </tr>\n",
       "    <tr>\n",
       "      <th>2018-09-13</th>\n",
       "      <td>0.757576</td>\n",
       "    </tr>\n",
       "    <tr>\n",
       "      <th>2018-09-14</th>\n",
       "      <td>-0.146552</td>\n",
       "    </tr>\n",
       "    <tr>\n",
       "      <th>2018-09-17</th>\n",
       "      <td>-0.141414</td>\n",
       "    </tr>\n",
       "    <tr>\n",
       "      <th>2018-09-18</th>\n",
       "      <td>-0.096471</td>\n",
       "    </tr>\n",
       "  </tbody>\n",
       "</table>\n",
       "</div>"
      ]
     },
     "execution_count": 11,
     "metadata": {},
     "output_type": "execute_result"
    }
   ],
   "execution_count": 11
  },
  {
   "metadata": {
    "ExecuteTime": {
     "end_time": "2025-03-28T22:02:18.100661Z",
     "start_time": "2025-03-28T22:02:18.088268Z"
    }
   },
   "cell_type": "code",
   "source": [
    "# Calculate annual return\n",
    "annual_returns = returns.mean() * 250\n",
    "print(annual_returns)"
   ],
   "id": "b19dba55918e9ee0",
   "outputs": [
    {
     "name": "stdout",
     "output_type": "stream",
     "text": [
      "NIO    0.294241\n",
      "dtype: float64\n"
     ]
    }
   ],
   "execution_count": 12
  },
  {
   "metadata": {
    "ExecuteTime": {
     "end_time": "2025-03-28T22:04:34.031191Z",
     "start_time": "2025-03-28T22:04:34.016627Z"
    }
   },
   "cell_type": "code",
   "source": [
    "# Estimation the avg for PG\n",
    "ticker_NIO = str(round(annual_returns, 5) * 100) + ' %'\n",
    "print(ticker_NIO)"
   ],
   "id": "8897111c8d4cd314",
   "outputs": [
    {
     "name": "stdout",
     "output_type": "stream",
     "text": [
      "NIO    29.424\n",
      "dtype: float64 %\n"
     ]
    }
   ],
   "execution_count": 15
  }
 ],
 "metadata": {
  "kernelspec": {
   "display_name": "Python 3",
   "language": "python",
   "name": "python3"
  },
  "language_info": {
   "codemirror_mode": {
    "name": "ipython",
    "version": 2
   },
   "file_extension": ".py",
   "mimetype": "text/x-python",
   "name": "python",
   "nbconvert_exporter": "python",
   "pygments_lexer": "ipython2",
   "version": "2.7.6"
  }
 },
 "nbformat": 4,
 "nbformat_minor": 5
}
