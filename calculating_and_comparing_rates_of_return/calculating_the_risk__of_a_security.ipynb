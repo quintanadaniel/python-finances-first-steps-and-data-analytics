{
 "cells": [
  {
   "cell_type": "code",
   "id": "initial_id",
   "metadata": {
    "collapsed": true,
    "ExecuteTime": {
     "end_time": "2025-03-28T22:36:34.394542Z",
     "start_time": "2025-03-28T22:36:34.383156Z"
    }
   },
   "source": [
    "import numpy as np\n",
    "import pandas as pd\n",
    "import yfinance as yf\n",
    "from utils.util_funcs import build_columns_for_df, save_to_csv, read_from_csv"
   ],
   "outputs": [],
   "execution_count": 3
  },
  {
   "metadata": {
    "ExecuteTime": {
     "end_time": "2025-03-28T22:38:24.116493Z",
     "start_time": "2025-03-28T22:38:22.661131Z"
    }
   },
   "cell_type": "code",
   "source": [
    "tickers = ['PG', \"NIO\", \"BEI.DE\"]\n",
    "\n",
    "sec_data = pd.DataFrame()\n",
    "for t in tickers:\n",
    "    my_data = yf.download(t, start='2007-01-01')\n",
    "    columns = build_columns_for_df(my_data)\n",
    "    save_to_csv(my_data, t)\n",
    "    sec_data[t] = read_from_csv(t, columns)['Close']"
   ],
   "id": "c04bfbd6ac7be151",
   "outputs": [
    {
     "name": "stdout",
     "output_type": "stream",
     "text": [
      "YF.download() has changed argument auto_adjust default to True\n"
     ]
    },
    {
     "name": "stderr",
     "output_type": "stream",
     "text": [
      "[*********************100%***********************]  1 of 1 completed\n",
      "[*********************100%***********************]  1 of 1 completed\n",
      "[*********************100%***********************]  1 of 1 completed\n"
     ]
    }
   ],
   "execution_count": 4
  },
  {
   "metadata": {
    "ExecuteTime": {
     "end_time": "2025-03-28T22:38:35.782598Z",
     "start_time": "2025-03-28T22:38:35.756878Z"
    }
   },
   "cell_type": "code",
   "source": "sec_data.tail()",
   "id": "e27532ddff50637e",
   "outputs": [
    {
     "data": {
      "text/plain": [
       "                    PG   NIO      BEI.DE\n",
       "Date                                    \n",
       "2025-03-24  165.649994  4.38  127.199997\n",
       "2025-03-25  162.850006  4.39  118.699997\n",
       "2025-03-26  166.580002  4.22  118.050003\n",
       "2025-03-27  168.710007  3.98  119.849998\n",
       "2025-03-28  168.029999  3.75  120.349998"
      ],
      "text/html": [
       "<div>\n",
       "<style scoped>\n",
       "    .dataframe tbody tr th:only-of-type {\n",
       "        vertical-align: middle;\n",
       "    }\n",
       "\n",
       "    .dataframe tbody tr th {\n",
       "        vertical-align: top;\n",
       "    }\n",
       "\n",
       "    .dataframe thead th {\n",
       "        text-align: right;\n",
       "    }\n",
       "</style>\n",
       "<table border=\"1\" class=\"dataframe\">\n",
       "  <thead>\n",
       "    <tr style=\"text-align: right;\">\n",
       "      <th></th>\n",
       "      <th>PG</th>\n",
       "      <th>NIO</th>\n",
       "      <th>BEI.DE</th>\n",
       "    </tr>\n",
       "    <tr>\n",
       "      <th>Date</th>\n",
       "      <th></th>\n",
       "      <th></th>\n",
       "      <th></th>\n",
       "    </tr>\n",
       "  </thead>\n",
       "  <tbody>\n",
       "    <tr>\n",
       "      <th>2025-03-24</th>\n",
       "      <td>165.649994</td>\n",
       "      <td>4.38</td>\n",
       "      <td>127.199997</td>\n",
       "    </tr>\n",
       "    <tr>\n",
       "      <th>2025-03-25</th>\n",
       "      <td>162.850006</td>\n",
       "      <td>4.39</td>\n",
       "      <td>118.699997</td>\n",
       "    </tr>\n",
       "    <tr>\n",
       "      <th>2025-03-26</th>\n",
       "      <td>166.580002</td>\n",
       "      <td>4.22</td>\n",
       "      <td>118.050003</td>\n",
       "    </tr>\n",
       "    <tr>\n",
       "      <th>2025-03-27</th>\n",
       "      <td>168.710007</td>\n",
       "      <td>3.98</td>\n",
       "      <td>119.849998</td>\n",
       "    </tr>\n",
       "    <tr>\n",
       "      <th>2025-03-28</th>\n",
       "      <td>168.029999</td>\n",
       "      <td>3.75</td>\n",
       "      <td>120.349998</td>\n",
       "    </tr>\n",
       "  </tbody>\n",
       "</table>\n",
       "</div>"
      ]
     },
     "execution_count": 5,
     "metadata": {},
     "output_type": "execute_result"
    }
   ],
   "execution_count": 5
  },
  {
   "metadata": {
    "ExecuteTime": {
     "end_time": "2025-03-28T22:39:23.216412Z",
     "start_time": "2025-03-28T22:39:23.204373Z"
    }
   },
   "cell_type": "code",
   "source": "sec_returns = np.log(sec_data / sec_data.shift(1))",
   "id": "2222345a21a36dc1",
   "outputs": [],
   "execution_count": 6
  },
  {
   "metadata": {
    "ExecuteTime": {
     "end_time": "2025-03-28T22:39:31.144041Z",
     "start_time": "2025-03-28T22:39:31.136434Z"
    }
   },
   "cell_type": "code",
   "source": "sec_returns",
   "id": "987b647c90769e8e",
   "outputs": [
    {
     "data": {
      "text/plain": [
       "                  PG       NIO    BEI.DE\n",
       "Date                                    \n",
       "2007-01-03       NaN       NaN       NaN\n",
       "2007-01-04 -0.007621       NaN  0.006544\n",
       "2007-01-05 -0.008624       NaN -0.020771\n",
       "2007-01-08  0.002202       NaN  0.000202\n",
       "2007-01-09 -0.002517       NaN -0.022858\n",
       "...              ...       ...       ...\n",
       "2025-03-24 -0.006259 -0.027029  0.000000\n",
       "2025-03-25 -0.017048  0.002280 -0.069161\n",
       "2025-03-26  0.022646 -0.039494 -0.005491\n",
       "2025-03-27  0.012706 -0.058553  0.015133\n",
       "2025-03-28 -0.004039 -0.059526  0.004163\n",
       "\n",
       "[4589 rows x 3 columns]"
      ],
      "text/html": [
       "<div>\n",
       "<style scoped>\n",
       "    .dataframe tbody tr th:only-of-type {\n",
       "        vertical-align: middle;\n",
       "    }\n",
       "\n",
       "    .dataframe tbody tr th {\n",
       "        vertical-align: top;\n",
       "    }\n",
       "\n",
       "    .dataframe thead th {\n",
       "        text-align: right;\n",
       "    }\n",
       "</style>\n",
       "<table border=\"1\" class=\"dataframe\">\n",
       "  <thead>\n",
       "    <tr style=\"text-align: right;\">\n",
       "      <th></th>\n",
       "      <th>PG</th>\n",
       "      <th>NIO</th>\n",
       "      <th>BEI.DE</th>\n",
       "    </tr>\n",
       "    <tr>\n",
       "      <th>Date</th>\n",
       "      <th></th>\n",
       "      <th></th>\n",
       "      <th></th>\n",
       "    </tr>\n",
       "  </thead>\n",
       "  <tbody>\n",
       "    <tr>\n",
       "      <th>2007-01-03</th>\n",
       "      <td>NaN</td>\n",
       "      <td>NaN</td>\n",
       "      <td>NaN</td>\n",
       "    </tr>\n",
       "    <tr>\n",
       "      <th>2007-01-04</th>\n",
       "      <td>-0.007621</td>\n",
       "      <td>NaN</td>\n",
       "      <td>0.006544</td>\n",
       "    </tr>\n",
       "    <tr>\n",
       "      <th>2007-01-05</th>\n",
       "      <td>-0.008624</td>\n",
       "      <td>NaN</td>\n",
       "      <td>-0.020771</td>\n",
       "    </tr>\n",
       "    <tr>\n",
       "      <th>2007-01-08</th>\n",
       "      <td>0.002202</td>\n",
       "      <td>NaN</td>\n",
       "      <td>0.000202</td>\n",
       "    </tr>\n",
       "    <tr>\n",
       "      <th>2007-01-09</th>\n",
       "      <td>-0.002517</td>\n",
       "      <td>NaN</td>\n",
       "      <td>-0.022858</td>\n",
       "    </tr>\n",
       "    <tr>\n",
       "      <th>...</th>\n",
       "      <td>...</td>\n",
       "      <td>...</td>\n",
       "      <td>...</td>\n",
       "    </tr>\n",
       "    <tr>\n",
       "      <th>2025-03-24</th>\n",
       "      <td>-0.006259</td>\n",
       "      <td>-0.027029</td>\n",
       "      <td>0.000000</td>\n",
       "    </tr>\n",
       "    <tr>\n",
       "      <th>2025-03-25</th>\n",
       "      <td>-0.017048</td>\n",
       "      <td>0.002280</td>\n",
       "      <td>-0.069161</td>\n",
       "    </tr>\n",
       "    <tr>\n",
       "      <th>2025-03-26</th>\n",
       "      <td>0.022646</td>\n",
       "      <td>-0.039494</td>\n",
       "      <td>-0.005491</td>\n",
       "    </tr>\n",
       "    <tr>\n",
       "      <th>2025-03-27</th>\n",
       "      <td>0.012706</td>\n",
       "      <td>-0.058553</td>\n",
       "      <td>0.015133</td>\n",
       "    </tr>\n",
       "    <tr>\n",
       "      <th>2025-03-28</th>\n",
       "      <td>-0.004039</td>\n",
       "      <td>-0.059526</td>\n",
       "      <td>0.004163</td>\n",
       "    </tr>\n",
       "  </tbody>\n",
       "</table>\n",
       "<p>4589 rows × 3 columns</p>\n",
       "</div>"
      ]
     },
     "execution_count": 7,
     "metadata": {},
     "output_type": "execute_result"
    }
   ],
   "execution_count": 7
  },
  {
   "metadata": {},
   "cell_type": "markdown",
   "source": "## PG",
   "id": "1d97c75014bd3e26"
  },
  {
   "metadata": {
    "ExecuteTime": {
     "end_time": "2025-03-28T22:42:08.383168Z",
     "start_time": "2025-03-28T22:42:08.345746Z"
    }
   },
   "cell_type": "code",
   "source": "sec_returns[\"PG\"].mean()",
   "id": "6dc8b827e375c7d1",
   "outputs": [
    {
     "data": {
      "text/plain": [
       "np.float64(0.00032182754688337773)"
      ]
     },
     "execution_count": 8,
     "metadata": {},
     "output_type": "execute_result"
    }
   ],
   "execution_count": 8
  },
  {
   "metadata": {
    "ExecuteTime": {
     "end_time": "2025-03-28T22:42:26.222257Z",
     "start_time": "2025-03-28T22:42:26.217069Z"
    }
   },
   "cell_type": "code",
   "source": "sec_returns[\"PG\"].mean() * 250",
   "id": "dadf4c49ec06dc90",
   "outputs": [
    {
     "data": {
      "text/plain": [
       "np.float64(0.08045688672084443)"
      ]
     },
     "execution_count": 9,
     "metadata": {},
     "output_type": "execute_result"
    }
   ],
   "execution_count": 9
  },
  {
   "metadata": {
    "ExecuteTime": {
     "end_time": "2025-03-28T22:42:44.664174Z",
     "start_time": "2025-03-28T22:42:44.659370Z"
    }
   },
   "cell_type": "code",
   "source": "sec_returns[\"PG\"].std()",
   "id": "14c4a4a8c6ebbb5f",
   "outputs": [
    {
     "data": {
      "text/plain": [
       "np.float64(0.011635825144691496)"
      ]
     },
     "execution_count": 11,
     "metadata": {},
     "output_type": "execute_result"
    }
   ],
   "execution_count": 11
  },
  {
   "metadata": {
    "ExecuteTime": {
     "end_time": "2025-03-28T22:44:54.305320Z",
     "start_time": "2025-03-28T22:44:54.290709Z"
    }
   },
   "cell_type": "code",
   "source": "sec_returns[\"PG\"].std() * 250 ** 0.5",
   "id": "495b497e81da5c3f",
   "outputs": [
    {
     "data": {
      "text/plain": [
       "np.float64(0.18397854956341708)"
      ]
     },
     "execution_count": 12,
     "metadata": {},
     "output_type": "execute_result"
    }
   ],
   "execution_count": 12
  },
  {
   "metadata": {},
   "cell_type": "markdown",
   "source": "## Biersdorf",
   "id": "6259e69ca8ae5096"
  },
  {
   "metadata": {
    "ExecuteTime": {
     "end_time": "2025-03-28T22:45:26.347588Z",
     "start_time": "2025-03-28T22:45:26.338342Z"
    }
   },
   "cell_type": "code",
   "source": "sec_returns[\"BEI.DE\"].mean()",
   "id": "241cea523f47e6ab",
   "outputs": [
    {
     "data": {
      "text/plain": [
       "np.float64(0.00022322542702432846)"
      ]
     },
     "execution_count": 13,
     "metadata": {},
     "output_type": "execute_result"
    }
   ],
   "execution_count": 13
  },
  {
   "metadata": {
    "ExecuteTime": {
     "end_time": "2025-03-28T22:45:41.487161Z",
     "start_time": "2025-03-28T22:45:41.475820Z"
    }
   },
   "cell_type": "code",
   "source": "sec_returns[\"BEI.DE\"].mean() * 250",
   "id": "7fde7f30da3a71c5",
   "outputs": [
    {
     "data": {
      "text/plain": [
       "np.float64(0.055806356756082115)"
      ]
     },
     "execution_count": 14,
     "metadata": {},
     "output_type": "execute_result"
    }
   ],
   "execution_count": 14
  },
  {
   "metadata": {
    "ExecuteTime": {
     "end_time": "2025-03-28T22:45:53.223247Z",
     "start_time": "2025-03-28T22:45:53.216677Z"
    }
   },
   "cell_type": "code",
   "source": "sec_returns[\"BEI.DE\"].std()",
   "id": "dc8302a022370c65",
   "outputs": [
    {
     "data": {
      "text/plain": [
       "np.float64(0.01342850842590003)"
      ]
     },
     "execution_count": 15,
     "metadata": {},
     "output_type": "execute_result"
    }
   ],
   "execution_count": 15
  },
  {
   "metadata": {
    "ExecuteTime": {
     "end_time": "2025-03-28T22:46:13.379840Z",
     "start_time": "2025-03-28T22:46:13.370146Z"
    }
   },
   "cell_type": "code",
   "source": "sec_returns[\"BEI.DE\"].std() * 250 ** 0.5",
   "id": "a9ee0b4f06c48833",
   "outputs": [
    {
     "data": {
      "text/plain": [
       "np.float64(0.21232336102303256)"
      ]
     },
     "execution_count": 16,
     "metadata": {},
     "output_type": "execute_result"
    }
   ],
   "execution_count": 16
  },
  {
   "metadata": {},
   "cell_type": "markdown",
   "source": "## NIO",
   "id": "c468c11564da17bb"
  },
  {
   "metadata": {
    "ExecuteTime": {
     "end_time": "2025-03-28T22:46:38.691372Z",
     "start_time": "2025-03-28T22:46:38.679481Z"
    }
   },
   "cell_type": "code",
   "source": "sec_returns[\"NIO\"].mean()",
   "id": "9b59f7d4c115435c",
   "outputs": [
    {
     "data": {
      "text/plain": [
       "np.float64(-0.00034386483856475045)"
      ]
     },
     "execution_count": 17,
     "metadata": {},
     "output_type": "execute_result"
    }
   ],
   "execution_count": 17
  },
  {
   "metadata": {
    "ExecuteTime": {
     "end_time": "2025-03-28T22:46:46.339484Z",
     "start_time": "2025-03-28T22:46:46.336569Z"
    }
   },
   "cell_type": "code",
   "source": "sec_returns[\"NIO\"].mean() * 250",
   "id": "a25c19363da74de0",
   "outputs": [
    {
     "data": {
      "text/plain": [
       "np.float64(-0.08596620964118762)"
      ]
     },
     "execution_count": 18,
     "metadata": {},
     "output_type": "execute_result"
    }
   ],
   "execution_count": 18
  },
  {
   "metadata": {
    "ExecuteTime": {
     "end_time": "2025-03-28T22:46:53.094636Z",
     "start_time": "2025-03-28T22:46:53.083009Z"
    }
   },
   "cell_type": "code",
   "source": "sec_returns[\"NIO\"].std()",
   "id": "f9efeb4d20284a45",
   "outputs": [
    {
     "data": {
      "text/plain": [
       "np.float64(0.05445447256432502)"
      ]
     },
     "execution_count": 19,
     "metadata": {},
     "output_type": "execute_result"
    }
   ],
   "execution_count": 19
  },
  {
   "metadata": {
    "ExecuteTime": {
     "end_time": "2025-03-28T22:47:05.695215Z",
     "start_time": "2025-03-28T22:47:05.690132Z"
    }
   },
   "cell_type": "code",
   "source": "sec_returns[\"NIO\"].std() * 250 ** 0.5",
   "id": "6382813e3a0dc32f",
   "outputs": [
    {
     "data": {
      "text/plain": [
       "np.float64(0.8610008104320847)"
      ]
     },
     "execution_count": 20,
     "metadata": {},
     "output_type": "execute_result"
    }
   ],
   "execution_count": 20
  },
  {
   "metadata": {
    "ExecuteTime": {
     "end_time": "2025-03-28T22:48:00.035130Z",
     "start_time": "2025-03-28T22:48:00.015817Z"
    }
   },
   "cell_type": "code",
   "source": [
    "print(sec_returns[\"NIO\"].mean() * 250)\n",
    "print(sec_returns[\"BEI.DE\"].mean() * 250)\n",
    "print(sec_returns[\"NIO\"].mean() * 250)\n"
   ],
   "id": "fc8d9086bb5f3390",
   "outputs": [
    {
     "name": "stdout",
     "output_type": "stream",
     "text": [
      "-0.08596620964118762\n",
      "0.055806356756082115\n",
      "-0.08596620964118762\n"
     ]
    }
   ],
   "execution_count": 21
  },
  {
   "metadata": {
    "ExecuteTime": {
     "end_time": "2025-03-28T22:50:13.836466Z",
     "start_time": "2025-03-28T22:50:13.434142Z"
    }
   },
   "cell_type": "code",
   "source": "sec_returns[\"PG\", \"BEI.DE\", \"NIO\"].mean() * 250",
   "id": "739ba7a89653ec87",
   "outputs": [
    {
     "ename": "KeyError",
     "evalue": "('PG', 'BEI.DE', 'NIO')",
     "output_type": "error",
     "traceback": [
      "\u001B[31m---------------------------------------------------------------------------\u001B[39m",
      "\u001B[31mKeyError\u001B[39m                                  Traceback (most recent call last)",
      "\u001B[36mFile \u001B[39m\u001B[32m~/personal_projects/python_projects/python-for-finances/venv/lib/python3.12/site-packages/pandas/core/indexes/base.py:3805\u001B[39m, in \u001B[36mIndex.get_loc\u001B[39m\u001B[34m(self, key)\u001B[39m\n\u001B[32m   3804\u001B[39m \u001B[38;5;28;01mtry\u001B[39;00m:\n\u001B[32m-> \u001B[39m\u001B[32m3805\u001B[39m     \u001B[38;5;28;01mreturn\u001B[39;00m \u001B[38;5;28;43mself\u001B[39;49m\u001B[43m.\u001B[49m\u001B[43m_engine\u001B[49m\u001B[43m.\u001B[49m\u001B[43mget_loc\u001B[49m\u001B[43m(\u001B[49m\u001B[43mcasted_key\u001B[49m\u001B[43m)\u001B[49m\n\u001B[32m   3806\u001B[39m \u001B[38;5;28;01mexcept\u001B[39;00m \u001B[38;5;167;01mKeyError\u001B[39;00m \u001B[38;5;28;01mas\u001B[39;00m err:\n",
      "\u001B[36mFile \u001B[39m\u001B[32mindex.pyx:167\u001B[39m, in \u001B[36mpandas._libs.index.IndexEngine.get_loc\u001B[39m\u001B[34m()\u001B[39m\n",
      "\u001B[36mFile \u001B[39m\u001B[32mindex.pyx:196\u001B[39m, in \u001B[36mpandas._libs.index.IndexEngine.get_loc\u001B[39m\u001B[34m()\u001B[39m\n",
      "\u001B[36mFile \u001B[39m\u001B[32mpandas/_libs/hashtable_class_helper.pxi:7081\u001B[39m, in \u001B[36mpandas._libs.hashtable.PyObjectHashTable.get_item\u001B[39m\u001B[34m()\u001B[39m\n",
      "\u001B[36mFile \u001B[39m\u001B[32mpandas/_libs/hashtable_class_helper.pxi:7089\u001B[39m, in \u001B[36mpandas._libs.hashtable.PyObjectHashTable.get_item\u001B[39m\u001B[34m()\u001B[39m\n",
      "\u001B[31mKeyError\u001B[39m: ('PG', 'BEI.DE', 'NIO')",
      "\nThe above exception was the direct cause of the following exception:\n",
      "\u001B[31mKeyError\u001B[39m                                  Traceback (most recent call last)",
      "\u001B[36mCell\u001B[39m\u001B[36m \u001B[39m\u001B[32mIn[23]\u001B[39m\u001B[32m, line 1\u001B[39m\n\u001B[32m----> \u001B[39m\u001B[32m1\u001B[39m \u001B[43msec_returns\u001B[49m\u001B[43m[\u001B[49m\u001B[33;43m\"\u001B[39;49m\u001B[33;43mPG\u001B[39;49m\u001B[33;43m\"\u001B[39;49m\u001B[43m,\u001B[49m\u001B[43m \u001B[49m\u001B[33;43m\"\u001B[39;49m\u001B[33;43mBEI.DE\u001B[39;49m\u001B[33;43m\"\u001B[39;49m\u001B[43m,\u001B[49m\u001B[43m \u001B[49m\u001B[33;43m\"\u001B[39;49m\u001B[33;43mNIO\u001B[39;49m\u001B[33;43m\"\u001B[39;49m\u001B[43m]\u001B[49m.mean() * \u001B[32m250\u001B[39m\n",
      "\u001B[36mFile \u001B[39m\u001B[32m~/personal_projects/python_projects/python-for-finances/venv/lib/python3.12/site-packages/pandas/core/frame.py:4102\u001B[39m, in \u001B[36mDataFrame.__getitem__\u001B[39m\u001B[34m(self, key)\u001B[39m\n\u001B[32m   4100\u001B[39m \u001B[38;5;28;01mif\u001B[39;00m \u001B[38;5;28mself\u001B[39m.columns.nlevels > \u001B[32m1\u001B[39m:\n\u001B[32m   4101\u001B[39m     \u001B[38;5;28;01mreturn\u001B[39;00m \u001B[38;5;28mself\u001B[39m._getitem_multilevel(key)\n\u001B[32m-> \u001B[39m\u001B[32m4102\u001B[39m indexer = \u001B[38;5;28;43mself\u001B[39;49m\u001B[43m.\u001B[49m\u001B[43mcolumns\u001B[49m\u001B[43m.\u001B[49m\u001B[43mget_loc\u001B[49m\u001B[43m(\u001B[49m\u001B[43mkey\u001B[49m\u001B[43m)\u001B[49m\n\u001B[32m   4103\u001B[39m \u001B[38;5;28;01mif\u001B[39;00m is_integer(indexer):\n\u001B[32m   4104\u001B[39m     indexer = [indexer]\n",
      "\u001B[36mFile \u001B[39m\u001B[32m~/personal_projects/python_projects/python-for-finances/venv/lib/python3.12/site-packages/pandas/core/indexes/base.py:3812\u001B[39m, in \u001B[36mIndex.get_loc\u001B[39m\u001B[34m(self, key)\u001B[39m\n\u001B[32m   3807\u001B[39m     \u001B[38;5;28;01mif\u001B[39;00m \u001B[38;5;28misinstance\u001B[39m(casted_key, \u001B[38;5;28mslice\u001B[39m) \u001B[38;5;129;01mor\u001B[39;00m (\n\u001B[32m   3808\u001B[39m         \u001B[38;5;28misinstance\u001B[39m(casted_key, abc.Iterable)\n\u001B[32m   3809\u001B[39m         \u001B[38;5;129;01mand\u001B[39;00m \u001B[38;5;28many\u001B[39m(\u001B[38;5;28misinstance\u001B[39m(x, \u001B[38;5;28mslice\u001B[39m) \u001B[38;5;28;01mfor\u001B[39;00m x \u001B[38;5;129;01min\u001B[39;00m casted_key)\n\u001B[32m   3810\u001B[39m     ):\n\u001B[32m   3811\u001B[39m         \u001B[38;5;28;01mraise\u001B[39;00m InvalidIndexError(key)\n\u001B[32m-> \u001B[39m\u001B[32m3812\u001B[39m     \u001B[38;5;28;01mraise\u001B[39;00m \u001B[38;5;167;01mKeyError\u001B[39;00m(key) \u001B[38;5;28;01mfrom\u001B[39;00m\u001B[38;5;250m \u001B[39m\u001B[34;01merr\u001B[39;00m\n\u001B[32m   3813\u001B[39m \u001B[38;5;28;01mexcept\u001B[39;00m \u001B[38;5;167;01mTypeError\u001B[39;00m:\n\u001B[32m   3814\u001B[39m     \u001B[38;5;66;03m# If we have a listlike key, _check_indexing_error will raise\u001B[39;00m\n\u001B[32m   3815\u001B[39m     \u001B[38;5;66;03m#  InvalidIndexError. Otherwise we fall through and re-raise\u001B[39;00m\n\u001B[32m   3816\u001B[39m     \u001B[38;5;66;03m#  the TypeError.\u001B[39;00m\n\u001B[32m   3817\u001B[39m     \u001B[38;5;28mself\u001B[39m._check_indexing_error(key)\n",
      "\u001B[31mKeyError\u001B[39m: ('PG', 'BEI.DE', 'NIO')"
     ]
    }
   ],
   "execution_count": 23
  },
  {
   "metadata": {
    "ExecuteTime": {
     "end_time": "2025-03-28T22:50:22.237355Z",
     "start_time": "2025-03-28T22:50:22.230705Z"
    }
   },
   "cell_type": "code",
   "source": "sec_returns[[\"PG\", \"BEI.DE\", \"NIO\"]].mean() * 250",
   "id": "81c69be698330c1b",
   "outputs": [
    {
     "data": {
      "text/plain": [
       "PG        0.080457\n",
       "BEI.DE    0.055806\n",
       "NIO      -0.085966\n",
       "dtype: float64"
      ]
     },
     "execution_count": 24,
     "metadata": {},
     "output_type": "execute_result"
    }
   ],
   "execution_count": 24
  },
  {
   "metadata": {},
   "cell_type": "markdown",
   "source": "## This is the risk nd high volatility",
   "id": "6cac16f73bda0a63"
  },
  {
   "metadata": {
    "ExecuteTime": {
     "end_time": "2025-03-28T22:50:54.322833Z",
     "start_time": "2025-03-28T22:50:54.301568Z"
    }
   },
   "cell_type": "code",
   "source": "sec_returns[[\"PG\", \"BEI.DE\", \"NIO\"]].std() * 250 ** 0.5",
   "id": "97908bb330516f25",
   "outputs": [
    {
     "data": {
      "text/plain": [
       "PG        0.183979\n",
       "BEI.DE    0.212323\n",
       "NIO       0.861001\n",
       "dtype: float64"
      ]
     },
     "execution_count": 25,
     "metadata": {},
     "output_type": "execute_result"
    }
   ],
   "execution_count": 25
  },
  {
   "metadata": {},
   "cell_type": "markdown",
   "source": "## Covariance and Correlation\n",
   "id": "e51a67f53071624b"
  },
  {
   "metadata": {},
   "cell_type": "markdown",
   "source": "Calculate variance",
   "id": "d2f2899f66a0e801"
  },
  {
   "metadata": {
    "ExecuteTime": {
     "end_time": "2025-03-31T21:04:52.963980Z",
     "start_time": "2025-03-31T21:04:52.943988Z"
    }
   },
   "cell_type": "code",
   "source": [
    "pg_var = sec_returns[\"PG\"].var()\n",
    "pg_var"
   ],
   "id": "eaf5a9f48d0b1daa",
   "outputs": [
    {
     "data": {
      "text/plain": [
       "np.float64(0.00013539242679783486)"
      ]
     },
     "execution_count": 26,
     "metadata": {},
     "output_type": "execute_result"
    }
   ],
   "execution_count": 26
  },
  {
   "metadata": {
    "ExecuteTime": {
     "end_time": "2025-03-31T21:05:56.374551Z",
     "start_time": "2025-03-31T21:05:56.360695Z"
    }
   },
   "cell_type": "code",
   "source": [
    "bei_de_var = sec_returns[\"BEI.DE\"].var()\n",
    "bei_de_var"
   ],
   "id": "f5c88e2ac2b54f35",
   "outputs": [
    {
     "data": {
      "text/plain": [
       "np.float64(0.0001803248385444681)"
      ]
     },
     "execution_count": 27,
     "metadata": {},
     "output_type": "execute_result"
    }
   ],
   "execution_count": 27
  },
  {
   "metadata": {
    "ExecuteTime": {
     "end_time": "2025-03-31T21:05:57.994215Z",
     "start_time": "2025-03-31T21:05:57.988307Z"
    }
   },
   "cell_type": "code",
   "source": [
    "nio_var = sec_returns[\"NIO\"].var()\n",
    "nio_var"
   ],
   "id": "c5e24e539a4c4bc4",
   "outputs": [
    {
     "data": {
      "text/plain": [
       "np.float64(0.002965289582258826)"
      ]
     },
     "execution_count": 28,
     "metadata": {},
     "output_type": "execute_result"
    }
   ],
   "execution_count": 28
  },
  {
   "metadata": {
    "ExecuteTime": {
     "end_time": "2025-03-31T21:17:33.895978Z",
     "start_time": "2025-03-31T21:17:33.881374Z"
    }
   },
   "cell_type": "code",
   "source": [
    "pg_var_a = sec_returns[\"PG\"].var() * 250\n",
    "pg_var_a"
   ],
   "id": "7510c156d0a2cf60",
   "outputs": [
    {
     "data": {
      "text/plain": [
       "np.float64(0.033848106699458716)"
      ]
     },
     "execution_count": 29,
     "metadata": {},
     "output_type": "execute_result"
    }
   ],
   "execution_count": 29
  },
  {
   "metadata": {
    "ExecuteTime": {
     "end_time": "2025-03-31T21:17:35.189742Z",
     "start_time": "2025-03-31T21:17:35.186873Z"
    }
   },
   "cell_type": "code",
   "source": [
    "bei_de_var_a = sec_returns[\"BEI.DE\"].var() * 250\n",
    "bei_de_var_a"
   ],
   "id": "5810879410225153",
   "outputs": [
    {
     "data": {
      "text/plain": [
       "np.float64(0.045081209636117024)"
      ]
     },
     "execution_count": 30,
     "metadata": {},
     "output_type": "execute_result"
    }
   ],
   "execution_count": 30
  },
  {
   "metadata": {
    "ExecuteTime": {
     "end_time": "2025-03-31T21:17:36.607950Z",
     "start_time": "2025-03-31T21:17:36.601602Z"
    }
   },
   "cell_type": "code",
   "source": [
    "nio_var_a = sec_returns[\"NIO\"].var() * 250\n",
    "nio_var_a"
   ],
   "id": "d52ac1a7af1f6164",
   "outputs": [
    {
     "data": {
      "text/plain": [
       "np.float64(0.7413223955647065)"
      ]
     },
     "execution_count": 31,
     "metadata": {},
     "output_type": "execute_result"
    }
   ],
   "execution_count": 31
  },
  {
   "metadata": {},
   "cell_type": "markdown",
   "source": "Calculate covariance",
   "id": "fdae835cbb0430a7"
  },
  {
   "metadata": {
    "ExecuteTime": {
     "end_time": "2025-03-31T21:20:58.870611Z",
     "start_time": "2025-03-31T21:20:58.852705Z"
    }
   },
   "cell_type": "code",
   "source": [
    "cov_matrix = sec_returns.cov()\n",
    "cov_matrix"
   ],
   "id": "158f9f6d0dd2876a",
   "outputs": [
    {
     "data": {
      "text/plain": [
       "              PG       NIO    BEI.DE\n",
       "PG      0.000135  0.000021  0.000042\n",
       "NIO     0.000021  0.002965  0.000042\n",
       "BEI.DE  0.000042  0.000042  0.000180"
      ],
      "text/html": [
       "<div>\n",
       "<style scoped>\n",
       "    .dataframe tbody tr th:only-of-type {\n",
       "        vertical-align: middle;\n",
       "    }\n",
       "\n",
       "    .dataframe tbody tr th {\n",
       "        vertical-align: top;\n",
       "    }\n",
       "\n",
       "    .dataframe thead th {\n",
       "        text-align: right;\n",
       "    }\n",
       "</style>\n",
       "<table border=\"1\" class=\"dataframe\">\n",
       "  <thead>\n",
       "    <tr style=\"text-align: right;\">\n",
       "      <th></th>\n",
       "      <th>PG</th>\n",
       "      <th>NIO</th>\n",
       "      <th>BEI.DE</th>\n",
       "    </tr>\n",
       "  </thead>\n",
       "  <tbody>\n",
       "    <tr>\n",
       "      <th>PG</th>\n",
       "      <td>0.000135</td>\n",
       "      <td>0.000021</td>\n",
       "      <td>0.000042</td>\n",
       "    </tr>\n",
       "    <tr>\n",
       "      <th>NIO</th>\n",
       "      <td>0.000021</td>\n",
       "      <td>0.002965</td>\n",
       "      <td>0.000042</td>\n",
       "    </tr>\n",
       "    <tr>\n",
       "      <th>BEI.DE</th>\n",
       "      <td>0.000042</td>\n",
       "      <td>0.000042</td>\n",
       "      <td>0.000180</td>\n",
       "    </tr>\n",
       "  </tbody>\n",
       "</table>\n",
       "</div>"
      ]
     },
     "execution_count": 32,
     "metadata": {},
     "output_type": "execute_result"
    }
   ],
   "execution_count": 32
  },
  {
   "metadata": {
    "ExecuteTime": {
     "end_time": "2025-03-31T21:21:36.987045Z",
     "start_time": "2025-03-31T21:21:36.967664Z"
    }
   },
   "cell_type": "code",
   "source": [
    "cov_matrix_a = sec_returns.cov() * 250\n",
    "cov_matrix_a"
   ],
   "id": "76244bb5914e6e50",
   "outputs": [
    {
     "data": {
      "text/plain": [
       "              PG       NIO    BEI.DE\n",
       "PG      0.033848  0.005174  0.010396\n",
       "NIO     0.005174  0.741322  0.010522\n",
       "BEI.DE  0.010396  0.010522  0.045081"
      ],
      "text/html": [
       "<div>\n",
       "<style scoped>\n",
       "    .dataframe tbody tr th:only-of-type {\n",
       "        vertical-align: middle;\n",
       "    }\n",
       "\n",
       "    .dataframe tbody tr th {\n",
       "        vertical-align: top;\n",
       "    }\n",
       "\n",
       "    .dataframe thead th {\n",
       "        text-align: right;\n",
       "    }\n",
       "</style>\n",
       "<table border=\"1\" class=\"dataframe\">\n",
       "  <thead>\n",
       "    <tr style=\"text-align: right;\">\n",
       "      <th></th>\n",
       "      <th>PG</th>\n",
       "      <th>NIO</th>\n",
       "      <th>BEI.DE</th>\n",
       "    </tr>\n",
       "  </thead>\n",
       "  <tbody>\n",
       "    <tr>\n",
       "      <th>PG</th>\n",
       "      <td>0.033848</td>\n",
       "      <td>0.005174</td>\n",
       "      <td>0.010396</td>\n",
       "    </tr>\n",
       "    <tr>\n",
       "      <th>NIO</th>\n",
       "      <td>0.005174</td>\n",
       "      <td>0.741322</td>\n",
       "      <td>0.010522</td>\n",
       "    </tr>\n",
       "    <tr>\n",
       "      <th>BEI.DE</th>\n",
       "      <td>0.010396</td>\n",
       "      <td>0.010522</td>\n",
       "      <td>0.045081</td>\n",
       "    </tr>\n",
       "  </tbody>\n",
       "</table>\n",
       "</div>"
      ]
     },
     "execution_count": 33,
     "metadata": {},
     "output_type": "execute_result"
    }
   ],
   "execution_count": 33
  },
  {
   "metadata": {},
   "cell_type": "markdown",
   "source": "Correlation",
   "id": "8ba0fa316681dd69"
  },
  {
   "metadata": {},
   "cell_type": "markdown",
   "source": "Note: the following cell is not the correlation between the price of the three equities!",
   "id": "2646ff09cc62c745"
  },
  {
   "metadata": {
    "ExecuteTime": {
     "end_time": "2025-03-31T21:24:00.536808Z",
     "start_time": "2025-03-31T21:24:00.505543Z"
    }
   },
   "cell_type": "code",
   "source": [
    "corr_matrix = sec_returns.corr()\n",
    "corr_matrix"
   ],
   "id": "f9910b45a85fb100",
   "outputs": [
    {
     "data": {
      "text/plain": [
       "              PG       NIO    BEI.DE\n",
       "PG      1.000000  0.029403  0.265523\n",
       "NIO     0.029403  1.000000  0.060234\n",
       "BEI.DE  0.265523  0.060234  1.000000"
      ],
      "text/html": [
       "<div>\n",
       "<style scoped>\n",
       "    .dataframe tbody tr th:only-of-type {\n",
       "        vertical-align: middle;\n",
       "    }\n",
       "\n",
       "    .dataframe tbody tr th {\n",
       "        vertical-align: top;\n",
       "    }\n",
       "\n",
       "    .dataframe thead th {\n",
       "        text-align: right;\n",
       "    }\n",
       "</style>\n",
       "<table border=\"1\" class=\"dataframe\">\n",
       "  <thead>\n",
       "    <tr style=\"text-align: right;\">\n",
       "      <th></th>\n",
       "      <th>PG</th>\n",
       "      <th>NIO</th>\n",
       "      <th>BEI.DE</th>\n",
       "    </tr>\n",
       "  </thead>\n",
       "  <tbody>\n",
       "    <tr>\n",
       "      <th>PG</th>\n",
       "      <td>1.000000</td>\n",
       "      <td>0.029403</td>\n",
       "      <td>0.265523</td>\n",
       "    </tr>\n",
       "    <tr>\n",
       "      <th>NIO</th>\n",
       "      <td>0.029403</td>\n",
       "      <td>1.000000</td>\n",
       "      <td>0.060234</td>\n",
       "    </tr>\n",
       "    <tr>\n",
       "      <th>BEI.DE</th>\n",
       "      <td>0.265523</td>\n",
       "      <td>0.060234</td>\n",
       "      <td>1.000000</td>\n",
       "    </tr>\n",
       "  </tbody>\n",
       "</table>\n",
       "</div>"
      ]
     },
     "execution_count": 34,
     "metadata": {},
     "output_type": "execute_result"
    }
   ],
   "execution_count": 34
  },
  {
   "metadata": {},
   "cell_type": "markdown",
   "source": [
    "## Calculating Portfolio Risk\n",
    "\n",
    "Equal weighting schema"
   ],
   "id": "c031e892ec367dcd"
  },
  {
   "metadata": {
    "ExecuteTime": {
     "end_time": "2025-04-01T08:22:44.748807Z",
     "start_time": "2025-04-01T08:22:44.733575Z"
    }
   },
   "cell_type": "code",
   "source": [
    "# here we decide how many percent we are investing in our tickers\n",
    "weights = np.array([0.33,0.33,0.33])"
   ],
   "id": "369c5ef31485742f",
   "outputs": [],
   "execution_count": 35
  },
  {
   "metadata": {},
   "cell_type": "markdown",
   "source": "Portfolio Variance",
   "id": "d96353038ceca5d7"
  },
  {
   "metadata": {
    "ExecuteTime": {
     "end_time": "2025-04-01T08:24:21.624433Z",
     "start_time": "2025-04-01T08:24:21.606456Z"
    }
   },
   "cell_type": "code",
   "source": [
    "pfolio_var = np.dot(weights.T, np.dot(sec_returns.cov() * 250, weights))\n",
    "pfolio_var"
   ],
   "id": "4522c2440425323f",
   "outputs": [
    {
     "data": {
      "text/plain": [
       "np.float64(0.09500834077427761)"
      ]
     },
     "execution_count": 36,
     "metadata": {},
     "output_type": "execute_result"
    }
   ],
   "execution_count": 36
  },
  {
   "metadata": {},
   "cell_type": "markdown",
   "source": "Portfolio Volatility",
   "id": "e3b7843d7ec9ec32"
  },
  {
   "metadata": {
    "ExecuteTime": {
     "end_time": "2025-04-01T08:26:13.220725Z",
     "start_time": "2025-04-01T08:26:13.205064Z"
    }
   },
   "cell_type": "code",
   "source": [
    "pfolio_vol = (np.dot(weights.T, np.dot(sec_returns.cov() * 250, weights))) * 0.5\n",
    "pfolio_vol"
   ],
   "id": "30b27db0a1742ef7",
   "outputs": [
    {
     "data": {
      "text/plain": [
       "np.float64(0.047504170387138805)"
      ]
     },
     "execution_count": 37,
     "metadata": {},
     "output_type": "execute_result"
    }
   ],
   "execution_count": 37
  },
  {
   "metadata": {
    "ExecuteTime": {
     "end_time": "2025-04-01T08:26:53.275710Z",
     "start_time": "2025-04-01T08:26:53.262678Z"
    }
   },
   "cell_type": "code",
   "source": "print(str(round(pfolio_vol, 5) * 100) + ' %')",
   "id": "37911b311d7af730",
   "outputs": [
    {
     "name": "stdout",
     "output_type": "stream",
     "text": [
      "4.75 %\n"
     ]
    }
   ],
   "execution_count": 38
  },
  {
   "metadata": {},
   "cell_type": "markdown",
   "source": "## Calculating Diversifiable and Non-diversifiable Risk of a Portfolio",
   "id": "5d95eec63dcbfb76"
  },
  {
   "metadata": {
    "ExecuteTime": {
     "end_time": "2025-04-01T16:04:58.264833Z",
     "start_time": "2025-04-01T16:04:58.206986Z"
    }
   },
   "cell_type": "code",
   "source": [
    "# weights = np.array([0.33,0.33,0.33])\n",
    "print(weights[0])\n",
    "print(weights[1])\n",
    "print(weights[2])"
   ],
   "id": "ab7029efccc03383",
   "outputs": [
    {
     "name": "stdout",
     "output_type": "stream",
     "text": [
      "0.33\n",
      "0.33\n",
      "0.33\n"
     ]
    }
   ],
   "execution_count": 39
  },
  {
   "metadata": {},
   "cell_type": "markdown",
   "source": "Diversifiable Risk:",
   "id": "4cac5188349d4f13"
  },
  {
   "metadata": {
    "ExecuteTime": {
     "end_time": "2025-04-01T16:06:09.975101Z",
     "start_time": "2025-04-01T16:06:09.949160Z"
    }
   },
   "cell_type": "code",
   "source": [
    "# pg_var_a = sec_returns['PG'].var() * 250\n",
    "pg_var_a"
   ],
   "id": "101c43f77a7acce3",
   "outputs": [
    {
     "data": {
      "text/plain": [
       "np.float64(0.033848106699458716)"
      ]
     },
     "execution_count": 40,
     "metadata": {},
     "output_type": "execute_result"
    }
   ],
   "execution_count": 40
  },
  {
   "metadata": {
    "ExecuteTime": {
     "end_time": "2025-04-01T16:06:57.453166Z",
     "start_time": "2025-04-01T16:06:57.445248Z"
    }
   },
   "cell_type": "code",
   "source": [
    "# bei_de_var_a = sec_returns['BEI.DE'].var() * 250\n",
    "bei_de_var_a"
   ],
   "id": "902c5d044742d5d0",
   "outputs": [
    {
     "data": {
      "text/plain": [
       "np.float64(0.045081209636117024)"
      ]
     },
     "execution_count": 41,
     "metadata": {},
     "output_type": "execute_result"
    }
   ],
   "execution_count": 41
  },
  {
   "metadata": {
    "ExecuteTime": {
     "end_time": "2025-04-01T16:07:24.545060Z",
     "start_time": "2025-04-01T16:07:24.537468Z"
    }
   },
   "cell_type": "code",
   "source": [
    "# nio_var_a = sec_returns['NIO'].var() * 250\n",
    "nio_var_a"
   ],
   "id": "d180db6195d8e6a",
   "outputs": [
    {
     "data": {
      "text/plain": [
       "np.float64(0.7413223955647065)"
      ]
     },
     "execution_count": 42,
     "metadata": {},
     "output_type": "execute_result"
    }
   ],
   "execution_count": 42
  },
  {
   "metadata": {
    "ExecuteTime": {
     "end_time": "2025-04-01T16:12:07.770577Z",
     "start_time": "2025-04-01T16:12:07.733488Z"
    }
   },
   "cell_type": "code",
   "source": [
    "dr = pfolio_var - (weights[0] ** 2 * pg_var_a) - (weights[1] ** 2 * bei_de_var_a) - (weights[2] ** 2 * nio_var_a)\n",
    "dr"
   ],
   "id": "ace86e81de076006",
   "outputs": [
    {
     "data": {
      "text/plain": [
       "np.float64(0.0056829293483368765)"
      ]
     },
     "execution_count": 43,
     "metadata": {},
     "output_type": "execute_result"
    }
   ],
   "execution_count": 43
  },
  {
   "metadata": {
    "ExecuteTime": {
     "end_time": "2025-04-01T16:14:48.921122Z",
     "start_time": "2025-04-01T16:14:48.906653Z"
    }
   },
   "cell_type": "code",
   "source": "print(str(round(dr*100, 3)) + ' %')",
   "id": "448848567d6aeed3",
   "outputs": [
    {
     "name": "stdout",
     "output_type": "stream",
     "text": [
      "0.568 %\n"
     ]
    }
   ],
   "execution_count": 44
  },
  {
   "metadata": {},
   "cell_type": "markdown",
   "source": "## Non-Diversifiable Risk",
   "id": "8eedd5b6abc32bf2"
  },
  {
   "metadata": {
    "ExecuteTime": {
     "end_time": "2025-04-01T16:17:03.000167Z",
     "start_time": "2025-04-01T16:17:02.988508Z"
    }
   },
   "cell_type": "code",
   "source": [
    "n_dr_1 = pfolio_var - dr\n",
    "n_dr_1"
   ],
   "id": "88c46c8b71b062e2",
   "outputs": [
    {
     "data": {
      "text/plain": [
       "np.float64(0.08932541142594073)"
      ]
     },
     "execution_count": 46,
     "metadata": {},
     "output_type": "execute_result"
    }
   ],
   "execution_count": 46
  },
  {
   "metadata": {
    "ExecuteTime": {
     "end_time": "2025-04-01T16:18:23.161168Z",
     "start_time": "2025-04-01T16:18:23.154042Z"
    }
   },
   "cell_type": "code",
   "source": [
    "n_dr_2 = (weights[0] ** 2 * pg_var_a) + (weights[1] ** 2 * bei_de_var_a) + (weights[2] ** 2 * nio_var_a)\n",
    "n_dr_2"
   ],
   "id": "d76e5e63e8cf506e",
   "outputs": [
    {
     "data": {
      "text/plain": [
       "np.float64(0.08932541142594073)"
      ]
     },
     "execution_count": 47,
     "metadata": {},
     "output_type": "execute_result"
    }
   ],
   "execution_count": 47
  },
  {
   "metadata": {
    "ExecuteTime": {
     "end_time": "2025-04-01T16:18:37.226557Z",
     "start_time": "2025-04-01T16:18:37.217327Z"
    }
   },
   "cell_type": "code",
   "source": "n_dr_1 == n_dr_2",
   "id": "eec2de7c4740e25b",
   "outputs": [
    {
     "data": {
      "text/plain": [
       "np.True_"
      ]
     },
     "execution_count": 48,
     "metadata": {},
     "output_type": "execute_result"
    }
   ],
   "execution_count": 48
  },
  {
   "metadata": {},
   "cell_type": "code",
   "outputs": [],
   "execution_count": null,
   "source": "",
   "id": "e450ccbe1b9f8275"
  }
 ],
 "metadata": {
  "kernelspec": {
   "display_name": "Python 3",
   "language": "python",
   "name": "python3"
  },
  "language_info": {
   "codemirror_mode": {
    "name": "ipython",
    "version": 2
   },
   "file_extension": ".py",
   "mimetype": "text/x-python",
   "name": "python",
   "nbconvert_exporter": "python",
   "pygments_lexer": "ipython2",
   "version": "2.7.6"
  }
 },
 "nbformat": 4,
 "nbformat_minor": 5
}
