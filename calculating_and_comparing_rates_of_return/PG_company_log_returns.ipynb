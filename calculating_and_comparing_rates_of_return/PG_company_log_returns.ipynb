{
 "cells": [
  {
   "cell_type": "code",
   "id": "initial_id",
   "metadata": {
    "collapsed": true,
    "ExecuteTime": {
     "end_time": "2025-03-26T17:59:54.135911Z",
     "start_time": "2025-03-26T17:59:53.344920Z"
    }
   },
   "source": [
    "import numpy as np\n",
    "import polars as pl\n",
    "import pandas as pd\n",
    "import matplotlib.pyplot as mpl\n",
    "from pandas_datareader import data as wb"
   ],
   "outputs": [],
   "execution_count": 2
  },
  {
   "metadata": {
    "ExecuteTime": {
     "end_time": "2025-03-26T17:59:56.496008Z",
     "start_time": "2025-03-26T17:59:56.473862Z"
    }
   },
   "cell_type": "code",
   "source": [
    "df_pg_1 = pd.read_csv(\"../files/data_historical_PG.csv\", decimal=',', thousands='M')\n",
    "df_pg_2 = pd.read_csv(\"../files/data_historical_PG_2.csv\", decimal=',', thousands='M')\n",
    "\n",
    "df_pg = pd.concat([df_pg_1, df_pg_2])\n"
   ],
   "id": "c4219f47c54b1c21",
   "outputs": [],
   "execution_count": 3
  },
  {
   "metadata": {
    "ExecuteTime": {
     "end_time": "2025-03-26T17:59:58.569235Z",
     "start_time": "2025-03-26T17:59:58.538676Z"
    }
   },
   "cell_type": "code",
   "source": [
    "# transform the data to correct dtype\n",
    "df_pg['Fecha'] = pd.to_datetime(df_pg['Fecha'], format=\"%d.%m.%Y\")\n",
    "df_pg['Último'] = df_pg['Último'].astype(float)\n",
    "df_pg['Apertura'] = df_pg['Apertura'].astype(float)\n",
    "df_pg['Máximo'] = df_pg['Máximo'].astype(float)\n",
    "df_pg['Mínimo'] = df_pg['Mínimo'].astype(float)\n"
   ],
   "id": "20bf41612fd0b61d",
   "outputs": [],
   "execution_count": 4
  },
  {
   "metadata": {
    "ExecuteTime": {
     "end_time": "2025-03-26T18:00:01.679633Z",
     "start_time": "2025-03-26T18:00:01.660920Z"
    }
   },
   "cell_type": "code",
   "source": "df_pg = df_pg.set_index('Fecha')",
   "id": "228672f77cf143d9",
   "outputs": [],
   "execution_count": 5
  },
  {
   "metadata": {
    "ExecuteTime": {
     "end_time": "2025-03-26T18:00:02.780484Z",
     "start_time": "2025-03-26T18:00:02.766503Z"
    }
   },
   "cell_type": "code",
   "source": "df_pg.head()",
   "id": "412293210f1f96c1",
   "outputs": [
    {
     "data": {
      "text/plain": [
       "            Último  Apertura  Máximo  Mínimo   Vol.  % var.\n",
       "Fecha                                                      \n",
       "1995-01-03   15.47     15.35   15.51   15.32  3,32M   0,59%\n",
       "1995-01-04   15.35     15.41   15.54   15.20  2,22M  -0,78%\n",
       "1995-01-05   15.13     15.26   15.32   15.10  2,32M  -1,43%\n",
       "1995-01-06   15.16     15.04   15.29   15.04  3,44M   0,20%\n",
       "1995-01-09   15.10     15.23   15.29   15.07  1,80M  -0,40%"
      ],
      "text/html": [
       "<div>\n",
       "<style scoped>\n",
       "    .dataframe tbody tr th:only-of-type {\n",
       "        vertical-align: middle;\n",
       "    }\n",
       "\n",
       "    .dataframe tbody tr th {\n",
       "        vertical-align: top;\n",
       "    }\n",
       "\n",
       "    .dataframe thead th {\n",
       "        text-align: right;\n",
       "    }\n",
       "</style>\n",
       "<table border=\"1\" class=\"dataframe\">\n",
       "  <thead>\n",
       "    <tr style=\"text-align: right;\">\n",
       "      <th></th>\n",
       "      <th>Último</th>\n",
       "      <th>Apertura</th>\n",
       "      <th>Máximo</th>\n",
       "      <th>Mínimo</th>\n",
       "      <th>Vol.</th>\n",
       "      <th>% var.</th>\n",
       "    </tr>\n",
       "    <tr>\n",
       "      <th>Fecha</th>\n",
       "      <th></th>\n",
       "      <th></th>\n",
       "      <th></th>\n",
       "      <th></th>\n",
       "      <th></th>\n",
       "      <th></th>\n",
       "    </tr>\n",
       "  </thead>\n",
       "  <tbody>\n",
       "    <tr>\n",
       "      <th>1995-01-03</th>\n",
       "      <td>15.47</td>\n",
       "      <td>15.35</td>\n",
       "      <td>15.51</td>\n",
       "      <td>15.32</td>\n",
       "      <td>3,32M</td>\n",
       "      <td>0,59%</td>\n",
       "    </tr>\n",
       "    <tr>\n",
       "      <th>1995-01-04</th>\n",
       "      <td>15.35</td>\n",
       "      <td>15.41</td>\n",
       "      <td>15.54</td>\n",
       "      <td>15.20</td>\n",
       "      <td>2,22M</td>\n",
       "      <td>-0,78%</td>\n",
       "    </tr>\n",
       "    <tr>\n",
       "      <th>1995-01-05</th>\n",
       "      <td>15.13</td>\n",
       "      <td>15.26</td>\n",
       "      <td>15.32</td>\n",
       "      <td>15.10</td>\n",
       "      <td>2,32M</td>\n",
       "      <td>-1,43%</td>\n",
       "    </tr>\n",
       "    <tr>\n",
       "      <th>1995-01-06</th>\n",
       "      <td>15.16</td>\n",
       "      <td>15.04</td>\n",
       "      <td>15.29</td>\n",
       "      <td>15.04</td>\n",
       "      <td>3,44M</td>\n",
       "      <td>0,20%</td>\n",
       "    </tr>\n",
       "    <tr>\n",
       "      <th>1995-01-09</th>\n",
       "      <td>15.10</td>\n",
       "      <td>15.23</td>\n",
       "      <td>15.29</td>\n",
       "      <td>15.07</td>\n",
       "      <td>1,80M</td>\n",
       "      <td>-0,40%</td>\n",
       "    </tr>\n",
       "  </tbody>\n",
       "</table>\n",
       "</div>"
      ]
     },
     "execution_count": 6,
     "metadata": {},
     "output_type": "execute_result"
    }
   ],
   "execution_count": 6
  },
  {
   "metadata": {
    "ExecuteTime": {
     "end_time": "2025-03-26T18:00:04.584753Z",
     "start_time": "2025-03-26T18:00:04.567323Z"
    }
   },
   "cell_type": "code",
   "source": "df_pg.tail()",
   "id": "467afc38cba5082f",
   "outputs": [
    {
     "data": {
      "text/plain": [
       "            Último  Apertura  Máximo  Mínimo    Vol.  % var.\n",
       "Fecha                                                       \n",
       "2025-03-20  167.55    168.89  169.21  166.03   8,79M  -0,61%\n",
       "2025-03-21  166.69    167.14  168.14  164.12  16,03M  -0,51%\n",
       "2025-03-24  165.65    166.43  166.87  165.36   6,10M  -0,62%\n",
       "2025-03-25  162.85    163.12  165.37  162.20   8,37M  -1,69%\n",
       "2025-03-26  165.69    163.30  165.84  163.00   2,68M   1,74%"
      ],
      "text/html": [
       "<div>\n",
       "<style scoped>\n",
       "    .dataframe tbody tr th:only-of-type {\n",
       "        vertical-align: middle;\n",
       "    }\n",
       "\n",
       "    .dataframe tbody tr th {\n",
       "        vertical-align: top;\n",
       "    }\n",
       "\n",
       "    .dataframe thead th {\n",
       "        text-align: right;\n",
       "    }\n",
       "</style>\n",
       "<table border=\"1\" class=\"dataframe\">\n",
       "  <thead>\n",
       "    <tr style=\"text-align: right;\">\n",
       "      <th></th>\n",
       "      <th>Último</th>\n",
       "      <th>Apertura</th>\n",
       "      <th>Máximo</th>\n",
       "      <th>Mínimo</th>\n",
       "      <th>Vol.</th>\n",
       "      <th>% var.</th>\n",
       "    </tr>\n",
       "    <tr>\n",
       "      <th>Fecha</th>\n",
       "      <th></th>\n",
       "      <th></th>\n",
       "      <th></th>\n",
       "      <th></th>\n",
       "      <th></th>\n",
       "      <th></th>\n",
       "    </tr>\n",
       "  </thead>\n",
       "  <tbody>\n",
       "    <tr>\n",
       "      <th>2025-03-20</th>\n",
       "      <td>167.55</td>\n",
       "      <td>168.89</td>\n",
       "      <td>169.21</td>\n",
       "      <td>166.03</td>\n",
       "      <td>8,79M</td>\n",
       "      <td>-0,61%</td>\n",
       "    </tr>\n",
       "    <tr>\n",
       "      <th>2025-03-21</th>\n",
       "      <td>166.69</td>\n",
       "      <td>167.14</td>\n",
       "      <td>168.14</td>\n",
       "      <td>164.12</td>\n",
       "      <td>16,03M</td>\n",
       "      <td>-0,51%</td>\n",
       "    </tr>\n",
       "    <tr>\n",
       "      <th>2025-03-24</th>\n",
       "      <td>165.65</td>\n",
       "      <td>166.43</td>\n",
       "      <td>166.87</td>\n",
       "      <td>165.36</td>\n",
       "      <td>6,10M</td>\n",
       "      <td>-0,62%</td>\n",
       "    </tr>\n",
       "    <tr>\n",
       "      <th>2025-03-25</th>\n",
       "      <td>162.85</td>\n",
       "      <td>163.12</td>\n",
       "      <td>165.37</td>\n",
       "      <td>162.20</td>\n",
       "      <td>8,37M</td>\n",
       "      <td>-1,69%</td>\n",
       "    </tr>\n",
       "    <tr>\n",
       "      <th>2025-03-26</th>\n",
       "      <td>165.69</td>\n",
       "      <td>163.30</td>\n",
       "      <td>165.84</td>\n",
       "      <td>163.00</td>\n",
       "      <td>2,68M</td>\n",
       "      <td>1,74%</td>\n",
       "    </tr>\n",
       "  </tbody>\n",
       "</table>\n",
       "</div>"
      ]
     },
     "execution_count": 7,
     "metadata": {},
     "output_type": "execute_result"
    }
   ],
   "execution_count": 7
  },
  {
   "metadata": {},
   "cell_type": "markdown",
   "source": [
    "## Log Return\n",
    "\n",
    "ln(Pt / Pt - 1)"
   ],
   "id": "9b310bcbbffef2a6"
  },
  {
   "metadata": {
    "ExecuteTime": {
     "end_time": "2025-03-26T18:00:08.970153Z",
     "start_time": "2025-03-26T18:00:08.949303Z"
    }
   },
   "cell_type": "code",
   "source": [
    "df_pg['log_return'] = np.log(df_pg['Último'] / df_pg['Último'].shift(1))\n",
    "print(df_pg['log_return'])"
   ],
   "id": "935f3e149a33b97b",
   "outputs": [
    {
     "name": "stdout",
     "output_type": "stream",
     "text": [
      "Fecha\n",
      "1995-01-03         NaN\n",
      "1995-01-04   -0.007787\n",
      "1995-01-05   -0.014436\n",
      "1995-01-06    0.001981\n",
      "1995-01-09   -0.003966\n",
      "                ...   \n",
      "2025-03-20   -0.006069\n",
      "2025-03-21   -0.005146\n",
      "2025-03-24   -0.006259\n",
      "2025-03-25   -0.017048\n",
      "2025-03-26    0.017289\n",
      "Name: log_return, Length: 7609, dtype: float64\n"
     ]
    }
   ],
   "execution_count": 8
  },
  {
   "metadata": {
    "ExecuteTime": {
     "end_time": "2025-03-26T18:00:25.407798Z",
     "start_time": "2025-03-26T18:00:25.252954Z"
    }
   },
   "cell_type": "code",
   "source": "df_pg['log_return'].plot(figsize=(8,5))",
   "id": "b19dba55918e9ee0",
   "outputs": [
    {
     "data": {
      "text/plain": [
       "<Axes: xlabel='Fecha'>"
      ]
     },
     "execution_count": 9,
     "metadata": {},
     "output_type": "execute_result"
    },
    {
     "data": {
      "text/plain": [
       "<Figure size 800x500 with 1 Axes>"
      ],
      "image/png": "[encoded data removed]"
     },
     "metadata": {},
     "output_type": "display_data"
    }
   ],
   "execution_count": 9
  },
  {
   "metadata": {
    "ExecuteTime": {
     "end_time": "2025-03-26T18:01:17.528711Z",
     "start_time": "2025-03-26T18:01:17.515625Z"
    }
   },
   "cell_type": "code",
   "source": [
    " # Calculate the mean of log return\n",
    "log_returns_d = df_pg['log_return'].mean()\n",
    "log_returns_d"
   ],
   "id": "10c5eb671d307550",
   "outputs": [
    {
     "data": {
      "text/plain": [
       "np.float64(0.0003116740152466132)"
      ]
     },
     "execution_count": 10,
     "metadata": {},
     "output_type": "execute_result"
    }
   ],
   "execution_count": 10
  },
  {
   "metadata": {
    "ExecuteTime": {
     "end_time": "2025-03-26T18:01:19.909294Z",
     "start_time": "2025-03-26T18:01:19.900846Z"
    }
   },
   "cell_type": "code",
   "source": [
    "# Calculate the mean by days worked, the mean are 250 days, depends on the year\n",
    "log_returns_a = df_pg['log_return'].mean() * 250\n",
    "log_returns_a"
   ],
   "id": "f327af417d5a08d4",
   "outputs": [
    {
     "data": {
      "text/plain": [
       "np.float64(0.0779185038116533)"
      ]
     },
     "execution_count": 11,
     "metadata": {},
     "output_type": "execute_result"
    }
   ],
   "execution_count": 11
  },
  {
   "metadata": {
    "ExecuteTime": {
     "end_time": "2025-03-26T18:01:31.909729Z",
     "start_time": "2025-03-26T18:01:31.895792Z"
    }
   },
   "cell_type": "code",
   "source": [
    "# Estimation the avg for PG\n",
    "print(str(round(log_returns_a, 5) * 100) + ' %')"
   ],
   "id": "8897111c8d4cd314",
   "outputs": [
    {
     "name": "stdout",
     "output_type": "stream",
     "text": [
      "7.792000000000001 %\n"
     ]
    }
   ],
   "execution_count": 12
  }
 ],
 "metadata": {
  "kernelspec": {
   "display_name": "Python 3",
   "language": "python",
   "name": "python3"
  },
  "language_info": {
   "codemirror_mode": {
    "name": "ipython",
    "version": 2
   },
   "file_extension": ".py",
   "mimetype": "text/x-python",
   "name": "python",
   "nbconvert_exporter": "python",
   "pygments_lexer": "ipython2",
   "version": "2.7.6"
  }
 },
 "nbformat": 4,
 "nbformat_minor": 5
}
