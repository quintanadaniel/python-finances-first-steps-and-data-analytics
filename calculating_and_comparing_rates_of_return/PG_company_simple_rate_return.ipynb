{
 "cells": [
  {
   "cell_type": "code",
   "id": "initial_id",
   "metadata": {
    "collapsed": true,
    "ExecuteTime": {
     "end_time": "2025-03-26T15:59:57.570541Z",
     "start_time": "2025-03-26T15:59:57.556928Z"
    }
   },
   "source": [
    "import numpy as np\n",
    "import polars as pl\n",
    "import pandas as pd\n",
    "import matplotlib.pyplot as mpl\n",
    "from pandas_datareader import data as wb"
   ],
   "outputs": [],
   "execution_count": 6
  },
  {
   "metadata": {
    "ExecuteTime": {
     "end_time": "2025-03-26T16:48:54.496186Z",
     "start_time": "2025-03-26T16:48:54.461227Z"
    }
   },
   "cell_type": "code",
   "source": [
    "df_pg_1 = pd.read_csv(\"../files/data_historical_PG.csv\", decimal=',', thousands='M')\n",
    "df_pg_2 = pd.read_csv(\"../files/data_historical_PG_2.csv\", decimal=',', thousands='M')\n",
    "\n",
    "df_pg = pd.concat([df_pg_1, df_pg_2])\n"
   ],
   "id": "c4219f47c54b1c21",
   "outputs": [],
   "execution_count": 43
  },
  {
   "metadata": {
    "ExecuteTime": {
     "end_time": "2025-03-26T17:24:32.578904Z",
     "start_time": "2025-03-26T17:24:32.548487Z"
    }
   },
   "cell_type": "code",
   "source": [
    "# transform the data to correct dtype\n",
    "df_pg['Fecha'] = pd.to_datetime(df_pg['Fecha'], format=\"%d.%m.%Y\")\n",
    "df_pg['Último'] = df_pg['Último'].astype(float)\n",
    "df_pg['Apertura'] = df_pg['Apertura'].astype(float)\n",
    "df_pg['Máximo'] = df_pg['Máximo'].astype(float)\n",
    "df_pg['Mínimo'] = df_pg['Mínimo'].astype(float)\n"
   ],
   "id": "20bf41612fd0b61d",
   "outputs": [],
   "execution_count": 60
  },
  {
   "metadata": {
    "ExecuteTime": {
     "end_time": "2025-03-26T17:24:03.798584Z",
     "start_time": "2025-03-26T17:24:03.737161Z"
    }
   },
   "cell_type": "code",
   "source": "df_pg = df_pg.set_index('Fecha')",
   "id": "228672f77cf143d9",
   "outputs": [
    {
     "data": {
      "text/plain": [
       "0      1995-01-03\n",
       "1      1995-01-04\n",
       "2      1995-01-05\n",
       "3      1995-01-06\n",
       "4      1995-01-09\n",
       "          ...    \n",
       "2604   2025-03-20\n",
       "2605   2025-03-21\n",
       "2606   2025-03-24\n",
       "2607   2025-03-25\n",
       "2608   2025-03-26\n",
       "Name: Fecha, Length: 7609, dtype: datetime64[ns]"
      ]
     },
     "execution_count": 59,
     "metadata": {},
     "output_type": "execute_result"
    }
   ],
   "execution_count": 59
  },
  {
   "metadata": {
    "ExecuteTime": {
     "end_time": "2025-03-26T17:37:41.866563Z",
     "start_time": "2025-03-26T17:37:41.837974Z"
    }
   },
   "cell_type": "code",
   "source": "df_pg.head()",
   "id": "412293210f1f96c1",
   "outputs": [
    {
     "data": {
      "text/plain": [
       "            Último  Apertura  Máximo  Mínimo   Vol.  % var.  simple_return\n",
       "Fecha                                                                     \n",
       "1995-01-03   15.47     15.35   15.51   15.32  3,32M   0,59%            NaN\n",
       "1995-01-04   15.35     15.41   15.54   15.20  2,22M  -0,78%      -0.007757\n",
       "1995-01-05   15.13     15.26   15.32   15.10  2,32M  -1,43%      -0.014332\n",
       "1995-01-06   15.16     15.04   15.29   15.04  3,44M   0,20%       0.001983\n",
       "1995-01-09   15.10     15.23   15.29   15.07  1,80M  -0,40%      -0.003958"
      ],
      "text/html": [
       "<div>\n",
       "<style scoped>\n",
       "    .dataframe tbody tr th:only-of-type {\n",
       "        vertical-align: middle;\n",
       "    }\n",
       "\n",
       "    .dataframe tbody tr th {\n",
       "        vertical-align: top;\n",
       "    }\n",
       "\n",
       "    .dataframe thead th {\n",
       "        text-align: right;\n",
       "    }\n",
       "</style>\n",
       "<table border=\"1\" class=\"dataframe\">\n",
       "  <thead>\n",
       "    <tr style=\"text-align: right;\">\n",
       "      <th></th>\n",
       "      <th>Último</th>\n",
       "      <th>Apertura</th>\n",
       "      <th>Máximo</th>\n",
       "      <th>Mínimo</th>\n",
       "      <th>Vol.</th>\n",
       "      <th>% var.</th>\n",
       "      <th>simple_return</th>\n",
       "    </tr>\n",
       "    <tr>\n",
       "      <th>Fecha</th>\n",
       "      <th></th>\n",
       "      <th></th>\n",
       "      <th></th>\n",
       "      <th></th>\n",
       "      <th></th>\n",
       "      <th></th>\n",
       "      <th></th>\n",
       "    </tr>\n",
       "  </thead>\n",
       "  <tbody>\n",
       "    <tr>\n",
       "      <th>1995-01-03</th>\n",
       "      <td>15.47</td>\n",
       "      <td>15.35</td>\n",
       "      <td>15.51</td>\n",
       "      <td>15.32</td>\n",
       "      <td>3,32M</td>\n",
       "      <td>0,59%</td>\n",
       "      <td>NaN</td>\n",
       "    </tr>\n",
       "    <tr>\n",
       "      <th>1995-01-04</th>\n",
       "      <td>15.35</td>\n",
       "      <td>15.41</td>\n",
       "      <td>15.54</td>\n",
       "      <td>15.20</td>\n",
       "      <td>2,22M</td>\n",
       "      <td>-0,78%</td>\n",
       "      <td>-0.007757</td>\n",
       "    </tr>\n",
       "    <tr>\n",
       "      <th>1995-01-05</th>\n",
       "      <td>15.13</td>\n",
       "      <td>15.26</td>\n",
       "      <td>15.32</td>\n",
       "      <td>15.10</td>\n",
       "      <td>2,32M</td>\n",
       "      <td>-1,43%</td>\n",
       "      <td>-0.014332</td>\n",
       "    </tr>\n",
       "    <tr>\n",
       "      <th>1995-01-06</th>\n",
       "      <td>15.16</td>\n",
       "      <td>15.04</td>\n",
       "      <td>15.29</td>\n",
       "      <td>15.04</td>\n",
       "      <td>3,44M</td>\n",
       "      <td>0,20%</td>\n",
       "      <td>0.001983</td>\n",
       "    </tr>\n",
       "    <tr>\n",
       "      <th>1995-01-09</th>\n",
       "      <td>15.10</td>\n",
       "      <td>15.23</td>\n",
       "      <td>15.29</td>\n",
       "      <td>15.07</td>\n",
       "      <td>1,80M</td>\n",
       "      <td>-0,40%</td>\n",
       "      <td>-0.003958</td>\n",
       "    </tr>\n",
       "  </tbody>\n",
       "</table>\n",
       "</div>"
      ]
     },
     "execution_count": 70,
     "metadata": {},
     "output_type": "execute_result"
    }
   ],
   "execution_count": 70
  },
  {
   "metadata": {
    "ExecuteTime": {
     "end_time": "2025-03-26T17:24:39.978885Z",
     "start_time": "2025-03-26T17:24:39.967683Z"
    }
   },
   "cell_type": "code",
   "source": "df_pg.tail()",
   "id": "467afc38cba5082f",
   "outputs": [
    {
     "data": {
      "text/plain": [
       "          Fecha  Último  Apertura  Máximo  Mínimo    Vol.  % var.  \\\n",
       "2604 2025-03-20  167.55    168.89  169.21  166.03   8,79M  -0,61%   \n",
       "2605 2025-03-21  166.69    167.14  168.14  164.12  16,03M  -0,51%   \n",
       "2606 2025-03-24  165.65    166.43  166.87  165.36   6,10M  -0,62%   \n",
       "2607 2025-03-25  162.85    163.12  165.37  162.20   8,37M  -1,69%   \n",
       "2608 2025-03-26  165.69    163.30  165.84  163.00   2,68M   1,74%   \n",
       "\n",
       "      simple_return  \n",
       "2604      -0.006051  \n",
       "2605      -0.005133  \n",
       "2606      -0.006239  \n",
       "2607      -0.016903  \n",
       "2608       0.017439  "
      ],
      "text/html": [
       "<div>\n",
       "<style scoped>\n",
       "    .dataframe tbody tr th:only-of-type {\n",
       "        vertical-align: middle;\n",
       "    }\n",
       "\n",
       "    .dataframe tbody tr th {\n",
       "        vertical-align: top;\n",
       "    }\n",
       "\n",
       "    .dataframe thead th {\n",
       "        text-align: right;\n",
       "    }\n",
       "</style>\n",
       "<table border=\"1\" class=\"dataframe\">\n",
       "  <thead>\n",
       "    <tr style=\"text-align: right;\">\n",
       "      <th></th>\n",
       "      <th>Fecha</th>\n",
       "      <th>Último</th>\n",
       "      <th>Apertura</th>\n",
       "      <th>Máximo</th>\n",
       "      <th>Mínimo</th>\n",
       "      <th>Vol.</th>\n",
       "      <th>% var.</th>\n",
       "      <th>simple_return</th>\n",
       "    </tr>\n",
       "  </thead>\n",
       "  <tbody>\n",
       "    <tr>\n",
       "      <th>2604</th>\n",
       "      <td>2025-03-20</td>\n",
       "      <td>167.55</td>\n",
       "      <td>168.89</td>\n",
       "      <td>169.21</td>\n",
       "      <td>166.03</td>\n",
       "      <td>8,79M</td>\n",
       "      <td>-0,61%</td>\n",
       "      <td>-0.006051</td>\n",
       "    </tr>\n",
       "    <tr>\n",
       "      <th>2605</th>\n",
       "      <td>2025-03-21</td>\n",
       "      <td>166.69</td>\n",
       "      <td>167.14</td>\n",
       "      <td>168.14</td>\n",
       "      <td>164.12</td>\n",
       "      <td>16,03M</td>\n",
       "      <td>-0,51%</td>\n",
       "      <td>-0.005133</td>\n",
       "    </tr>\n",
       "    <tr>\n",
       "      <th>2606</th>\n",
       "      <td>2025-03-24</td>\n",
       "      <td>165.65</td>\n",
       "      <td>166.43</td>\n",
       "      <td>166.87</td>\n",
       "      <td>165.36</td>\n",
       "      <td>6,10M</td>\n",
       "      <td>-0,62%</td>\n",
       "      <td>-0.006239</td>\n",
       "    </tr>\n",
       "    <tr>\n",
       "      <th>2607</th>\n",
       "      <td>2025-03-25</td>\n",
       "      <td>162.85</td>\n",
       "      <td>163.12</td>\n",
       "      <td>165.37</td>\n",
       "      <td>162.20</td>\n",
       "      <td>8,37M</td>\n",
       "      <td>-1,69%</td>\n",
       "      <td>-0.016903</td>\n",
       "    </tr>\n",
       "    <tr>\n",
       "      <th>2608</th>\n",
       "      <td>2025-03-26</td>\n",
       "      <td>165.69</td>\n",
       "      <td>163.30</td>\n",
       "      <td>165.84</td>\n",
       "      <td>163.00</td>\n",
       "      <td>2,68M</td>\n",
       "      <td>1,74%</td>\n",
       "      <td>0.017439</td>\n",
       "    </tr>\n",
       "  </tbody>\n",
       "</table>\n",
       "</div>"
      ]
     },
     "execution_count": 62,
     "metadata": {},
     "output_type": "execute_result"
    }
   ],
   "execution_count": 62
  },
  {
   "metadata": {},
   "cell_type": "markdown",
   "source": [
    "## Simple Rate of Return\n",
    "\n",
    "P1 - P0 / P0 = P1 / P0 = 1"
   ],
   "id": "9b310bcbbffef2a6"
  },
  {
   "metadata": {
    "ExecuteTime": {
     "end_time": "2025-03-26T17:38:04.514221Z",
     "start_time": "2025-03-26T17:38:04.482502Z"
    }
   },
   "cell_type": "code",
   "source": [
    "df_pg['simple_return'] = (df_pg['Último'] / df_pg['Último'].shift(1)) - 1\n",
    "print(df_pg['simple_return'])"
   ],
   "id": "935f3e149a33b97b",
   "outputs": [
    {
     "name": "stdout",
     "output_type": "stream",
     "text": [
      "Fecha\n",
      "1995-01-03         NaN\n",
      "1995-01-04   -0.007757\n",
      "1995-01-05   -0.014332\n",
      "1995-01-06    0.001983\n",
      "1995-01-09   -0.003958\n",
      "                ...   \n",
      "2025-03-20   -0.006051\n",
      "2025-03-21   -0.005133\n",
      "2025-03-24   -0.006239\n",
      "2025-03-25   -0.016903\n",
      "2025-03-26    0.017439\n",
      "Name: simple_return, Length: 7609, dtype: float64\n"
     ]
    }
   ],
   "execution_count": 71
  },
  {
   "metadata": {
    "ExecuteTime": {
     "end_time": "2025-03-26T17:38:09.580869Z",
     "start_time": "2025-03-26T17:38:09.472361Z"
    }
   },
   "cell_type": "code",
   "source": "df_pg['simple_return'].plot(figsize=(8,5))",
   "id": "b19dba55918e9ee0",
   "outputs": [
    {
     "data": {
      "text/plain": [
       "<Axes: xlabel='Fecha'>"
      ]
     },
     "execution_count": 72,
     "metadata": {},
     "output_type": "execute_result"
    },
    {
     "data": {
      "text/plain": [
       "<Figure size 800x500 with 1 Axes>"
      ],
      "image/png": "[encoded data removed]"
     },
     "metadata": {},
     "output_type": "display_data"
    }
   ],
   "execution_count": 72
  },
  {
   "metadata": {
    "ExecuteTime": {
     "end_time": "2025-03-26T17:39:30.724710Z",
     "start_time": "2025-03-26T17:39:30.707445Z"
    }
   },
   "cell_type": "code",
   "source": [
    " # Calculate the mean of simple rate return\n",
    "avg_returns_d = df_pg['simple_return'].mean()\n",
    "avg_returns_d"
   ],
   "id": "10c5eb671d307550",
   "outputs": [
    {
     "data": {
      "text/plain": [
       "np.float64(0.00040881286972611577)"
      ]
     },
     "execution_count": 73,
     "metadata": {},
     "output_type": "execute_result"
    }
   ],
   "execution_count": 73
  },
  {
   "metadata": {
    "ExecuteTime": {
     "end_time": "2025-03-26T17:41:45.345679Z",
     "start_time": "2025-03-26T17:41:45.335121Z"
    }
   },
   "cell_type": "code",
   "source": [
    "# Calculate the mean by days worked, the mean are 250 days, depends on the year\n",
    "avg_returns_a = df_pg['simple_return'].mean() * 250\n",
    "avg_returns_a"
   ],
   "id": "f327af417d5a08d4",
   "outputs": [
    {
     "data": {
      "text/plain": [
       "np.float64(0.10220321743152894)"
      ]
     },
     "execution_count": 74,
     "metadata": {},
     "output_type": "execute_result"
    }
   ],
   "execution_count": 74
  },
  {
   "metadata": {
    "ExecuteTime": {
     "end_time": "2025-03-26T17:54:51.510337Z",
     "start_time": "2025-03-26T17:54:51.500532Z"
    }
   },
   "cell_type": "code",
   "source": [
    "# Estimation the avg for PG\n",
    "print(str(round(avg_returns_a, 5) * 100) + ' %')"
   ],
   "id": "8897111c8d4cd314",
   "outputs": [
    {
     "name": "stdout",
     "output_type": "stream",
     "text": [
      "10.22 %\n"
     ]
    }
   ],
   "execution_count": 76
  }
 ],
 "metadata": {
  "kernelspec": {
   "display_name": "Python 3",
   "language": "python",
   "name": "python3"
  },
  "language_info": {
   "codemirror_mode": {
    "name": "ipython",
    "version": 2
   },
   "file_extension": ".py",
   "mimetype": "text/x-python",
   "name": "python",
   "nbconvert_exporter": "python",
   "pygments_lexer": "ipython2",
   "version": "2.7.6"
  }
 },
 "nbformat": 4,
 "nbformat_minor": 5
}
