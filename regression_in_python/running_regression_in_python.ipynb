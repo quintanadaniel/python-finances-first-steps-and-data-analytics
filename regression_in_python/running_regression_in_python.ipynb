{
 "cells": [
  {
   "cell_type": "code",
   "id": "initial_id",
   "metadata": {
    "collapsed": true,
    "ExecuteTime": {
     "end_time": "2025-04-01T21:31:19.377896Z",
     "start_time": "2025-04-01T21:31:16.711162Z"
    }
   },
   "source": [
    "import numpy as np\n",
    "import pandas as pd\n",
    "from scipy import stats\n",
    "import statsmodels.api as sm\n",
    "\n",
    "import matplotlib.pyplot as plt"
   ],
   "outputs": [],
   "execution_count": 3
  },
  {
   "metadata": {
    "ExecuteTime": {
     "end_time": "2025-04-01T21:31:20.293753Z",
     "start_time": "2025-04-01T21:31:20.290168Z"
    }
   },
   "cell_type": "code",
   "source": [
    "import os\n",
    "\n",
    "path = os.path.dirname(os.getcwd())"
   ],
   "id": "5015c037f891af6d",
   "outputs": [],
   "execution_count": 4
  },
  {
   "metadata": {
    "ExecuteTime": {
     "end_time": "2025-04-01T21:31:21.413481Z",
     "start_time": "2025-04-01T21:31:21.253896Z"
    }
   },
   "cell_type": "code",
   "source": "data = pd.read_excel(f\"{path}/files/Housing.xlsx\", skiprows=0, names=['House Price', 'House Size (s.q.ft)', 'State', 'Number of Rooms', 'Year of Construction'])",
   "id": "f592e9e3ed7dfa92",
   "outputs": [],
   "execution_count": 5
  },
  {
   "metadata": {
    "ExecuteTime": {
     "end_time": "2025-04-01T21:31:22.133749Z",
     "start_time": "2025-04-01T21:31:22.122165Z"
    }
   },
   "cell_type": "code",
   "source": [
    "data = data.drop(index=0, axis=0)\n",
    "data"
   ],
   "id": "53c1003355ff0831",
   "outputs": [
    {
     "data": {
      "text/plain": [
       "   House Price House Size (s.q.ft) State Number of Rooms Year of Construction\n",
       "1     11160000                1940    IN               8                 2002\n",
       "2       860000                1300    IN               5                 1992\n",
       "3       818400                1420    IN               6                 1987\n",
       "4      1000000                1680    IN               7                 2000\n",
       "5       640000                1270    IN               5                 1995\n",
       "6      1010000                1850    IN               7                 1998\n",
       "7       600000                1000    IN               4                 2015\n",
       "8       700000                1100    LA               4                 2014\n",
       "9      1100000                1600    LA               7                 2017\n",
       "10      570000                1000    NY               5                 1997\n",
       "11      860000                2150    NY               9                 1997\n",
       "12     1085000                1900    NY               9                 2000\n",
       "13     1250000                2200    NY               9                 2014\n",
       "14      850000                1100    TX               4                 2017\n",
       "15      640000                 860    TX               4                 1997\n",
       "16      900000                1325    TX               6                 1997\n",
       "17      730000                1350    TX               6                 2000\n",
       "18      750000                1600    TX               6                 1992\n",
       "19      650000                 950    TX               2                 1987\n",
       "20      680000                1250    TX               4                 2000"
      ],
      "text/html": [
       "<div>\n",
       "<style scoped>\n",
       "    .dataframe tbody tr th:only-of-type {\n",
       "        vertical-align: middle;\n",
       "    }\n",
       "\n",
       "    .dataframe tbody tr th {\n",
       "        vertical-align: top;\n",
       "    }\n",
       "\n",
       "    .dataframe thead th {\n",
       "        text-align: right;\n",
       "    }\n",
       "</style>\n",
       "<table border=\"1\" class=\"dataframe\">\n",
       "  <thead>\n",
       "    <tr style=\"text-align: right;\">\n",
       "      <th></th>\n",
       "      <th>House Price</th>\n",
       "      <th>House Size (s.q.ft)</th>\n",
       "      <th>State</th>\n",
       "      <th>Number of Rooms</th>\n",
       "      <th>Year of Construction</th>\n",
       "    </tr>\n",
       "  </thead>\n",
       "  <tbody>\n",
       "    <tr>\n",
       "      <th>1</th>\n",
       "      <td>11160000</td>\n",
       "      <td>1940</td>\n",
       "      <td>IN</td>\n",
       "      <td>8</td>\n",
       "      <td>2002</td>\n",
       "    </tr>\n",
       "    <tr>\n",
       "      <th>2</th>\n",
       "      <td>860000</td>\n",
       "      <td>1300</td>\n",
       "      <td>IN</td>\n",
       "      <td>5</td>\n",
       "      <td>1992</td>\n",
       "    </tr>\n",
       "    <tr>\n",
       "      <th>3</th>\n",
       "      <td>818400</td>\n",
       "      <td>1420</td>\n",
       "      <td>IN</td>\n",
       "      <td>6</td>\n",
       "      <td>1987</td>\n",
       "    </tr>\n",
       "    <tr>\n",
       "      <th>4</th>\n",
       "      <td>1000000</td>\n",
       "      <td>1680</td>\n",
       "      <td>IN</td>\n",
       "      <td>7</td>\n",
       "      <td>2000</td>\n",
       "    </tr>\n",
       "    <tr>\n",
       "      <th>5</th>\n",
       "      <td>640000</td>\n",
       "      <td>1270</td>\n",
       "      <td>IN</td>\n",
       "      <td>5</td>\n",
       "      <td>1995</td>\n",
       "    </tr>\n",
       "    <tr>\n",
       "      <th>6</th>\n",
       "      <td>1010000</td>\n",
       "      <td>1850</td>\n",
       "      <td>IN</td>\n",
       "      <td>7</td>\n",
       "      <td>1998</td>\n",
       "    </tr>\n",
       "    <tr>\n",
       "      <th>7</th>\n",
       "      <td>600000</td>\n",
       "      <td>1000</td>\n",
       "      <td>IN</td>\n",
       "      <td>4</td>\n",
       "      <td>2015</td>\n",
       "    </tr>\n",
       "    <tr>\n",
       "      <th>8</th>\n",
       "      <td>700000</td>\n",
       "      <td>1100</td>\n",
       "      <td>LA</td>\n",
       "      <td>4</td>\n",
       "      <td>2014</td>\n",
       "    </tr>\n",
       "    <tr>\n",
       "      <th>9</th>\n",
       "      <td>1100000</td>\n",
       "      <td>1600</td>\n",
       "      <td>LA</td>\n",
       "      <td>7</td>\n",
       "      <td>2017</td>\n",
       "    </tr>\n",
       "    <tr>\n",
       "      <th>10</th>\n",
       "      <td>570000</td>\n",
       "      <td>1000</td>\n",
       "      <td>NY</td>\n",
       "      <td>5</td>\n",
       "      <td>1997</td>\n",
       "    </tr>\n",
       "    <tr>\n",
       "      <th>11</th>\n",
       "      <td>860000</td>\n",
       "      <td>2150</td>\n",
       "      <td>NY</td>\n",
       "      <td>9</td>\n",
       "      <td>1997</td>\n",
       "    </tr>\n",
       "    <tr>\n",
       "      <th>12</th>\n",
       "      <td>1085000</td>\n",
       "      <td>1900</td>\n",
       "      <td>NY</td>\n",
       "      <td>9</td>\n",
       "      <td>2000</td>\n",
       "    </tr>\n",
       "    <tr>\n",
       "      <th>13</th>\n",
       "      <td>1250000</td>\n",
       "      <td>2200</td>\n",
       "      <td>NY</td>\n",
       "      <td>9</td>\n",
       "      <td>2014</td>\n",
       "    </tr>\n",
       "    <tr>\n",
       "      <th>14</th>\n",
       "      <td>850000</td>\n",
       "      <td>1100</td>\n",
       "      <td>TX</td>\n",
       "      <td>4</td>\n",
       "      <td>2017</td>\n",
       "    </tr>\n",
       "    <tr>\n",
       "      <th>15</th>\n",
       "      <td>640000</td>\n",
       "      <td>860</td>\n",
       "      <td>TX</td>\n",
       "      <td>4</td>\n",
       "      <td>1997</td>\n",
       "    </tr>\n",
       "    <tr>\n",
       "      <th>16</th>\n",
       "      <td>900000</td>\n",
       "      <td>1325</td>\n",
       "      <td>TX</td>\n",
       "      <td>6</td>\n",
       "      <td>1997</td>\n",
       "    </tr>\n",
       "    <tr>\n",
       "      <th>17</th>\n",
       "      <td>730000</td>\n",
       "      <td>1350</td>\n",
       "      <td>TX</td>\n",
       "      <td>6</td>\n",
       "      <td>2000</td>\n",
       "    </tr>\n",
       "    <tr>\n",
       "      <th>18</th>\n",
       "      <td>750000</td>\n",
       "      <td>1600</td>\n",
       "      <td>TX</td>\n",
       "      <td>6</td>\n",
       "      <td>1992</td>\n",
       "    </tr>\n",
       "    <tr>\n",
       "      <th>19</th>\n",
       "      <td>650000</td>\n",
       "      <td>950</td>\n",
       "      <td>TX</td>\n",
       "      <td>2</td>\n",
       "      <td>1987</td>\n",
       "    </tr>\n",
       "    <tr>\n",
       "      <th>20</th>\n",
       "      <td>680000</td>\n",
       "      <td>1250</td>\n",
       "      <td>TX</td>\n",
       "      <td>4</td>\n",
       "      <td>2000</td>\n",
       "    </tr>\n",
       "  </tbody>\n",
       "</table>\n",
       "</div>"
      ]
     },
     "execution_count": 6,
     "metadata": {},
     "output_type": "execute_result"
    }
   ],
   "execution_count": 6
  },
  {
   "metadata": {
    "ExecuteTime": {
     "end_time": "2025-04-01T21:31:23.303385Z",
     "start_time": "2025-04-01T21:31:23.292769Z"
    }
   },
   "cell_type": "code",
   "source": "data[['House Price', 'House Size (s.q.ft)']]",
   "id": "9f0c9d8f5e3fc190",
   "outputs": [
    {
     "data": {
      "text/plain": [
       "   House Price House Size (s.q.ft)\n",
       "1     11160000                1940\n",
       "2       860000                1300\n",
       "3       818400                1420\n",
       "4      1000000                1680\n",
       "5       640000                1270\n",
       "6      1010000                1850\n",
       "7       600000                1000\n",
       "8       700000                1100\n",
       "9      1100000                1600\n",
       "10      570000                1000\n",
       "11      860000                2150\n",
       "12     1085000                1900\n",
       "13     1250000                2200\n",
       "14      850000                1100\n",
       "15      640000                 860\n",
       "16      900000                1325\n",
       "17      730000                1350\n",
       "18      750000                1600\n",
       "19      650000                 950\n",
       "20      680000                1250"
      ],
      "text/html": [
       "<div>\n",
       "<style scoped>\n",
       "    .dataframe tbody tr th:only-of-type {\n",
       "        vertical-align: middle;\n",
       "    }\n",
       "\n",
       "    .dataframe tbody tr th {\n",
       "        vertical-align: top;\n",
       "    }\n",
       "\n",
       "    .dataframe thead th {\n",
       "        text-align: right;\n",
       "    }\n",
       "</style>\n",
       "<table border=\"1\" class=\"dataframe\">\n",
       "  <thead>\n",
       "    <tr style=\"text-align: right;\">\n",
       "      <th></th>\n",
       "      <th>House Price</th>\n",
       "      <th>House Size (s.q.ft)</th>\n",
       "    </tr>\n",
       "  </thead>\n",
       "  <tbody>\n",
       "    <tr>\n",
       "      <th>1</th>\n",
       "      <td>11160000</td>\n",
       "      <td>1940</td>\n",
       "    </tr>\n",
       "    <tr>\n",
       "      <th>2</th>\n",
       "      <td>860000</td>\n",
       "      <td>1300</td>\n",
       "    </tr>\n",
       "    <tr>\n",
       "      <th>3</th>\n",
       "      <td>818400</td>\n",
       "      <td>1420</td>\n",
       "    </tr>\n",
       "    <tr>\n",
       "      <th>4</th>\n",
       "      <td>1000000</td>\n",
       "      <td>1680</td>\n",
       "    </tr>\n",
       "    <tr>\n",
       "      <th>5</th>\n",
       "      <td>640000</td>\n",
       "      <td>1270</td>\n",
       "    </tr>\n",
       "    <tr>\n",
       "      <th>6</th>\n",
       "      <td>1010000</td>\n",
       "      <td>1850</td>\n",
       "    </tr>\n",
       "    <tr>\n",
       "      <th>7</th>\n",
       "      <td>600000</td>\n",
       "      <td>1000</td>\n",
       "    </tr>\n",
       "    <tr>\n",
       "      <th>8</th>\n",
       "      <td>700000</td>\n",
       "      <td>1100</td>\n",
       "    </tr>\n",
       "    <tr>\n",
       "      <th>9</th>\n",
       "      <td>1100000</td>\n",
       "      <td>1600</td>\n",
       "    </tr>\n",
       "    <tr>\n",
       "      <th>10</th>\n",
       "      <td>570000</td>\n",
       "      <td>1000</td>\n",
       "    </tr>\n",
       "    <tr>\n",
       "      <th>11</th>\n",
       "      <td>860000</td>\n",
       "      <td>2150</td>\n",
       "    </tr>\n",
       "    <tr>\n",
       "      <th>12</th>\n",
       "      <td>1085000</td>\n",
       "      <td>1900</td>\n",
       "    </tr>\n",
       "    <tr>\n",
       "      <th>13</th>\n",
       "      <td>1250000</td>\n",
       "      <td>2200</td>\n",
       "    </tr>\n",
       "    <tr>\n",
       "      <th>14</th>\n",
       "      <td>850000</td>\n",
       "      <td>1100</td>\n",
       "    </tr>\n",
       "    <tr>\n",
       "      <th>15</th>\n",
       "      <td>640000</td>\n",
       "      <td>860</td>\n",
       "    </tr>\n",
       "    <tr>\n",
       "      <th>16</th>\n",
       "      <td>900000</td>\n",
       "      <td>1325</td>\n",
       "    </tr>\n",
       "    <tr>\n",
       "      <th>17</th>\n",
       "      <td>730000</td>\n",
       "      <td>1350</td>\n",
       "    </tr>\n",
       "    <tr>\n",
       "      <th>18</th>\n",
       "      <td>750000</td>\n",
       "      <td>1600</td>\n",
       "    </tr>\n",
       "    <tr>\n",
       "      <th>19</th>\n",
       "      <td>650000</td>\n",
       "      <td>950</td>\n",
       "    </tr>\n",
       "    <tr>\n",
       "      <th>20</th>\n",
       "      <td>680000</td>\n",
       "      <td>1250</td>\n",
       "    </tr>\n",
       "  </tbody>\n",
       "</table>\n",
       "</div>"
      ]
     },
     "execution_count": 7,
     "metadata": {},
     "output_type": "execute_result"
    }
   ],
   "execution_count": 7
  },
  {
   "metadata": {},
   "cell_type": "markdown",
   "source": "## Univariate Regression",
   "id": "cefa795e4fb75918"
  },
  {
   "metadata": {
    "ExecuteTime": {
     "end_time": "2025-04-01T21:31:26.872527Z",
     "start_time": "2025-04-01T21:31:26.868398Z"
    }
   },
   "cell_type": "code",
   "source": [
    "X = data['House Size (s.q.ft)']\n",
    "y = data['House Price']"
   ],
   "id": "e5e256e8ff091680",
   "outputs": [],
   "execution_count": 8
  },
  {
   "metadata": {
    "ExecuteTime": {
     "end_time": "2025-04-01T21:31:28.160886Z",
     "start_time": "2025-04-01T21:31:28.156773Z"
    }
   },
   "cell_type": "code",
   "source": [
    "# Convert datatypes from object to int64\n",
    "X = X.apply(pd.to_numeric, errors='coerce')\n",
    "y = pd.to_numeric(y, errors='coerce')"
   ],
   "id": "124b833c7c5e2fe2",
   "outputs": [],
   "execution_count": 9
  },
  {
   "metadata": {
    "ExecuteTime": {
     "end_time": "2025-04-01T21:31:29.341257Z",
     "start_time": "2025-04-01T21:31:29.333533Z"
    }
   },
   "cell_type": "code",
   "source": "X",
   "id": "c7e8fc0b5c5b11fa",
   "outputs": [
    {
     "data": {
      "text/plain": [
       "1     1940\n",
       "2     1300\n",
       "3     1420\n",
       "4     1680\n",
       "5     1270\n",
       "6     1850\n",
       "7     1000\n",
       "8     1100\n",
       "9     1600\n",
       "10    1000\n",
       "11    2150\n",
       "12    1900\n",
       "13    2200\n",
       "14    1100\n",
       "15     860\n",
       "16    1325\n",
       "17    1350\n",
       "18    1600\n",
       "19     950\n",
       "20    1250\n",
       "Name: House Size (s.q.ft), dtype: int64"
      ]
     },
     "execution_count": 10,
     "metadata": {},
     "output_type": "execute_result"
    }
   ],
   "execution_count": 10
  },
  {
   "metadata": {
    "ExecuteTime": {
     "end_time": "2025-04-01T21:31:30.816687Z",
     "start_time": "2025-04-01T21:31:30.810598Z"
    }
   },
   "cell_type": "code",
   "source": "y",
   "id": "844423880344b2da",
   "outputs": [
    {
     "data": {
      "text/plain": [
       "1     11160000\n",
       "2       860000\n",
       "3       818400\n",
       "4      1000000\n",
       "5       640000\n",
       "6      1010000\n",
       "7       600000\n",
       "8       700000\n",
       "9      1100000\n",
       "10      570000\n",
       "11      860000\n",
       "12     1085000\n",
       "13     1250000\n",
       "14      850000\n",
       "15      640000\n",
       "16      900000\n",
       "17      730000\n",
       "18      750000\n",
       "19      650000\n",
       "20      680000\n",
       "Name: House Price, dtype: int64"
      ]
     },
     "execution_count": 11,
     "metadata": {},
     "output_type": "execute_result"
    }
   ],
   "execution_count": 11
  },
  {
   "metadata": {
    "ExecuteTime": {
     "end_time": "2025-04-01T21:31:35.948846Z",
     "start_time": "2025-04-01T21:31:35.855609Z"
    }
   },
   "cell_type": "code",
   "source": [
    "plt.scatter(X, y)\n",
    "plt.show()"
   ],
   "id": "89875dace8ef8897",
   "outputs": [
    {
     "data": {
      "text/plain": [
       "<Figure size 640x480 with 1 Axes>"
      ],
      "image/png": "[encoded data removed]"
     },
     "metadata": {},
     "output_type": "display_data"
    }
   ],
   "execution_count": 12
  },
  {
   "metadata": {
    "ExecuteTime": {
     "end_time": "2025-04-01T21:31:41.515327Z",
     "start_time": "2025-04-01T21:31:41.452497Z"
    }
   },
   "cell_type": "code",
   "source": [
    "plt.scatter(X, y)\n",
    "plt.axis([0, 2500, 0, 1500000])\n",
    "plt.show()"
   ],
   "id": "8be255d203d98500",
   "outputs": [
    {
     "data": {
      "text/plain": [
       "<Figure size 640x480 with 1 Axes>"
      ],
      "image/png": "[encoded data removed]"
     },
     "metadata": {},
     "output_type": "display_data"
    }
   ],
   "execution_count": 13
  },
  {
   "metadata": {
    "ExecuteTime": {
     "end_time": "2025-04-01T21:32:01.109277Z",
     "start_time": "2025-04-01T21:32:01.034086Z"
    }
   },
   "cell_type": "code",
   "source": [
    "plt.scatter(X, y)\n",
    "plt.axis([0, 2500, 0, 1500000])\n",
    "plt.xlabel('House Price')\n",
    "plt.ylabel('House Size (sq.ft)')\n",
    "plt.show()"
   ],
   "id": "316408bba6d8116c",
   "outputs": [
    {
     "data": {
      "text/plain": [
       "<Figure size 640x480 with 1 Axes>"
      ],
      "image/png": "[encoded data removed]"
     },
     "metadata": {},
     "output_type": "display_data"
    }
   ],
   "execution_count": 14
  },
  {
   "metadata": {
    "ExecuteTime": {
     "end_time": "2025-04-01T21:32:10.589513Z",
     "start_time": "2025-04-01T21:32:10.586773Z"
    }
   },
   "cell_type": "code",
   "source": [
    "print(X.dtype)\n",
    "print(y.dtype)"
   ],
   "id": "f71c350c9a53bb75",
   "outputs": [
    {
     "name": "stdout",
     "output_type": "stream",
     "text": [
      "int64\n",
      "int64\n"
     ]
    }
   ],
   "execution_count": 15
  },
  {
   "metadata": {
    "ExecuteTime": {
     "end_time": "2025-04-01T21:32:12.485423Z",
     "start_time": "2025-04-01T21:32:12.473695Z"
    }
   },
   "cell_type": "code",
   "source": [
    "X1 = sm.add_constant(X)\n",
    "reg = sm.OLS(y, X1).fit()"
   ],
   "id": "f7100b4b740036ef",
   "outputs": [],
   "execution_count": 16
  },
  {
   "metadata": {
    "ExecuteTime": {
     "end_time": "2025-04-01T21:32:14.246636Z",
     "start_time": "2025-04-01T21:32:14.222595Z"
    }
   },
   "cell_type": "code",
   "source": "reg.summary()",
   "id": "9f35406347d5d8c4",
   "outputs": [
    {
     "data": {
      "text/plain": [
       "<class 'statsmodels.iolib.summary.Summary'>\n",
       "\"\"\"\n",
       "                            OLS Regression Results                            \n",
       "==============================================================================\n",
       "Dep. Variable:            House Price   R-squared:                       0.123\n",
       "Model:                            OLS   Adj. R-squared:                  0.074\n",
       "Method:                 Least Squares   F-statistic:                     2.518\n",
       "Date:                Tue, 01 Apr 2025   Prob (F-statistic):              0.130\n",
       "Time:                        22:32:14   Log-Likelihood:                -319.68\n",
       "No. Observations:                  20   AIC:                             643.4\n",
       "Df Residuals:                      18   BIC:                             645.4\n",
       "Df Model:                           1                                         \n",
       "Covariance Type:            nonrobust                                         \n",
       "=======================================================================================\n",
       "                          coef    std err          t      P>|t|      [0.025      0.975]\n",
       "---------------------------------------------------------------------------------------\n",
       "const               -1.547e+06   1.89e+06     -0.819      0.423   -5.51e+06    2.42e+06\n",
       "House Size (s.q.ft)  2003.6088   1262.739      1.587      0.130    -649.307    4656.525\n",
       "==============================================================================\n",
       "Omnibus:                       44.756   Durbin-Watson:                   1.066\n",
       "Prob(Omnibus):                  0.000   Jarque-Bera (JB):              164.544\n",
       "Skew:                           3.536   Prob(JB):                     1.86e-36\n",
       "Kurtosis:                      15.143   Cond. No.                     5.66e+03\n",
       "==============================================================================\n",
       "\n",
       "Notes:\n",
       "[1] Standard Errors assume that the covariance matrix of the errors is correctly specified.\n",
       "[2] The condition number is large, 5.66e+03. This might indicate that there are\n",
       "strong multicollinearity or other numerical problems.\n",
       "\"\"\""
      ],
      "text/html": [
       "<table class=\"simpletable\">\n",
       "<caption>OLS Regression Results</caption>\n",
       "<tr>\n",
       "  <th>Dep. Variable:</th>       <td>House Price</td>   <th>  R-squared:         </th> <td>   0.123</td>\n",
       "</tr>\n",
       "<tr>\n",
       "  <th>Model:</th>                   <td>OLS</td>       <th>  Adj. R-squared:    </th> <td>   0.074</td>\n",
       "</tr>\n",
       "<tr>\n",
       "  <th>Method:</th>             <td>Least Squares</td>  <th>  F-statistic:       </th> <td>   2.518</td>\n",
       "</tr>\n",
       "<tr>\n",
       "  <th>Date:</th>             <td>Tue, 01 Apr 2025</td> <th>  Prob (F-statistic):</th>  <td> 0.130</td> \n",
       "</tr>\n",
       "<tr>\n",
       "  <th>Time:</th>                 <td>22:32:14</td>     <th>  Log-Likelihood:    </th> <td> -319.68</td>\n",
       "</tr>\n",
       "<tr>\n",
       "  <th>No. Observations:</th>      <td>    20</td>      <th>  AIC:               </th> <td>   643.4</td>\n",
       "</tr>\n",
       "<tr>\n",
       "  <th>Df Residuals:</th>          <td>    18</td>      <th>  BIC:               </th> <td>   645.4</td>\n",
       "</tr>\n",
       "<tr>\n",
       "  <th>Df Model:</th>              <td>     1</td>      <th>                     </th>     <td> </td>   \n",
       "</tr>\n",
       "<tr>\n",
       "  <th>Covariance Type:</th>      <td>nonrobust</td>    <th>                     </th>     <td> </td>   \n",
       "</tr>\n",
       "</table>\n",
       "<table class=\"simpletable\">\n",
       "<tr>\n",
       "           <td></td>              <th>coef</th>     <th>std err</th>      <th>t</th>      <th>P>|t|</th>  <th>[0.025</th>    <th>0.975]</th>  \n",
       "</tr>\n",
       "<tr>\n",
       "  <th>const</th>               <td>-1.547e+06</td> <td> 1.89e+06</td> <td>   -0.819</td> <td> 0.423</td> <td>-5.51e+06</td> <td> 2.42e+06</td>\n",
       "</tr>\n",
       "<tr>\n",
       "  <th>House Size (s.q.ft)</th> <td> 2003.6088</td> <td> 1262.739</td> <td>    1.587</td> <td> 0.130</td> <td> -649.307</td> <td> 4656.525</td>\n",
       "</tr>\n",
       "</table>\n",
       "<table class=\"simpletable\">\n",
       "<tr>\n",
       "  <th>Omnibus:</th>       <td>44.756</td> <th>  Durbin-Watson:     </th> <td>   1.066</td>\n",
       "</tr>\n",
       "<tr>\n",
       "  <th>Prob(Omnibus):</th> <td> 0.000</td> <th>  Jarque-Bera (JB):  </th> <td> 164.544</td>\n",
       "</tr>\n",
       "<tr>\n",
       "  <th>Skew:</th>          <td> 3.536</td> <th>  Prob(JB):          </th> <td>1.86e-36</td>\n",
       "</tr>\n",
       "<tr>\n",
       "  <th>Kurtosis:</th>      <td>15.143</td> <th>  Cond. No.          </th> <td>5.66e+03</td>\n",
       "</tr>\n",
       "</table><br/><br/>Notes:<br/>[1] Standard Errors assume that the covariance matrix of the errors is correctly specified.<br/>[2] The condition number is large, 5.66e+03. This might indicate that there are<br/>strong multicollinearity or other numerical problems."
      ],
      "text/latex": "\\begin{center}\n\\begin{tabular}{lclc}\n\\toprule\n\\textbf{Dep. Variable:}      &   House Price    & \\textbf{  R-squared:         } &     0.123   \\\\\n\\textbf{Model:}              &       OLS        & \\textbf{  Adj. R-squared:    } &     0.074   \\\\\n\\textbf{Method:}             &  Least Squares   & \\textbf{  F-statistic:       } &     2.518   \\\\\n\\textbf{Date:}               & Tue, 01 Apr 2025 & \\textbf{  Prob (F-statistic):} &    0.130    \\\\\n\\textbf{Time:}               &     22:32:14     & \\textbf{  Log-Likelihood:    } &   -319.68   \\\\\n\\textbf{No. Observations:}   &          20      & \\textbf{  AIC:               } &     643.4   \\\\\n\\textbf{Df Residuals:}       &          18      & \\textbf{  BIC:               } &     645.4   \\\\\n\\textbf{Df Model:}           &           1      & \\textbf{                     } &             \\\\\n\\textbf{Covariance Type:}    &    nonrobust     & \\textbf{                     } &             \\\\\n\\bottomrule\n\\end{tabular}\n\\begin{tabular}{lcccccc}\n                             & \\textbf{coef} & \\textbf{std err} & \\textbf{t} & \\textbf{P$> |$t$|$} & \\textbf{[0.025} & \\textbf{0.975]}  \\\\\n\\midrule\n\\textbf{const}               &   -1.547e+06  &     1.89e+06     &    -0.819  &         0.423        &    -5.51e+06    &     2.42e+06     \\\\\n\\textbf{House Size (s.q.ft)} &    2003.6088  &     1262.739     &     1.587  &         0.130        &     -649.307    &     4656.525     \\\\\n\\bottomrule\n\\end{tabular}\n\\begin{tabular}{lclc}\n\\textbf{Omnibus:}       & 44.756 & \\textbf{  Durbin-Watson:     } &    1.066  \\\\\n\\textbf{Prob(Omnibus):} &  0.000 & \\textbf{  Jarque-Bera (JB):  } &  164.544  \\\\\n\\textbf{Skew:}          &  3.536 & \\textbf{  Prob(JB):          } & 1.86e-36  \\\\\n\\textbf{Kurtosis:}      & 15.143 & \\textbf{  Cond. No.          } & 5.66e+03  \\\\\n\\bottomrule\n\\end{tabular}\n%\\caption{OLS Regression Results}\n\\end{center}\n\nNotes: \\newline\n [1] Standard Errors assume that the covariance matrix of the errors is correctly specified. \\newline\n [2] The condition number is large, 5.66e+03. This might indicate that there are \\newline\n strong multicollinearity or other numerical problems."
     },
     "execution_count": 17,
     "metadata": {},
     "output_type": "execute_result"
    }
   ],
   "execution_count": 17
  },
  {
   "metadata": {},
   "cell_type": "markdown",
   "source": "Expected value of Y:",
   "id": "1532c59a8eb70a89"
  },
  {
   "metadata": {
    "ExecuteTime": {
     "end_time": "2025-04-01T21:32:24.644289Z",
     "start_time": "2025-04-01T21:32:24.637790Z"
    }
   },
   "cell_type": "code",
   "source": "260800 + 402 * 1000",
   "id": "3421efcd63fee1aa",
   "outputs": [
    {
     "data": {
      "text/plain": [
       "662800"
      ]
     },
     "execution_count": 18,
     "metadata": {},
     "output_type": "execute_result"
    }
   ],
   "execution_count": 18
  },
  {
   "metadata": {},
   "cell_type": "markdown",
   "source": "## Alpha, Beta, R^2",
   "id": "f7e3bbf65e32c356"
  },
  {
   "metadata": {
    "ExecuteTime": {
     "end_time": "2025-04-01T21:32:57.041953Z",
     "start_time": "2025-04-01T21:32:57.038226Z"
    }
   },
   "cell_type": "code",
   "source": "slope, intercept, r_value, p_value, std_err = stats.linregress(X, y)",
   "id": "2fe73e038afe9642",
   "outputs": [],
   "execution_count": 19
  },
  {
   "metadata": {
    "ExecuteTime": {
     "end_time": "2025-04-01T21:33:01.475825Z",
     "start_time": "2025-04-01T21:33:01.471565Z"
    }
   },
   "cell_type": "code",
   "source": [
    "# Beta\n",
    "slope"
   ],
   "id": "a7010aabf4e451db",
   "outputs": [
    {
     "data": {
      "text/plain": [
       "np.float64(2003.60883743636)"
      ]
     },
     "execution_count": 20,
     "metadata": {},
     "output_type": "execute_result"
    }
   ],
   "execution_count": 20
  },
  {
   "metadata": {
    "ExecuteTime": {
     "end_time": "2025-04-01T21:33:07.151635Z",
     "start_time": "2025-04-01T21:33:07.148219Z"
    }
   },
   "cell_type": "code",
   "source": [
    "# Alfa\n",
    "intercept"
   ],
   "id": "bff141d9125430fb",
   "outputs": [
    {
     "data": {
      "text/plain": [
       "np.float64(-1547034.8457925902)"
      ]
     },
     "execution_count": 21,
     "metadata": {},
     "output_type": "execute_result"
    }
   ],
   "execution_count": 21
  },
  {
   "metadata": {
    "ExecuteTime": {
     "end_time": "2025-04-01T21:33:12.959739Z",
     "start_time": "2025-04-01T21:33:12.955596Z"
    }
   },
   "cell_type": "code",
   "source": "r_value",
   "id": "a437d27c7a1702c6",
   "outputs": [
    {
     "data": {
      "text/plain": [
       "np.float64(0.35029613500607415)"
      ]
     },
     "execution_count": 22,
     "metadata": {},
     "output_type": "execute_result"
    }
   ],
   "execution_count": 22
  },
  {
   "metadata": {
    "ExecuteTime": {
     "end_time": "2025-04-01T21:33:22.660815Z",
     "start_time": "2025-04-01T21:33:22.656962Z"
    }
   },
   "cell_type": "code",
   "source": "r_value ** 2",
   "id": "2044d96a93ea3336",
   "outputs": [
    {
     "data": {
      "text/plain": [
       "np.float64(0.12270738220019373)"
      ]
     },
     "execution_count": 23,
     "metadata": {},
     "output_type": "execute_result"
    }
   ],
   "execution_count": 23
  },
  {
   "metadata": {
    "ExecuteTime": {
     "end_time": "2025-04-01T21:33:25.408797Z",
     "start_time": "2025-04-01T21:33:25.404576Z"
    }
   },
   "cell_type": "code",
   "source": "p_value",
   "id": "1449e0676e912321",
   "outputs": [
    {
     "data": {
      "text/plain": [
       "np.float64(0.12998756148815313)"
      ]
     },
     "execution_count": 24,
     "metadata": {},
     "output_type": "execute_result"
    }
   ],
   "execution_count": 24
  },
  {
   "metadata": {
    "ExecuteTime": {
     "end_time": "2025-04-01T21:33:30.415616Z",
     "start_time": "2025-04-01T21:33:30.411592Z"
    }
   },
   "cell_type": "code",
   "source": "std_err",
   "id": "b01ba018f663885b",
   "outputs": [
    {
     "data": {
      "text/plain": [
       "np.float64(1262.7389533800172)"
      ]
     },
     "execution_count": 25,
     "metadata": {},
     "output_type": "execute_result"
    }
   ],
   "execution_count": 25
  },
  {
   "metadata": {},
   "cell_type": "code",
   "outputs": [],
   "execution_count": null,
   "source": "",
   "id": "7c6ff8aab3e37242"
  }
 ],
 "metadata": {
  "kernelspec": {
   "display_name": "Python 3",
   "language": "python",
   "name": "python3"
  },
  "language_info": {
   "codemirror_mode": {
    "name": "ipython",
    "version": 2
   },
   "file_extension": ".py",
   "mimetype": "text/x-python",
   "name": "python",
   "nbconvert_exporter": "python",
   "pygments_lexer": "ipython2",
   "version": "2.7.6"
  }
 },
 "nbformat": 4,
 "nbformat_minor": 5
}
