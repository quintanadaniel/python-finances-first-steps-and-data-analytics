{
 "cells": [
  {
   "cell_type": "code",
   "id": "initial_id",
   "metadata": {
    "collapsed": true,
    "ExecuteTime": {
     "end_time": "2025-03-22T19:50:05.881618Z",
     "start_time": "2025-03-22T19:50:05.767793Z"
    }
   },
   "source": [
    "import investpy\n",
    "import investiny"
   ],
   "outputs": [],
   "execution_count": 3
  },
  {
   "metadata": {
    "ExecuteTime": {
     "end_time": "2025-03-22T19:46:17.362283Z",
     "start_time": "2025-03-22T19:46:16.902835Z"
    }
   },
   "cell_type": "code",
   "source": [
    "df = investpy.get_stock_historical_data(stock=\"AAPL\", country=\"United States\", from_date=\"01/01/2010\", to_date=\"22/03/2025\")\n",
    "df.head()"
   ],
   "id": "31a60d9632d38411",
   "outputs": [
    {
     "ename": "ConnectionError",
     "evalue": "ERR#0015: error 403, try again later.",
     "output_type": "error",
     "traceback": [
      "\u001B[31m---------------------------------------------------------------------------\u001B[39m",
      "\u001B[31mConnectionError\u001B[39m                           Traceback (most recent call last)",
      "\u001B[36mCell\u001B[39m\u001B[36m \u001B[39m\u001B[32mIn[2]\u001B[39m\u001B[32m, line 1\u001B[39m\n\u001B[32m----> \u001B[39m\u001B[32m1\u001B[39m df = \u001B[43minvestpy\u001B[49m\u001B[43m.\u001B[49m\u001B[43mget_stock_historical_data\u001B[49m\u001B[43m(\u001B[49m\u001B[43mstock\u001B[49m\u001B[43m=\u001B[49m\u001B[33;43m\"\u001B[39;49m\u001B[33;43mAAPL\u001B[39;49m\u001B[33;43m\"\u001B[39;49m\u001B[43m,\u001B[49m\u001B[43m \u001B[49m\u001B[43mcountry\u001B[49m\u001B[43m=\u001B[49m\u001B[33;43m\"\u001B[39;49m\u001B[33;43mUnited States\u001B[39;49m\u001B[33;43m\"\u001B[39;49m\u001B[43m,\u001B[49m\u001B[43m \u001B[49m\u001B[43mfrom_date\u001B[49m\u001B[43m=\u001B[49m\u001B[33;43m\"\u001B[39;49m\u001B[33;43m01/01/2010\u001B[39;49m\u001B[33;43m\"\u001B[39;49m\u001B[43m,\u001B[49m\u001B[43m \u001B[49m\u001B[43mto_date\u001B[49m\u001B[43m=\u001B[49m\u001B[33;43m\"\u001B[39;49m\u001B[33;43m22/03/2025\u001B[39;49m\u001B[33;43m\"\u001B[39;49m\u001B[43m)\u001B[49m\n\u001B[32m      2\u001B[39m df.head()\n",
      "\u001B[36mFile \u001B[39m\u001B[32m~/personal_projects/python_projects/python-for-finances/venv/lib/python3.12/site-packages/investpy/stocks.py:664\u001B[39m, in \u001B[36mget_stock_historical_data\u001B[39m\u001B[34m(stock, country, from_date, to_date, as_json, order, interval)\u001B[39m\n\u001B[32m    661\u001B[39m req = requests.post(url, headers=head, data=params)\n\u001B[32m    663\u001B[39m \u001B[38;5;28;01mif\u001B[39;00m req.status_code != \u001B[32m200\u001B[39m:\n\u001B[32m--> \u001B[39m\u001B[32m664\u001B[39m     \u001B[38;5;28;01mraise\u001B[39;00m \u001B[38;5;167;01mConnectionError\u001B[39;00m(\n\u001B[32m    665\u001B[39m         \u001B[33m\"\u001B[39m\u001B[33mERR#0015: error \u001B[39m\u001B[33m\"\u001B[39m + \u001B[38;5;28mstr\u001B[39m(req.status_code) + \u001B[33m\"\u001B[39m\u001B[33m, try again later.\u001B[39m\u001B[33m\"\u001B[39m\n\u001B[32m    666\u001B[39m     )\n\u001B[32m    668\u001B[39m \u001B[38;5;28;01mif\u001B[39;00m \u001B[38;5;129;01mnot\u001B[39;00m req.text:\n\u001B[32m    669\u001B[39m     \u001B[38;5;28;01mcontinue\u001B[39;00m\n",
      "\u001B[31mConnectionError\u001B[39m: ERR#0015: error 403, try again later."
     ]
    }
   ],
   "execution_count": 2
  },
  {
   "metadata": {
    "ExecuteTime": {
     "end_time": "2025-03-22T19:50:48.715463Z",
     "start_time": "2025-03-22T19:50:48.459525Z"
    }
   },
   "cell_type": "code",
   "source": "investiny.info('BTC')",
   "id": "64156f18f0df30a9",
   "outputs": [
    {
     "ename": "ConnectionError",
     "evalue": "Request to Investing.com API failed with error code: 403.",
     "output_type": "error",
     "traceback": [
      "\u001B[31m---------------------------------------------------------------------------\u001B[39m",
      "\u001B[31mConnectionError\u001B[39m                           Traceback (most recent call last)",
      "\u001B[36mCell\u001B[39m\u001B[36m \u001B[39m\u001B[32mIn[4]\u001B[39m\u001B[32m, line 1\u001B[39m\n\u001B[32m----> \u001B[39m\u001B[32m1\u001B[39m \u001B[43minvestiny\u001B[49m\u001B[43m.\u001B[49m\u001B[43minfo\u001B[49m\u001B[43m(\u001B[49m\u001B[33;43m'\u001B[39;49m\u001B[33;43mBTC\u001B[39;49m\u001B[33;43m'\u001B[39;49m\u001B[43m)\u001B[49m\n",
      "\u001B[36mFile \u001B[39m\u001B[32m~/personal_projects/python_projects/python-for-finances/venv/lib/python3.12/site-packages/investiny/info.py:19\u001B[39m, in \u001B[36minfo\u001B[39m\u001B[34m(asset)\u001B[39m\n\u001B[32m      6\u001B[39m \u001B[38;5;28;01mdef\u001B[39;00m\u001B[38;5;250m \u001B[39m\u001B[34minfo\u001B[39m(asset: Union[\u001B[38;5;28mstr\u001B[39m, List[\u001B[38;5;28mstr\u001B[39m]]) -> Dict[\u001B[38;5;28mstr\u001B[39m, Any]:\n\u001B[32m      7\u001B[39m \u001B[38;5;250m    \u001B[39m\u001B[33;03m\"\"\"Get assets' public information available at Investing.com\u001B[39;00m\n\u001B[32m      8\u001B[39m \n\u001B[32m      9\u001B[39m \u001B[33;03m    Args:\u001B[39;00m\n\u001B[32m   (...)\u001B[39m\u001B[32m     17\u001B[39m \u001B[33;03m        key is the asset name and the value is a dictionary with the asset's information.\u001B[39;00m\n\u001B[32m     18\u001B[39m \u001B[33;03m    \"\"\"\u001B[39;00m\n\u001B[32m---> \u001B[39m\u001B[32m19\u001B[39m     results = \u001B[43mrequest_to_investing\u001B[49m\u001B[43m(\u001B[49m\n\u001B[32m     20\u001B[39m \u001B[43m        \u001B[49m\u001B[43mendpoint\u001B[49m\u001B[43m=\u001B[49m\u001B[33;43m\"\u001B[39;49m\u001B[33;43mquotes\u001B[39;49m\u001B[33;43m\"\u001B[39;49m\u001B[43m,\u001B[49m\n\u001B[32m     21\u001B[39m \u001B[43m        \u001B[49m\u001B[43mparams\u001B[49m\u001B[43m=\u001B[49m\u001B[43m{\u001B[49m\u001B[33;43m\"\u001B[39;49m\u001B[33;43msymbols\u001B[39;49m\u001B[33;43m\"\u001B[39;49m\u001B[43m:\u001B[49m\u001B[43m \u001B[49m\u001B[43masset\u001B[49m\u001B[43m \u001B[49m\u001B[38;5;28;43;01mif\u001B[39;49;00m\u001B[43m \u001B[49m\u001B[38;5;28;43misinstance\u001B[39;49m\u001B[43m(\u001B[49m\u001B[43masset\u001B[49m\u001B[43m,\u001B[49m\u001B[43m \u001B[49m\u001B[38;5;28;43mstr\u001B[39;49m\u001B[43m)\u001B[49m\u001B[43m \u001B[49m\u001B[38;5;28;43;01melse\u001B[39;49;00m\u001B[43m \u001B[49m\u001B[33;43m\"\u001B[39;49m\u001B[33;43m,\u001B[39;49m\u001B[33;43m\"\u001B[39;49m\u001B[43m.\u001B[49m\u001B[43mjoin\u001B[49m\u001B[43m(\u001B[49m\u001B[43masset\u001B[49m\u001B[43m)\u001B[49m\u001B[43m}\u001B[49m\u001B[43m,\u001B[49m\n\u001B[32m     22\u001B[39m \u001B[43m    \u001B[49m\u001B[43m)\u001B[49m\n\u001B[32m     23\u001B[39m     actual_results = results[\u001B[33m\"\u001B[39m\u001B[33md\u001B[39m\u001B[33m\"\u001B[39m]  \u001B[38;5;66;03m# type: ignore\u001B[39;00m\n\u001B[32m     24\u001B[39m     \u001B[38;5;28;01mif\u001B[39;00m \u001B[38;5;28mlen\u001B[39m(actual_results) < \u001B[32m2\u001B[39m:\n",
      "\u001B[36mFile \u001B[39m\u001B[32m~/personal_projects/python_projects/python-for-finances/venv/lib/python3.12/site-packages/investiny/utils.py:36\u001B[39m, in \u001B[36mrequest_to_investing\u001B[39m\u001B[34m(endpoint, params)\u001B[39m\n\u001B[32m     34\u001B[39m r = httpx.get(url, params=params, headers=headers)\n\u001B[32m     35\u001B[39m \u001B[38;5;28;01mif\u001B[39;00m r.status_code != \u001B[32m200\u001B[39m:\n\u001B[32m---> \u001B[39m\u001B[32m36\u001B[39m     \u001B[38;5;28;01mraise\u001B[39;00m \u001B[38;5;167;01mConnectionError\u001B[39;00m(\n\u001B[32m     37\u001B[39m         \u001B[33mf\u001B[39m\u001B[33m\"\u001B[39m\u001B[33mRequest to Investing.com API failed with error code: \u001B[39m\u001B[38;5;132;01m{\u001B[39;00mr.status_code\u001B[38;5;132;01m}\u001B[39;00m\u001B[33m.\u001B[39m\u001B[33m\"\u001B[39m\n\u001B[32m     38\u001B[39m     )\n\u001B[32m     39\u001B[39m d = r.json()\n\u001B[32m     41\u001B[39m \u001B[38;5;28;01mif\u001B[39;00m endpoint \u001B[38;5;129;01min\u001B[39;00m [\u001B[33m\"\u001B[39m\u001B[33mhistory\u001B[39m\u001B[33m\"\u001B[39m, \u001B[33m\"\u001B[39m\u001B[33mquotes\u001B[39m\u001B[33m\"\u001B[39m] \u001B[38;5;129;01mand\u001B[39;00m d[\u001B[33m\"\u001B[39m\u001B[33ms\u001B[39m\u001B[33m\"\u001B[39m] != \u001B[33m\"\u001B[39m\u001B[33mok\u001B[39m\u001B[33m\"\u001B[39m:\n",
      "\u001B[31mConnectionError\u001B[39m: Request to Investing.com API failed with error code: 403."
     ]
    }
   ],
   "execution_count": 4
  }
 ],
 "metadata": {
  "kernelspec": {
   "display_name": "Python 3",
   "language": "python",
   "name": "python3"
  },
  "language_info": {
   "codemirror_mode": {
    "name": "ipython",
    "version": 2
   },
   "file_extension": ".py",
   "mimetype": "text/x-python",
   "name": "python",
   "nbconvert_exporter": "python",
   "pygments_lexer": "ipython2",
   "version": "2.7.6"
  }
 },
 "nbformat": 4,
 "nbformat_minor": 5
}
