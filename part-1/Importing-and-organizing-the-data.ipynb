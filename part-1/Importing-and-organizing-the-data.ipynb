{
 "cells": [
  {
   "cell_type": "code",
   "id": "initial_id",
   "metadata": {
    "collapsed": true,
    "ExecuteTime": {
     "end_time": "2025-03-20T21:24:58.692606Z",
     "start_time": "2025-03-20T21:24:54.463268Z"
    }
   },
   "source": [
    "import numpy as np\n",
    "import polars as pl\n",
    "import pandas as pd"
   ],
   "outputs": [],
   "execution_count": 1
  },
  {
   "metadata": {
    "ExecuteTime": {
     "end_time": "2025-03-20T21:26:52.008907Z",
     "start_time": "2025-03-20T21:26:51.989450Z"
    }
   },
   "cell_type": "code",
   "source": [
    "# Using polars\n",
    "ser = pl.Series(name=\"Column 01\", values=np.random.random(5))\n",
    "\n",
    "ser"
   ],
   "id": "92b76cceb43a9695",
   "outputs": [
    {
     "data": {
      "text/plain": [
       "shape: (5,)\n",
       "Series: 'Column 01' [f64]\n",
       "[\n",
       "\t0.161771\n",
       "\t0.56673\n",
       "\t0.323103\n",
       "\t0.104818\n",
       "\t0.293035\n",
       "]"
      ],
      "text/html": [
       "<div><style>\n",
       ".dataframe > thead > tr,\n",
       ".dataframe > tbody > tr {\n",
       "  text-align: right;\n",
       "  white-space: pre-wrap;\n",
       "}\n",
       "</style>\n",
       "<small>shape: (5,)</small><table border=\"1\" class=\"dataframe\"><thead><tr><th>Column 01</th></tr><tr><td>f64</td></tr></thead><tbody><tr><td>0.161771</td></tr><tr><td>0.56673</td></tr><tr><td>0.323103</td></tr><tr><td>0.104818</td></tr><tr><td>0.293035</td></tr></tbody></table></div>"
      ]
     },
     "execution_count": 3,
     "metadata": {},
     "output_type": "execute_result"
    }
   ],
   "execution_count": 3
  },
  {
   "metadata": {
    "ExecuteTime": {
     "end_time": "2025-03-20T21:27:32.282307Z",
     "start_time": "2025-03-20T21:27:32.270351Z"
    }
   },
   "cell_type": "code",
   "source": "ser[2]",
   "id": "9a0ec98a07dff473",
   "outputs": [
    {
     "data": {
      "text/plain": [
       "0.3231028330151916"
      ]
     },
     "execution_count": 4,
     "metadata": {},
     "output_type": "execute_result"
    }
   ],
   "execution_count": 4
  },
  {
   "metadata": {
    "ExecuteTime": {
     "end_time": "2025-03-20T21:29:33.130143Z",
     "start_time": "2025-03-20T21:29:32.995716Z"
    }
   },
   "cell_type": "code",
   "source": "from pandas_datareader import data as wb",
   "id": "24c01cdded6aca16",
   "outputs": [],
   "execution_count": 5
  },
  {
   "metadata": {
    "ExecuteTime": {
     "end_time": "2025-03-20T21:35:55.314970Z",
     "start_time": "2025-03-20T21:35:55.298422Z"
    }
   },
   "cell_type": "code",
   "source": [
    "from datetime import datetime\n",
    "\n",
    "start_date = datetime(2020, 1, 1)\n",
    "end_date = datetime(2024, 3, 20)"
   ],
   "id": "c9e20f6f098818f3",
   "outputs": [],
   "execution_count": 11
  },
  {
   "metadata": {
    "ExecuteTime": {
     "end_time": "2025-03-20T21:49:07.193176Z",
     "start_time": "2025-03-20T21:49:07.147584Z"
    }
   },
   "cell_type": "code",
   "source": [
    "# Using yfinance\n",
    "import yfinance as yf\n",
    "data_aapl = yf.download(\"AAPL\", start=start_date, end=end_date)\n",
    "data_aapl.columns"
   ],
   "id": "2002ed1e8d10fdee",
   "outputs": [
    {
     "name": "stderr",
     "output_type": "stream",
     "text": [
      "[*********************100%***********************]  1 of 1 completed\n"
     ]
    },
    {
     "data": {
      "text/plain": [
       "MultiIndex([( 'Close', 'AAPL'),\n",
       "            (  'High', 'AAPL'),\n",
       "            (   'Low', 'AAPL'),\n",
       "            (  'Open', 'AAPL'),\n",
       "            ('Volume', 'AAPL')],\n",
       "           names=['Price', 'Ticker'])"
      ]
     },
     "execution_count": 30,
     "metadata": {},
     "output_type": "execute_result"
    }
   ],
   "execution_count": 30
  },
  {
   "metadata": {
    "ExecuteTime": {
     "end_time": "2025-03-20T22:22:06.935632Z",
     "start_time": "2025-03-20T22:22:06.761595Z"
    }
   },
   "cell_type": "code",
   "source": [
    "# Combining yfinace with pandas_datareader\n",
    "data_btc = yf.download('BTC', start=datetime(2020,1,1))\n",
    "data_btc.head()"
   ],
   "id": "7e1f317df4eddd6c",
   "outputs": [
    {
     "name": "stderr",
     "output_type": "stream",
     "text": [
      "[*********************100%***********************]  1 of 1 completed\n"
     ]
    },
    {
     "data": {
      "text/plain": [
       "Price           Close       High        Low       Open   Volume\n",
       "Ticker            BTC        BTC        BTC        BTC      BTC\n",
       "Date                                                           \n",
       "2024-07-31  28.950001  29.650000  28.799999  29.500000   930940\n",
       "2024-08-01  28.100000  28.799999  27.600000  28.650000  8564500\n",
       "2024-08-02  27.799999  29.049999  27.650000  28.750000  2412560\n",
       "2024-08-05  23.750000  24.650000  22.000000  22.049999  3141140\n",
       "2024-08-06  25.250000  25.350000  24.150000  24.500000  1690140"
      ],
      "text/html": [
       "<div>\n",
       "<style scoped>\n",
       "    .dataframe tbody tr th:only-of-type {\n",
       "        vertical-align: middle;\n",
       "    }\n",
       "\n",
       "    .dataframe tbody tr th {\n",
       "        vertical-align: top;\n",
       "    }\n",
       "\n",
       "    .dataframe thead tr th {\n",
       "        text-align: left;\n",
       "    }\n",
       "\n",
       "    .dataframe thead tr:last-of-type th {\n",
       "        text-align: right;\n",
       "    }\n",
       "</style>\n",
       "<table border=\"1\" class=\"dataframe\">\n",
       "  <thead>\n",
       "    <tr>\n",
       "      <th>Price</th>\n",
       "      <th>Close</th>\n",
       "      <th>High</th>\n",
       "      <th>Low</th>\n",
       "      <th>Open</th>\n",
       "      <th>Volume</th>\n",
       "    </tr>\n",
       "    <tr>\n",
       "      <th>Ticker</th>\n",
       "      <th>BTC</th>\n",
       "      <th>BTC</th>\n",
       "      <th>BTC</th>\n",
       "      <th>BTC</th>\n",
       "      <th>BTC</th>\n",
       "    </tr>\n",
       "    <tr>\n",
       "      <th>Date</th>\n",
       "      <th></th>\n",
       "      <th></th>\n",
       "      <th></th>\n",
       "      <th></th>\n",
       "      <th></th>\n",
       "    </tr>\n",
       "  </thead>\n",
       "  <tbody>\n",
       "    <tr>\n",
       "      <th>2024-07-31</th>\n",
       "      <td>28.950001</td>\n",
       "      <td>29.650000</td>\n",
       "      <td>28.799999</td>\n",
       "      <td>29.500000</td>\n",
       "      <td>930940</td>\n",
       "    </tr>\n",
       "    <tr>\n",
       "      <th>2024-08-01</th>\n",
       "      <td>28.100000</td>\n",
       "      <td>28.799999</td>\n",
       "      <td>27.600000</td>\n",
       "      <td>28.650000</td>\n",
       "      <td>8564500</td>\n",
       "    </tr>\n",
       "    <tr>\n",
       "      <th>2024-08-02</th>\n",
       "      <td>27.799999</td>\n",
       "      <td>29.049999</td>\n",
       "      <td>27.650000</td>\n",
       "      <td>28.750000</td>\n",
       "      <td>2412560</td>\n",
       "    </tr>\n",
       "    <tr>\n",
       "      <th>2024-08-05</th>\n",
       "      <td>23.750000</td>\n",
       "      <td>24.650000</td>\n",
       "      <td>22.000000</td>\n",
       "      <td>22.049999</td>\n",
       "      <td>3141140</td>\n",
       "    </tr>\n",
       "    <tr>\n",
       "      <th>2024-08-06</th>\n",
       "      <td>25.250000</td>\n",
       "      <td>25.350000</td>\n",
       "      <td>24.150000</td>\n",
       "      <td>24.500000</td>\n",
       "      <td>1690140</td>\n",
       "    </tr>\n",
       "  </tbody>\n",
       "</table>\n",
       "</div>"
      ]
     },
     "execution_count": 56,
     "metadata": {},
     "output_type": "execute_result"
    }
   ],
   "execution_count": 56
  },
  {
   "metadata": {
    "ExecuteTime": {
     "end_time": "2025-03-20T22:23:02.198133Z",
     "start_time": "2025-03-20T22:23:01.611820Z"
    }
   },
   "cell_type": "code",
   "source": "yf.download('PG').head()",
   "id": "75a9859fcdda950d",
   "outputs": [
    {
     "name": "stderr",
     "output_type": "stream",
     "text": [
      "[*********************100%***********************]  1 of 1 completed\n"
     ]
    },
    {
     "data": {
      "text/plain": [
       "Price          Close      High       Low Open   Volume\n",
       "Ticker            PG        PG        PG   PG       PG\n",
       "Date                                                  \n",
       "1962-01-02  0.253060  0.255134  0.251677  0.0   192000\n",
       "1962-01-03  0.250294  0.253060  0.248220  0.0   428800\n",
       "1962-01-04  0.246146  0.250986  0.246146  0.0   326400\n",
       "1962-01-05  0.244417  0.246837  0.241306  0.0   544000\n",
       "1962-01-08  0.237849  0.243034  0.235083  0.0  1523200"
      ],
      "text/html": [
       "<div>\n",
       "<style scoped>\n",
       "    .dataframe tbody tr th:only-of-type {\n",
       "        vertical-align: middle;\n",
       "    }\n",
       "\n",
       "    .dataframe tbody tr th {\n",
       "        vertical-align: top;\n",
       "    }\n",
       "\n",
       "    .dataframe thead tr th {\n",
       "        text-align: left;\n",
       "    }\n",
       "\n",
       "    .dataframe thead tr:last-of-type th {\n",
       "        text-align: right;\n",
       "    }\n",
       "</style>\n",
       "<table border=\"1\" class=\"dataframe\">\n",
       "  <thead>\n",
       "    <tr>\n",
       "      <th>Price</th>\n",
       "      <th>Close</th>\n",
       "      <th>High</th>\n",
       "      <th>Low</th>\n",
       "      <th>Open</th>\n",
       "      <th>Volume</th>\n",
       "    </tr>\n",
       "    <tr>\n",
       "      <th>Ticker</th>\n",
       "      <th>PG</th>\n",
       "      <th>PG</th>\n",
       "      <th>PG</th>\n",
       "      <th>PG</th>\n",
       "      <th>PG</th>\n",
       "    </tr>\n",
       "    <tr>\n",
       "      <th>Date</th>\n",
       "      <th></th>\n",
       "      <th></th>\n",
       "      <th></th>\n",
       "      <th></th>\n",
       "      <th></th>\n",
       "    </tr>\n",
       "  </thead>\n",
       "  <tbody>\n",
       "    <tr>\n",
       "      <th>1962-01-02</th>\n",
       "      <td>0.253060</td>\n",
       "      <td>0.255134</td>\n",
       "      <td>0.251677</td>\n",
       "      <td>0.0</td>\n",
       "      <td>192000</td>\n",
       "    </tr>\n",
       "    <tr>\n",
       "      <th>1962-01-03</th>\n",
       "      <td>0.250294</td>\n",
       "      <td>0.253060</td>\n",
       "      <td>0.248220</td>\n",
       "      <td>0.0</td>\n",
       "      <td>428800</td>\n",
       "    </tr>\n",
       "    <tr>\n",
       "      <th>1962-01-04</th>\n",
       "      <td>0.246146</td>\n",
       "      <td>0.250986</td>\n",
       "      <td>0.246146</td>\n",
       "      <td>0.0</td>\n",
       "      <td>326400</td>\n",
       "    </tr>\n",
       "    <tr>\n",
       "      <th>1962-01-05</th>\n",
       "      <td>0.244417</td>\n",
       "      <td>0.246837</td>\n",
       "      <td>0.241306</td>\n",
       "      <td>0.0</td>\n",
       "      <td>544000</td>\n",
       "    </tr>\n",
       "    <tr>\n",
       "      <th>1962-01-08</th>\n",
       "      <td>0.237849</td>\n",
       "      <td>0.243034</td>\n",
       "      <td>0.235083</td>\n",
       "      <td>0.0</td>\n",
       "      <td>1523200</td>\n",
       "    </tr>\n",
       "  </tbody>\n",
       "</table>\n",
       "</div>"
      ]
     },
     "execution_count": 58,
     "metadata": {},
     "output_type": "execute_result"
    }
   ],
   "execution_count": 58
  },
  {
   "metadata": {
    "ExecuteTime": {
     "end_time": "2025-03-20T21:36:27.308337Z",
     "start_time": "2025-03-20T21:36:26.927247Z"
    }
   },
   "cell_type": "code",
   "source": [
    "# Working with fred data\n",
    "fred_data = wb.DataReader(\"GDP\", \"fred\", start_date, end_date)\n",
    "fred_data"
   ],
   "id": "f702d4790d796b1d",
   "outputs": [
    {
     "data": {
      "text/plain": [
       "                  GDP\n",
       "DATE                 \n",
       "2020-01-01  21727.657\n",
       "2020-04-01  19935.444\n",
       "2020-07-01  21684.551\n",
       "2020-10-01  22068.767\n",
       "2021-01-01  22656.793\n",
       "2021-04-01  23368.861\n",
       "2021-07-01  23921.991\n",
       "2021-10-01  24777.038\n",
       "2022-01-01  25215.491\n",
       "2022-04-01  25805.791\n",
       "2022-07-01  26272.011\n",
       "2022-10-01  26734.277\n",
       "2023-01-01  27164.359\n",
       "2023-04-01  27453.815\n",
       "2023-07-01  27967.697\n",
       "2023-10-01  28296.967\n",
       "2024-01-01  28624.069"
      ],
      "text/html": [
       "<div>\n",
       "<style scoped>\n",
       "    .dataframe tbody tr th:only-of-type {\n",
       "        vertical-align: middle;\n",
       "    }\n",
       "\n",
       "    .dataframe tbody tr th {\n",
       "        vertical-align: top;\n",
       "    }\n",
       "\n",
       "    .dataframe thead th {\n",
       "        text-align: right;\n",
       "    }\n",
       "</style>\n",
       "<table border=\"1\" class=\"dataframe\">\n",
       "  <thead>\n",
       "    <tr style=\"text-align: right;\">\n",
       "      <th></th>\n",
       "      <th>GDP</th>\n",
       "    </tr>\n",
       "    <tr>\n",
       "      <th>DATE</th>\n",
       "      <th></th>\n",
       "    </tr>\n",
       "  </thead>\n",
       "  <tbody>\n",
       "    <tr>\n",
       "      <th>2020-01-01</th>\n",
       "      <td>21727.657</td>\n",
       "    </tr>\n",
       "    <tr>\n",
       "      <th>2020-04-01</th>\n",
       "      <td>19935.444</td>\n",
       "    </tr>\n",
       "    <tr>\n",
       "      <th>2020-07-01</th>\n",
       "      <td>21684.551</td>\n",
       "    </tr>\n",
       "    <tr>\n",
       "      <th>2020-10-01</th>\n",
       "      <td>22068.767</td>\n",
       "    </tr>\n",
       "    <tr>\n",
       "      <th>2021-01-01</th>\n",
       "      <td>22656.793</td>\n",
       "    </tr>\n",
       "    <tr>\n",
       "      <th>2021-04-01</th>\n",
       "      <td>23368.861</td>\n",
       "    </tr>\n",
       "    <tr>\n",
       "      <th>2021-07-01</th>\n",
       "      <td>23921.991</td>\n",
       "    </tr>\n",
       "    <tr>\n",
       "      <th>2021-10-01</th>\n",
       "      <td>24777.038</td>\n",
       "    </tr>\n",
       "    <tr>\n",
       "      <th>2022-01-01</th>\n",
       "      <td>25215.491</td>\n",
       "    </tr>\n",
       "    <tr>\n",
       "      <th>2022-04-01</th>\n",
       "      <td>25805.791</td>\n",
       "    </tr>\n",
       "    <tr>\n",
       "      <th>2022-07-01</th>\n",
       "      <td>26272.011</td>\n",
       "    </tr>\n",
       "    <tr>\n",
       "      <th>2022-10-01</th>\n",
       "      <td>26734.277</td>\n",
       "    </tr>\n",
       "    <tr>\n",
       "      <th>2023-01-01</th>\n",
       "      <td>27164.359</td>\n",
       "    </tr>\n",
       "    <tr>\n",
       "      <th>2023-04-01</th>\n",
       "      <td>27453.815</td>\n",
       "    </tr>\n",
       "    <tr>\n",
       "      <th>2023-07-01</th>\n",
       "      <td>27967.697</td>\n",
       "    </tr>\n",
       "    <tr>\n",
       "      <th>2023-10-01</th>\n",
       "      <td>28296.967</td>\n",
       "    </tr>\n",
       "    <tr>\n",
       "      <th>2024-01-01</th>\n",
       "      <td>28624.069</td>\n",
       "    </tr>\n",
       "  </tbody>\n",
       "</table>\n",
       "</div>"
      ]
     },
     "execution_count": 12,
     "metadata": {},
     "output_type": "execute_result"
    }
   ],
   "execution_count": 12
  },
  {
   "metadata": {
    "ExecuteTime": {
     "end_time": "2025-03-20T21:40:44.348703Z",
     "start_time": "2025-03-20T21:40:44.039672Z"
    }
   },
   "cell_type": "code",
   "source": [
    "# Fama French data\n",
    "fama_french = wb.DataReader(\"F-F_Research_Data_Factors\", \"famafrench\")\n",
    "fama_french.items()"
   ],
   "id": "50fe0220d237aa5",
   "outputs": [
    {
     "name": "stderr",
     "output_type": "stream",
     "text": [
      "/var/folders/xy/0r3_1y9d2lb3rl3znp1dmszc0000gn/T/ipykernel_74593/3343175496.py:2: FutureWarning: The argument 'date_parser' is deprecated and will be removed in a future version. Please use 'date_format' instead, or read your data in as 'object' dtype and then call 'to_datetime'.\n",
      "  fama_french = wb.DataReader(\"F-F_Research_Data_Factors\", \"famafrench\")\n",
      "/var/folders/xy/0r3_1y9d2lb3rl3znp1dmszc0000gn/T/ipykernel_74593/3343175496.py:2: FutureWarning: The argument 'date_parser' is deprecated and will be removed in a future version. Please use 'date_format' instead, or read your data in as 'object' dtype and then call 'to_datetime'.\n",
      "  fama_french = wb.DataReader(\"F-F_Research_Data_Factors\", \"famafrench\")\n"
     ]
    },
    {
     "data": {
      "text/plain": [
       "dict_items([(0,          Mkt-RF   SMB    HML    RF\n",
       "Date                              \n",
       "2020-03  -13.39 -4.79 -13.88  0.13\n",
       "2020-04   13.65  2.45  -1.34  0.00\n",
       "2020-05    5.58  2.49  -4.85  0.01\n",
       "2020-06    2.46  2.69  -2.23  0.01\n",
       "2020-07    5.77 -2.30  -1.44  0.01\n",
       "2020-08    7.63 -0.28  -2.88  0.01\n",
       "2020-09   -3.63 -0.03  -2.65  0.01\n",
       "2020-10   -2.10  4.27   4.31  0.01\n",
       "2020-11   12.47  5.72   2.15  0.01\n",
       "2020-12    4.63  4.79  -1.34  0.01\n",
       "2021-01   -0.03  7.50   2.85  0.01\n",
       "2021-02    2.78  2.07   7.10  0.00\n",
       "2021-03    3.08 -2.28   7.27  0.00\n",
       "2021-04    4.93 -3.20  -0.95  0.00\n",
       "2021-05    0.29 -0.27   7.13  0.00\n",
       "2021-06    2.75  1.60  -7.75  0.00\n",
       "2021-07    1.27 -3.94  -1.81  0.00\n",
       "2021-08    2.91 -0.46  -0.10  0.00\n",
       "2021-09   -4.37  0.67   5.10  0.00\n",
       "2021-10    6.65 -2.37  -0.45  0.00\n",
       "2021-11   -1.55 -1.32  -0.41  0.00\n",
       "2021-12    3.10 -1.64   3.22  0.01\n",
       "2022-01   -6.25 -5.96  12.80  0.00\n",
       "2022-02   -2.29  2.19   3.10  0.00\n",
       "2022-03    3.06 -1.66  -1.76  0.01\n",
       "2022-04   -9.46 -1.38   6.17  0.01\n",
       "2022-05   -0.34 -1.96   8.59  0.03\n",
       "2022-06   -8.44  2.18  -6.10  0.06\n",
       "2022-07    9.57  2.80  -4.03  0.08\n",
       "2022-08   -3.77  1.40   0.29  0.19\n",
       "2022-09   -9.35 -0.82   0.02  0.19\n",
       "2022-10    7.83  0.07   8.06  0.23\n",
       "2022-11    4.61 -3.51   1.41  0.29\n",
       "2022-12   -6.41 -0.69   1.34  0.33\n",
       "2023-01    6.64  5.01  -4.00  0.35\n",
       "2023-02   -2.59  1.17  -0.83  0.34\n",
       "2023-03    2.51 -5.51  -8.87  0.36\n",
       "2023-04    0.61 -3.36  -0.05  0.35\n",
       "2023-05    0.35  1.60  -7.74  0.36\n",
       "2023-06    6.47  1.55  -0.20  0.40\n",
       "2023-07    3.21  2.05   4.11  0.45\n",
       "2023-08   -2.39 -3.20  -1.08  0.45\n",
       "2023-09   -5.24 -2.49   1.45  0.43\n",
       "2023-10   -3.18 -3.88   0.19  0.47\n",
       "2023-11    8.83 -0.03   1.66  0.44\n",
       "2023-12    4.87  6.36   4.92  0.43\n",
       "2024-01    0.70 -5.02  -2.47  0.47\n",
       "2024-02    5.07 -0.22  -3.52  0.42\n",
       "2024-03    2.83 -2.51   4.22  0.43\n",
       "2024-04   -4.67 -2.39  -0.52  0.47\n",
       "2024-05    4.34  0.78  -1.67  0.44\n",
       "2024-06    2.77 -3.06  -3.31  0.41\n",
       "2024-07    1.24  6.80   5.74  0.45\n",
       "2024-08    1.61 -3.55  -1.13  0.48\n",
       "2024-09    1.74 -0.17  -2.59  0.40\n",
       "2024-10   -0.97 -1.01   0.89  0.39\n",
       "2024-11    6.51  4.63  -0.05  0.40\n",
       "2024-12   -3.17 -2.73  -2.95  0.37), (1,       Mkt-RF    SMB    HML    RF\n",
       "Date                            \n",
       "2020   23.66  12.72 -46.10  0.45\n",
       "2021   23.57  -3.78  25.39  0.04\n",
       "2022  -21.58  -7.04  25.97  1.43\n",
       "2023   21.69  -3.28 -13.70  4.95\n",
       "2024   19.78 -11.13  -9.10  5.26), ('DESCR', 'F-F Research Data Factors\\n-------------------------\\n\\nThis file was created by CMPT_ME_BEME_RETS using the 202412 CRSP database. The 1-month TBill rate data until 202405 are from Ibbotson Associates. Starting from 202406, the 1-month TBill rate is from ICE BofA US 1-Month Treasury Bill Index. Copyright 2024 Eugene F. Fama and Kenneth R. French\\n\\n  0 : (58 rows x 4 cols)\\n  1 : Annual Factors: January-December (5 rows x 4 cols)')])"
      ]
     },
     "execution_count": 21,
     "metadata": {},
     "output_type": "execute_result"
    }
   ],
   "execution_count": 21
  },
  {
   "metadata": {
    "ExecuteTime": {
     "end_time": "2025-03-20T21:41:45.096961Z",
     "start_time": "2025-03-20T21:41:45.035875Z"
    }
   },
   "cell_type": "code",
   "source": [
    "# Working with world banks\n",
    "world_bank_data = wb.DataReader(\"NY.GDP.MKTP.CD\", \"wb\", start_date,end_date)\n",
    "world_bank_data"
   ],
   "id": "d1b73d04c5803b50",
   "outputs": [
    {
     "ename": "NotImplementedError",
     "evalue": "data_source='wb' is not implemented",
     "output_type": "error",
     "traceback": [
      "\u001B[31m---------------------------------------------------------------------------\u001B[39m",
      "\u001B[31mNotImplementedError\u001B[39m                       Traceback (most recent call last)",
      "\u001B[36mCell\u001B[39m\u001B[36m \u001B[39m\u001B[32mIn[22]\u001B[39m\u001B[32m, line 2\u001B[39m\n\u001B[32m      1\u001B[39m \u001B[38;5;66;03m# Working with world banks\u001B[39;00m\n\u001B[32m----> \u001B[39m\u001B[32m2\u001B[39m world_bank_data = \u001B[43mwb\u001B[49m\u001B[43m.\u001B[49m\u001B[43mDataReader\u001B[49m\u001B[43m(\u001B[49m\u001B[33;43m\"\u001B[39;49m\u001B[33;43mNY.GDP.MKTP.CD\u001B[39;49m\u001B[33;43m\"\u001B[39;49m\u001B[43m,\u001B[49m\u001B[43m \u001B[49m\u001B[33;43m\"\u001B[39;49m\u001B[33;43mwb\u001B[39;49m\u001B[33;43m\"\u001B[39;49m\u001B[43m,\u001B[49m\u001B[43m \u001B[49m\u001B[43mstart_date\u001B[49m\u001B[43m,\u001B[49m\u001B[43mend_date\u001B[49m\u001B[43m)\u001B[49m\n\u001B[32m      3\u001B[39m world_bank_data\n",
      "\u001B[36mFile \u001B[39m\u001B[32m~/personal_projects/python_projects/python-for-finances/venv/lib/python3.12/site-packages/pandas/util/_decorators.py:213\u001B[39m, in \u001B[36mdeprecate_kwarg.<locals>._deprecate_kwarg.<locals>.wrapper\u001B[39m\u001B[34m(*args, **kwargs)\u001B[39m\n\u001B[32m    211\u001B[39m         \u001B[38;5;28;01mraise\u001B[39;00m \u001B[38;5;167;01mTypeError\u001B[39;00m(msg)\n\u001B[32m    212\u001B[39m     kwargs[new_arg_name] = new_arg_value\n\u001B[32m--> \u001B[39m\u001B[32m213\u001B[39m \u001B[38;5;28;01mreturn\u001B[39;00m \u001B[43mfunc\u001B[49m\u001B[43m(\u001B[49m\u001B[43m*\u001B[49m\u001B[43margs\u001B[49m\u001B[43m,\u001B[49m\u001B[43m \u001B[49m\u001B[43m*\u001B[49m\u001B[43m*\u001B[49m\u001B[43mkwargs\u001B[49m\u001B[43m)\u001B[49m\n",
      "\u001B[36mFile \u001B[39m\u001B[32m~/personal_projects/python_projects/python-for-finances/venv/lib/python3.12/site-packages/pandas_datareader/data.py:367\u001B[39m, in \u001B[36mDataReader\u001B[39m\u001B[34m(name, data_source, start, end, retry_count, pause, session, api_key)\u001B[39m\n\u001B[32m    365\u001B[39m \u001B[38;5;28;01mif\u001B[39;00m data_source \u001B[38;5;129;01mnot\u001B[39;00m \u001B[38;5;129;01min\u001B[39;00m expected_source:\n\u001B[32m    366\u001B[39m     msg = \u001B[33m\"\u001B[39m\u001B[33mdata_source=\u001B[39m\u001B[38;5;132;01m%r\u001B[39;00m\u001B[33m is not implemented\u001B[39m\u001B[33m\"\u001B[39m % data_source\n\u001B[32m--> \u001B[39m\u001B[32m367\u001B[39m     \u001B[38;5;28;01mraise\u001B[39;00m \u001B[38;5;167;01mNotImplementedError\u001B[39;00m(msg)\n\u001B[32m    369\u001B[39m \u001B[38;5;28;01mif\u001B[39;00m data_source == \u001B[33m\"\u001B[39m\u001B[33myahoo\u001B[39m\u001B[33m\"\u001B[39m:\n\u001B[32m    370\u001B[39m     \u001B[38;5;28;01mreturn\u001B[39;00m YahooDailyReader(\n\u001B[32m    371\u001B[39m         symbols=name,\n\u001B[32m    372\u001B[39m         start=start,\n\u001B[32m   (...)\u001B[39m\u001B[32m    378\u001B[39m         session=session,\n\u001B[32m    379\u001B[39m     ).read()\n",
      "\u001B[31mNotImplementedError\u001B[39m: data_source='wb' is not implemented"
     ]
    }
   ],
   "execution_count": 22
  },
  {
   "metadata": {
    "ExecuteTime": {
     "end_time": "2025-03-22T18:15:50.670682Z",
     "start_time": "2025-03-22T18:15:50.627343Z"
    }
   },
   "cell_type": "code",
   "source": "aapl = yf.Ticker('AAPL')",
   "id": "7e1c5bd5be88976e",
   "outputs": [],
   "execution_count": 59
  },
  {
   "metadata": {
    "ExecuteTime": {
     "end_time": "2025-03-22T18:19:51.170410Z",
     "start_time": "2025-03-22T18:19:50.914874Z"
    }
   },
   "cell_type": "code",
   "source": "aapl.history(period=\"10y\")",
   "id": "6a59a548379b80fe",
   "outputs": [
    {
     "data": {
      "text/plain": [
       "                                 Open        High         Low       Close  \\\n",
       "Date                                                                        \n",
       "2015-03-23 00:00:00-04:00   28.389415   28.552443   28.255417   28.409513   \n",
       "2015-03-24 00:00:00-04:00   28.413980   28.594873   28.264349   28.293383   \n",
       "2015-03-25 00:00:00-04:00   28.259881   28.322413   27.554165   27.554165   \n",
       "2015-03-26 00:00:00-04:00   27.415709   27.889163   27.379976   27.746233   \n",
       "2015-03-27 00:00:00-04:00   27.819931   27.848963   27.449208   27.525139   \n",
       "...                               ...         ...         ...         ...   \n",
       "2025-03-17 00:00:00-04:00  213.309998  215.220001  209.970001  214.000000   \n",
       "2025-03-18 00:00:00-04:00  214.160004  215.149994  211.490005  212.690002   \n",
       "2025-03-19 00:00:00-04:00  214.220001  218.759995  213.750000  215.240005   \n",
       "2025-03-20 00:00:00-04:00  213.990005  217.490005  212.220001  214.100006   \n",
       "2025-03-21 00:00:00-04:00  211.559998  218.839996  211.279999  218.270004   \n",
       "\n",
       "                              Volume  Dividends  Stock Splits  \n",
       "Date                                                           \n",
       "2015-03-23 00:00:00-04:00  150838800        0.0           0.0  \n",
       "2015-03-24 00:00:00-04:00  131369200        0.0           0.0  \n",
       "2015-03-25 00:00:00-04:00  206620800        0.0           0.0  \n",
       "2015-03-26 00:00:00-04:00  190291600        0.0           0.0  \n",
       "2015-03-27 00:00:00-04:00  158184800        0.0           0.0  \n",
       "...                              ...        ...           ...  \n",
       "2025-03-17 00:00:00-04:00   48073400        0.0           0.0  \n",
       "2025-03-18 00:00:00-04:00   42432400        0.0           0.0  \n",
       "2025-03-19 00:00:00-04:00   54385400        0.0           0.0  \n",
       "2025-03-20 00:00:00-04:00   48862900        0.0           0.0  \n",
       "2025-03-21 00:00:00-04:00   93954500        0.0           0.0  \n",
       "\n",
       "[2516 rows x 7 columns]"
      ],
      "text/html": [
       "<div>\n",
       "<style scoped>\n",
       "    .dataframe tbody tr th:only-of-type {\n",
       "        vertical-align: middle;\n",
       "    }\n",
       "\n",
       "    .dataframe tbody tr th {\n",
       "        vertical-align: top;\n",
       "    }\n",
       "\n",
       "    .dataframe thead th {\n",
       "        text-align: right;\n",
       "    }\n",
       "</style>\n",
       "<table border=\"1\" class=\"dataframe\">\n",
       "  <thead>\n",
       "    <tr style=\"text-align: right;\">\n",
       "      <th></th>\n",
       "      <th>Open</th>\n",
       "      <th>High</th>\n",
       "      <th>Low</th>\n",
       "      <th>Close</th>\n",
       "      <th>Volume</th>\n",
       "      <th>Dividends</th>\n",
       "      <th>Stock Splits</th>\n",
       "    </tr>\n",
       "    <tr>\n",
       "      <th>Date</th>\n",
       "      <th></th>\n",
       "      <th></th>\n",
       "      <th></th>\n",
       "      <th></th>\n",
       "      <th></th>\n",
       "      <th></th>\n",
       "      <th></th>\n",
       "    </tr>\n",
       "  </thead>\n",
       "  <tbody>\n",
       "    <tr>\n",
       "      <th>2015-03-23 00:00:00-04:00</th>\n",
       "      <td>28.389415</td>\n",
       "      <td>28.552443</td>\n",
       "      <td>28.255417</td>\n",
       "      <td>28.409513</td>\n",
       "      <td>150838800</td>\n",
       "      <td>0.0</td>\n",
       "      <td>0.0</td>\n",
       "    </tr>\n",
       "    <tr>\n",
       "      <th>2015-03-24 00:00:00-04:00</th>\n",
       "      <td>28.413980</td>\n",
       "      <td>28.594873</td>\n",
       "      <td>28.264349</td>\n",
       "      <td>28.293383</td>\n",
       "      <td>131369200</td>\n",
       "      <td>0.0</td>\n",
       "      <td>0.0</td>\n",
       "    </tr>\n",
       "    <tr>\n",
       "      <th>2015-03-25 00:00:00-04:00</th>\n",
       "      <td>28.259881</td>\n",
       "      <td>28.322413</td>\n",
       "      <td>27.554165</td>\n",
       "      <td>27.554165</td>\n",
       "      <td>206620800</td>\n",
       "      <td>0.0</td>\n",
       "      <td>0.0</td>\n",
       "    </tr>\n",
       "    <tr>\n",
       "      <th>2015-03-26 00:00:00-04:00</th>\n",
       "      <td>27.415709</td>\n",
       "      <td>27.889163</td>\n",
       "      <td>27.379976</td>\n",
       "      <td>27.746233</td>\n",
       "      <td>190291600</td>\n",
       "      <td>0.0</td>\n",
       "      <td>0.0</td>\n",
       "    </tr>\n",
       "    <tr>\n",
       "      <th>2015-03-27 00:00:00-04:00</th>\n",
       "      <td>27.819931</td>\n",
       "      <td>27.848963</td>\n",
       "      <td>27.449208</td>\n",
       "      <td>27.525139</td>\n",
       "      <td>158184800</td>\n",
       "      <td>0.0</td>\n",
       "      <td>0.0</td>\n",
       "    </tr>\n",
       "    <tr>\n",
       "      <th>...</th>\n",
       "      <td>...</td>\n",
       "      <td>...</td>\n",
       "      <td>...</td>\n",
       "      <td>...</td>\n",
       "      <td>...</td>\n",
       "      <td>...</td>\n",
       "      <td>...</td>\n",
       "    </tr>\n",
       "    <tr>\n",
       "      <th>2025-03-17 00:00:00-04:00</th>\n",
       "      <td>213.309998</td>\n",
       "      <td>215.220001</td>\n",
       "      <td>209.970001</td>\n",
       "      <td>214.000000</td>\n",
       "      <td>48073400</td>\n",
       "      <td>0.0</td>\n",
       "      <td>0.0</td>\n",
       "    </tr>\n",
       "    <tr>\n",
       "      <th>2025-03-18 00:00:00-04:00</th>\n",
       "      <td>214.160004</td>\n",
       "      <td>215.149994</td>\n",
       "      <td>211.490005</td>\n",
       "      <td>212.690002</td>\n",
       "      <td>42432400</td>\n",
       "      <td>0.0</td>\n",
       "      <td>0.0</td>\n",
       "    </tr>\n",
       "    <tr>\n",
       "      <th>2025-03-19 00:00:00-04:00</th>\n",
       "      <td>214.220001</td>\n",
       "      <td>218.759995</td>\n",
       "      <td>213.750000</td>\n",
       "      <td>215.240005</td>\n",
       "      <td>54385400</td>\n",
       "      <td>0.0</td>\n",
       "      <td>0.0</td>\n",
       "    </tr>\n",
       "    <tr>\n",
       "      <th>2025-03-20 00:00:00-04:00</th>\n",
       "      <td>213.990005</td>\n",
       "      <td>217.490005</td>\n",
       "      <td>212.220001</td>\n",
       "      <td>214.100006</td>\n",
       "      <td>48862900</td>\n",
       "      <td>0.0</td>\n",
       "      <td>0.0</td>\n",
       "    </tr>\n",
       "    <tr>\n",
       "      <th>2025-03-21 00:00:00-04:00</th>\n",
       "      <td>211.559998</td>\n",
       "      <td>218.839996</td>\n",
       "      <td>211.279999</td>\n",
       "      <td>218.270004</td>\n",
       "      <td>93954500</td>\n",
       "      <td>0.0</td>\n",
       "      <td>0.0</td>\n",
       "    </tr>\n",
       "  </tbody>\n",
       "</table>\n",
       "<p>2516 rows × 7 columns</p>\n",
       "</div>"
      ]
     },
     "execution_count": 70,
     "metadata": {},
     "output_type": "execute_result"
    }
   ],
   "execution_count": 70
  },
  {
   "metadata": {
    "ExecuteTime": {
     "end_time": "2025-03-22T18:19:17.241108Z",
     "start_time": "2025-03-22T18:19:17.102756Z"
    }
   },
   "cell_type": "code",
   "source": [
    "btc = yf.Ticker(\"BTC\")\n",
    "btc.history(period=\"10y\")"
   ],
   "id": "fe99596c3faf8173",
   "outputs": [
    {
     "data": {
      "text/plain": [
       "                                Open       High        Low      Close  \\\n",
       "Date                                                                    \n",
       "2024-07-31 00:00:00-04:00  29.500000  29.650000  28.799999  28.950001   \n",
       "2024-08-01 00:00:00-04:00  28.650000  28.799999  27.600000  28.100000   \n",
       "2024-08-02 00:00:00-04:00  28.750000  29.049999  27.650000  27.799999   \n",
       "2024-08-05 00:00:00-04:00  22.049999  24.650000  22.000000  23.750000   \n",
       "2024-08-06 00:00:00-04:00  24.500000  25.350000  24.150000  25.250000   \n",
       "...                              ...        ...        ...        ...   \n",
       "2025-03-17 00:00:00-04:00  36.750000  37.564999  36.540001  37.450001   \n",
       "2025-03-18 00:00:00-04:00  36.509998  36.549999  35.930000  36.430000   \n",
       "2025-03-19 00:00:00-04:00  37.200001  38.129002  37.049999  37.889999   \n",
       "2025-03-20 00:00:00-04:00  37.720001  38.349998  37.040001  37.310001   \n",
       "2025-03-21 00:00:00-04:00  37.060001  37.400002  36.830002  37.189999   \n",
       "\n",
       "                            Volume  Dividends  Stock Splits  Capital Gains  \n",
       "Date                                                                        \n",
       "2024-07-31 00:00:00-04:00   930940        0.0           0.0            0.0  \n",
       "2024-08-01 00:00:00-04:00  8564500        0.0           0.0            0.0  \n",
       "2024-08-02 00:00:00-04:00  2412560        0.0           0.0            0.0  \n",
       "2024-08-05 00:00:00-04:00  3141140        0.0           0.0            0.0  \n",
       "2024-08-06 00:00:00-04:00  1690140        0.0           0.0            0.0  \n",
       "...                            ...        ...           ...            ...  \n",
       "2025-03-17 00:00:00-04:00   854000        0.0           0.0            0.0  \n",
       "2025-03-18 00:00:00-04:00   820500        0.0           0.0            0.0  \n",
       "2025-03-19 00:00:00-04:00  1009200        0.0           0.0            0.0  \n",
       "2025-03-20 00:00:00-04:00   608000        0.0           0.0            0.0  \n",
       "2025-03-21 00:00:00-04:00   527000        0.0           0.0            0.0  \n",
       "\n",
       "[161 rows x 8 columns]"
      ],
      "text/html": [
       "<div>\n",
       "<style scoped>\n",
       "    .dataframe tbody tr th:only-of-type {\n",
       "        vertical-align: middle;\n",
       "    }\n",
       "\n",
       "    .dataframe tbody tr th {\n",
       "        vertical-align: top;\n",
       "    }\n",
       "\n",
       "    .dataframe thead th {\n",
       "        text-align: right;\n",
       "    }\n",
       "</style>\n",
       "<table border=\"1\" class=\"dataframe\">\n",
       "  <thead>\n",
       "    <tr style=\"text-align: right;\">\n",
       "      <th></th>\n",
       "      <th>Open</th>\n",
       "      <th>High</th>\n",
       "      <th>Low</th>\n",
       "      <th>Close</th>\n",
       "      <th>Volume</th>\n",
       "      <th>Dividends</th>\n",
       "      <th>Stock Splits</th>\n",
       "      <th>Capital Gains</th>\n",
       "    </tr>\n",
       "    <tr>\n",
       "      <th>Date</th>\n",
       "      <th></th>\n",
       "      <th></th>\n",
       "      <th></th>\n",
       "      <th></th>\n",
       "      <th></th>\n",
       "      <th></th>\n",
       "      <th></th>\n",
       "      <th></th>\n",
       "    </tr>\n",
       "  </thead>\n",
       "  <tbody>\n",
       "    <tr>\n",
       "      <th>2024-07-31 00:00:00-04:00</th>\n",
       "      <td>29.500000</td>\n",
       "      <td>29.650000</td>\n",
       "      <td>28.799999</td>\n",
       "      <td>28.950001</td>\n",
       "      <td>930940</td>\n",
       "      <td>0.0</td>\n",
       "      <td>0.0</td>\n",
       "      <td>0.0</td>\n",
       "    </tr>\n",
       "    <tr>\n",
       "      <th>2024-08-01 00:00:00-04:00</th>\n",
       "      <td>28.650000</td>\n",
       "      <td>28.799999</td>\n",
       "      <td>27.600000</td>\n",
       "      <td>28.100000</td>\n",
       "      <td>8564500</td>\n",
       "      <td>0.0</td>\n",
       "      <td>0.0</td>\n",
       "      <td>0.0</td>\n",
       "    </tr>\n",
       "    <tr>\n",
       "      <th>2024-08-02 00:00:00-04:00</th>\n",
       "      <td>28.750000</td>\n",
       "      <td>29.049999</td>\n",
       "      <td>27.650000</td>\n",
       "      <td>27.799999</td>\n",
       "      <td>2412560</td>\n",
       "      <td>0.0</td>\n",
       "      <td>0.0</td>\n",
       "      <td>0.0</td>\n",
       "    </tr>\n",
       "    <tr>\n",
       "      <th>2024-08-05 00:00:00-04:00</th>\n",
       "      <td>22.049999</td>\n",
       "      <td>24.650000</td>\n",
       "      <td>22.000000</td>\n",
       "      <td>23.750000</td>\n",
       "      <td>3141140</td>\n",
       "      <td>0.0</td>\n",
       "      <td>0.0</td>\n",
       "      <td>0.0</td>\n",
       "    </tr>\n",
       "    <tr>\n",
       "      <th>2024-08-06 00:00:00-04:00</th>\n",
       "      <td>24.500000</td>\n",
       "      <td>25.350000</td>\n",
       "      <td>24.150000</td>\n",
       "      <td>25.250000</td>\n",
       "      <td>1690140</td>\n",
       "      <td>0.0</td>\n",
       "      <td>0.0</td>\n",
       "      <td>0.0</td>\n",
       "    </tr>\n",
       "    <tr>\n",
       "      <th>...</th>\n",
       "      <td>...</td>\n",
       "      <td>...</td>\n",
       "      <td>...</td>\n",
       "      <td>...</td>\n",
       "      <td>...</td>\n",
       "      <td>...</td>\n",
       "      <td>...</td>\n",
       "      <td>...</td>\n",
       "    </tr>\n",
       "    <tr>\n",
       "      <th>2025-03-17 00:00:00-04:00</th>\n",
       "      <td>36.750000</td>\n",
       "      <td>37.564999</td>\n",
       "      <td>36.540001</td>\n",
       "      <td>37.450001</td>\n",
       "      <td>854000</td>\n",
       "      <td>0.0</td>\n",
       "      <td>0.0</td>\n",
       "      <td>0.0</td>\n",
       "    </tr>\n",
       "    <tr>\n",
       "      <th>2025-03-18 00:00:00-04:00</th>\n",
       "      <td>36.509998</td>\n",
       "      <td>36.549999</td>\n",
       "      <td>35.930000</td>\n",
       "      <td>36.430000</td>\n",
       "      <td>820500</td>\n",
       "      <td>0.0</td>\n",
       "      <td>0.0</td>\n",
       "      <td>0.0</td>\n",
       "    </tr>\n",
       "    <tr>\n",
       "      <th>2025-03-19 00:00:00-04:00</th>\n",
       "      <td>37.200001</td>\n",
       "      <td>38.129002</td>\n",
       "      <td>37.049999</td>\n",
       "      <td>37.889999</td>\n",
       "      <td>1009200</td>\n",
       "      <td>0.0</td>\n",
       "      <td>0.0</td>\n",
       "      <td>0.0</td>\n",
       "    </tr>\n",
       "    <tr>\n",
       "      <th>2025-03-20 00:00:00-04:00</th>\n",
       "      <td>37.720001</td>\n",
       "      <td>38.349998</td>\n",
       "      <td>37.040001</td>\n",
       "      <td>37.310001</td>\n",
       "      <td>608000</td>\n",
       "      <td>0.0</td>\n",
       "      <td>0.0</td>\n",
       "      <td>0.0</td>\n",
       "    </tr>\n",
       "    <tr>\n",
       "      <th>2025-03-21 00:00:00-04:00</th>\n",
       "      <td>37.060001</td>\n",
       "      <td>37.400002</td>\n",
       "      <td>36.830002</td>\n",
       "      <td>37.189999</td>\n",
       "      <td>527000</td>\n",
       "      <td>0.0</td>\n",
       "      <td>0.0</td>\n",
       "      <td>0.0</td>\n",
       "    </tr>\n",
       "  </tbody>\n",
       "</table>\n",
       "<p>161 rows × 8 columns</p>\n",
       "</div>"
      ]
     },
     "execution_count": 68,
     "metadata": {},
     "output_type": "execute_result"
    }
   ],
   "execution_count": 68
  },
  {
   "metadata": {
    "ExecuteTime": {
     "end_time": "2025-03-22T19:31:21.036093Z",
     "start_time": "2025-03-22T19:31:21.024295Z"
    }
   },
   "cell_type": "code",
   "source": "import requests",
   "id": "c067afbfc0cac39e",
   "outputs": [],
   "execution_count": 71
  },
  {
   "metadata": {
    "ExecuteTime": {
     "end_time": "2025-03-22T19:31:45.516647Z",
     "start_time": "2025-03-22T19:31:45.495955Z"
    }
   },
   "cell_type": "code",
   "source": "url_investment = \"https://es.investing.com/crypto/bitcoin/historical-data\"",
   "id": "38a5b8e618a7efea",
   "outputs": [],
   "execution_count": 72
  },
  {
   "metadata": {
    "ExecuteTime": {
     "end_time": "2025-03-22T19:32:20.740533Z",
     "start_time": "2025-03-22T19:32:20.673816Z"
    }
   },
   "cell_type": "code",
   "source": [
    "response = requests.get(url_investment)\n",
    "print(response)"
   ],
   "id": "9806aadaa577fb8",
   "outputs": [
    {
     "name": "stdout",
     "output_type": "stream",
     "text": [
      "<Response [403]>\n"
     ]
    }
   ],
   "execution_count": 74
  },
  {
   "metadata": {
    "ExecuteTime": {
     "end_time": "2025-03-22T20:09:17.106641Z",
     "start_time": "2025-03-22T20:09:17.100212Z"
    }
   },
   "cell_type": "code",
   "source": [
    "import os\n",
    "import pathlib\n",
    "\n",
    "path = os.path.dirname(os.getcwd())"
   ],
   "id": "1a4747e96240dba2",
   "outputs": [],
   "execution_count": 113
  },
  {
   "metadata": {
    "ExecuteTime": {
     "end_time": "2025-03-22T20:10:21.214811Z",
     "start_time": "2025-03-22T20:10:21.175814Z"
    }
   },
   "cell_type": "code",
   "source": "df_btc = pl.read_csv(f\"{path}/files/hist-btc-010120-22032025.csv\")",
   "id": "ba21ae8b3f97b5ef",
   "outputs": [],
   "execution_count": 114
  },
  {
   "metadata": {
    "ExecuteTime": {
     "end_time": "2025-03-22T20:25:11.463035Z",
     "start_time": "2025-03-22T20:25:11.440731Z"
    }
   },
   "cell_type": "code",
   "source": "df_btc.write_parquet(f\"{path}/files/btc-01012020-2203202.parquet\")",
   "id": "1e5f9c87e06b8db8",
   "outputs": [],
   "execution_count": 118
  }
 ],
 "metadata": {
  "kernelspec": {
   "display_name": "Python 3",
   "language": "python",
   "name": "python3"
  },
  "language_info": {
   "codemirror_mode": {
    "name": "ipython",
    "version": 2
   },
   "file_extension": ".py",
   "mimetype": "text/x-python",
   "name": "python",
   "nbconvert_exporter": "python",
   "pygments_lexer": "ipython2",
   "version": "2.7.6"
  }
 },
 "nbformat": 4,
 "nbformat_minor": 5
}
