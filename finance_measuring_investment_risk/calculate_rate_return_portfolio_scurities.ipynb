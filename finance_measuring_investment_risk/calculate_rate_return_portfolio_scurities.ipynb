{
 "cells": [
  {
   "cell_type": "code",
   "id": "initial_id",
   "metadata": {
    "collapsed": true,
    "ExecuteTime": {
     "end_time": "2025-03-26T20:00:31.433629Z",
     "start_time": "2025-03-26T20:00:31.425234Z"
    }
   },
   "source": [
    "import yfinance as yf\n",
    "import pandas as pd\n",
    "import numpy as np\n",
    "import matplotlib.pyplot as plt\n",
    "from datetime import date\n",
    "import os"
   ],
   "outputs": [],
   "execution_count": 37
  },
  {
   "metadata": {
    "ExecuteTime": {
     "end_time": "2025-03-26T20:00:33.742365Z",
     "start_time": "2025-03-26T20:00:33.738450Z"
    }
   },
   "cell_type": "code",
   "source": "path = os.path.dirname(os.getcwd())",
   "id": "b050219dd923ad88",
   "outputs": [],
   "execution_count": 38
  },
  {
   "metadata": {
    "ExecuteTime": {
     "end_time": "2025-03-26T19:35:26.927009Z",
     "start_time": "2025-03-26T19:35:26.295245Z"
    }
   },
   "cell_type": "code",
   "source": "df_pg = yf.download('PG', start=date(1995,1,1))",
   "id": "13b7bdf4165980b6",
   "outputs": [
    {
     "name": "stderr",
     "output_type": "stream",
     "text": [
      "[*********************100%***********************]  1 of 1 completed\n"
     ]
    }
   ],
   "execution_count": 8
  },
  {
   "metadata": {
    "ExecuteTime": {
     "end_time": "2025-03-26T19:58:28.023764Z",
     "start_time": "2025-03-26T19:58:28.009771Z"
    }
   },
   "cell_type": "code",
   "source": [
    "columns = [i[:1][0] for i in df_pg.columns.values]\n",
    "columns.insert(0, 'Date')\n",
    "columns"
   ],
   "id": "46937aa3c2cac71",
   "outputs": [
    {
     "data": {
      "text/plain": [
       "['Date', 'Close', 'High', 'Low', 'Open', 'Volume']"
      ]
     },
     "execution_count": 35,
     "metadata": {},
     "output_type": "execute_result"
    }
   ],
   "execution_count": 35
  },
  {
   "metadata": {
    "ExecuteTime": {
     "end_time": "2025-03-26T20:50:17.749998Z",
     "start_time": "2025-03-26T20:50:17.690441Z"
    }
   },
   "cell_type": "code",
   "source": "df_pg.to_csv(f'{path}/files/pg_historical_data.csv', header=False)",
   "id": "b043617f0ae6e6f7",
   "outputs": [],
   "execution_count": 53
  },
  {
   "metadata": {
    "ExecuteTime": {
     "end_time": "2025-03-26T20:50:29.581651Z",
     "start_time": "2025-03-26T20:50:29.555043Z"
    }
   },
   "cell_type": "code",
   "source": "df_pg_reformed = pd.read_csv(f'{path}/files/pg_historical_data.csv', names=columns)",
   "id": "ec8c2759e915bd95",
   "outputs": [],
   "execution_count": 54
  },
  {
   "metadata": {
    "ExecuteTime": {
     "end_time": "2025-03-26T20:50:31.589260Z",
     "start_time": "2025-03-26T20:50:31.577728Z"
    }
   },
   "cell_type": "code",
   "source": "df_pg_reformed.head()",
   "id": "3299a2148a6e0e5",
   "outputs": [
    {
     "data": {
      "text/plain": [
       "         Date     Close      High       Low      Open   Volume\n",
       "0  1995-01-03  7.396065  7.410887  7.321956  7.336778  3318400\n",
       "1  1995-01-04  7.336776  7.425706  7.262667  7.366419  2218800\n",
       "2  1995-01-05  7.233027  7.321958  7.218205  7.292314  2319600\n",
       "3  1995-01-06  7.247850  7.307137  7.188563  7.188563  3438000\n",
       "4  1995-01-09  7.218207  7.307138  7.203385  7.277494  1795200"
      ],
      "text/html": [
       "<div>\n",
       "<style scoped>\n",
       "    .dataframe tbody tr th:only-of-type {\n",
       "        vertical-align: middle;\n",
       "    }\n",
       "\n",
       "    .dataframe tbody tr th {\n",
       "        vertical-align: top;\n",
       "    }\n",
       "\n",
       "    .dataframe thead th {\n",
       "        text-align: right;\n",
       "    }\n",
       "</style>\n",
       "<table border=\"1\" class=\"dataframe\">\n",
       "  <thead>\n",
       "    <tr style=\"text-align: right;\">\n",
       "      <th></th>\n",
       "      <th>Date</th>\n",
       "      <th>Close</th>\n",
       "      <th>High</th>\n",
       "      <th>Low</th>\n",
       "      <th>Open</th>\n",
       "      <th>Volume</th>\n",
       "    </tr>\n",
       "  </thead>\n",
       "  <tbody>\n",
       "    <tr>\n",
       "      <th>0</th>\n",
       "      <td>1995-01-03</td>\n",
       "      <td>7.396065</td>\n",
       "      <td>7.410887</td>\n",
       "      <td>7.321956</td>\n",
       "      <td>7.336778</td>\n",
       "      <td>3318400</td>\n",
       "    </tr>\n",
       "    <tr>\n",
       "      <th>1</th>\n",
       "      <td>1995-01-04</td>\n",
       "      <td>7.336776</td>\n",
       "      <td>7.425706</td>\n",
       "      <td>7.262667</td>\n",
       "      <td>7.366419</td>\n",
       "      <td>2218800</td>\n",
       "    </tr>\n",
       "    <tr>\n",
       "      <th>2</th>\n",
       "      <td>1995-01-05</td>\n",
       "      <td>7.233027</td>\n",
       "      <td>7.321958</td>\n",
       "      <td>7.218205</td>\n",
       "      <td>7.292314</td>\n",
       "      <td>2319600</td>\n",
       "    </tr>\n",
       "    <tr>\n",
       "      <th>3</th>\n",
       "      <td>1995-01-06</td>\n",
       "      <td>7.247850</td>\n",
       "      <td>7.307137</td>\n",
       "      <td>7.188563</td>\n",
       "      <td>7.188563</td>\n",
       "      <td>3438000</td>\n",
       "    </tr>\n",
       "    <tr>\n",
       "      <th>4</th>\n",
       "      <td>1995-01-09</td>\n",
       "      <td>7.218207</td>\n",
       "      <td>7.307138</td>\n",
       "      <td>7.203385</td>\n",
       "      <td>7.277494</td>\n",
       "      <td>1795200</td>\n",
       "    </tr>\n",
       "  </tbody>\n",
       "</table>\n",
       "</div>"
      ]
     },
     "execution_count": 55,
     "metadata": {},
     "output_type": "execute_result"
    }
   ],
   "execution_count": 55
  },
  {
   "metadata": {
    "ExecuteTime": {
     "end_time": "2025-03-26T20:50:37.400570Z",
     "start_time": "2025-03-26T20:50:37.383006Z"
    }
   },
   "cell_type": "code",
   "source": "df_pg_reformed.tail()",
   "id": "28e19a532b39835a",
   "outputs": [
    {
     "data": {
      "text/plain": [
       "            Date       Close        High         Low        Open    Volume\n",
       "7604  2025-03-20  167.550003  169.210007  166.029999  168.889999   8789200\n",
       "7605  2025-03-21  166.690002  168.139999  164.119995  167.139999  16027300\n",
       "7606  2025-03-24  165.649994  166.869995  165.360001  166.429993   6102100\n",
       "7607  2025-03-25  162.850006  165.369995  162.199997  165.300003   8366700\n",
       "7608  2025-03-26  166.325104  166.619995  162.990005  163.350006   4849060"
      ],
      "text/html": [
       "<div>\n",
       "<style scoped>\n",
       "    .dataframe tbody tr th:only-of-type {\n",
       "        vertical-align: middle;\n",
       "    }\n",
       "\n",
       "    .dataframe tbody tr th {\n",
       "        vertical-align: top;\n",
       "    }\n",
       "\n",
       "    .dataframe thead th {\n",
       "        text-align: right;\n",
       "    }\n",
       "</style>\n",
       "<table border=\"1\" class=\"dataframe\">\n",
       "  <thead>\n",
       "    <tr style=\"text-align: right;\">\n",
       "      <th></th>\n",
       "      <th>Date</th>\n",
       "      <th>Close</th>\n",
       "      <th>High</th>\n",
       "      <th>Low</th>\n",
       "      <th>Open</th>\n",
       "      <th>Volume</th>\n",
       "    </tr>\n",
       "  </thead>\n",
       "  <tbody>\n",
       "    <tr>\n",
       "      <th>7604</th>\n",
       "      <td>2025-03-20</td>\n",
       "      <td>167.550003</td>\n",
       "      <td>169.210007</td>\n",
       "      <td>166.029999</td>\n",
       "      <td>168.889999</td>\n",
       "      <td>8789200</td>\n",
       "    </tr>\n",
       "    <tr>\n",
       "      <th>7605</th>\n",
       "      <td>2025-03-21</td>\n",
       "      <td>166.690002</td>\n",
       "      <td>168.139999</td>\n",
       "      <td>164.119995</td>\n",
       "      <td>167.139999</td>\n",
       "      <td>16027300</td>\n",
       "    </tr>\n",
       "    <tr>\n",
       "      <th>7606</th>\n",
       "      <td>2025-03-24</td>\n",
       "      <td>165.649994</td>\n",
       "      <td>166.869995</td>\n",
       "      <td>165.360001</td>\n",
       "      <td>166.429993</td>\n",
       "      <td>6102100</td>\n",
       "    </tr>\n",
       "    <tr>\n",
       "      <th>7607</th>\n",
       "      <td>2025-03-25</td>\n",
       "      <td>162.850006</td>\n",
       "      <td>165.369995</td>\n",
       "      <td>162.199997</td>\n",
       "      <td>165.300003</td>\n",
       "      <td>8366700</td>\n",
       "    </tr>\n",
       "    <tr>\n",
       "      <th>7608</th>\n",
       "      <td>2025-03-26</td>\n",
       "      <td>166.325104</td>\n",
       "      <td>166.619995</td>\n",
       "      <td>162.990005</td>\n",
       "      <td>163.350006</td>\n",
       "      <td>4849060</td>\n",
       "    </tr>\n",
       "  </tbody>\n",
       "</table>\n",
       "</div>"
      ]
     },
     "execution_count": 56,
     "metadata": {},
     "output_type": "execute_result"
    }
   ],
   "execution_count": 56
  },
  {
   "metadata": {
    "ExecuteTime": {
     "end_time": "2025-03-26T21:14:37.542099Z",
     "start_time": "2025-03-26T21:14:37.532289Z"
    }
   },
   "cell_type": "code",
   "source": [
    "# Create a function to get the columns\n",
    "def build_columns_fpr_df(df: pd.DataFrame) -> list:\n",
    "    column_names = [i[:1][0] for i in df.columns.values]\n",
    "    column_names.insert(0, 'Date')\n",
    "    return column_names"
   ],
   "id": "fd3a9b94ac2e32fb",
   "outputs": [],
   "execution_count": 67
  },
  {
   "metadata": {
    "ExecuteTime": {
     "end_time": "2025-03-26T21:14:39.649546Z",
     "start_time": "2025-03-26T21:14:39.645482Z"
    }
   },
   "cell_type": "code",
   "source": [
    "# function to save the data into a csv file\n",
    "def save_to_csv(df: pd.DataFrame, ticker_name: str) -> None:\n",
    "    df.to_csv(f'{path}/files/{ticker_name}_historical_data.csv', header=False)"
   ],
   "id": "d7942f81c88e508d",
   "outputs": [],
   "execution_count": 68
  },
  {
   "metadata": {
    "ExecuteTime": {
     "end_time": "2025-03-26T21:21:10.425800Z",
     "start_time": "2025-03-26T21:21:10.414113Z"
    }
   },
   "cell_type": "code",
   "source": [
    "# function to read the new csv file, set index Date\n",
    "def read_from_csv(ticker_name: str, column_names: list[str]) -> pd.DataFrame:\n",
    "    return pd.read_csv(f'{path}/files/{ticker_name}_historical_data.csv', names=column_names).set_index('Date')"
   ],
   "id": "edaee5032e3ac892",
   "outputs": [],
   "execution_count": 71
  },
  {
   "metadata": {
    "ExecuteTime": {
     "end_time": "2025-03-26T21:07:26.908201Z",
     "start_time": "2025-03-26T21:07:26.906384Z"
    }
   },
   "cell_type": "code",
   "source": [
    "start_date = date(1995,1,1)\n",
    "tickers = ['PG', 'MSFT', 'F', 'GE']"
   ],
   "id": "149b7931cf76a785",
   "outputs": [],
   "execution_count": 62
  },
  {
   "metadata": {
    "ExecuteTime": {
     "end_time": "2025-03-26T21:21:26.860315Z",
     "start_time": "2025-03-26T21:21:25.085095Z"
    }
   },
   "cell_type": "code",
   "source": [
    "# Create a dataframe, download all the tickers from yahoo, create the columns, save data into csv file, read the csv and create new dataframe for very tickers only selecting the Close price\n",
    "all_df = pd.DataFrame()\n",
    "for t in tickers:\n",
    "    my_data = yf.download(t, start=date(1995,1,1))\n",
    "    columns = build_columns_fpr_df(my_data)\n",
    "    save_to_csv(my_data, t)\n",
    "    all_df[t] = read_from_csv(t, columns)['Close']\n",
    "    "
   ],
   "id": "1cbceed101adbb2c",
   "outputs": [
    {
     "name": "stderr",
     "output_type": "stream",
     "text": [
      "[*********************100%***********************]  1 of 1 completed\n",
      "[*********************100%***********************]  1 of 1 completed\n",
      "[*********************100%***********************]  1 of 1 completed\n",
      "[*********************100%***********************]  1 of 1 completed\n"
     ]
    }
   ],
   "execution_count": 72
  },
  {
   "metadata": {
    "ExecuteTime": {
     "end_time": "2025-03-26T21:21:30.499510Z",
     "start_time": "2025-03-26T21:21:30.489304Z"
    }
   },
   "cell_type": "code",
   "source": "all_df.info()",
   "id": "4b93c2cb3e05ddfc",
   "outputs": [
    {
     "name": "stdout",
     "output_type": "stream",
     "text": [
      "<class 'pandas.core.frame.DataFrame'>\n",
      "Index: 7609 entries, 1995-01-03 to 2025-03-26\n",
      "Data columns (total 4 columns):\n",
      " #   Column  Non-Null Count  Dtype  \n",
      "---  ------  --------------  -----  \n",
      " 0   PG      7609 non-null   float64\n",
      " 1   MSFT    7609 non-null   float64\n",
      " 2   F       7609 non-null   float64\n",
      " 3   GE      7609 non-null   float64\n",
      "dtypes: float64(4)\n",
      "memory usage: 297.2+ KB\n"
     ]
    }
   ],
   "execution_count": 73
  },
  {
   "metadata": {
    "ExecuteTime": {
     "end_time": "2025-03-26T21:22:09.939960Z",
     "start_time": "2025-03-26T21:22:09.874827Z"
    }
   },
   "cell_type": "code",
   "source": "all_df.head()",
   "id": "7378db3ca326fce",
   "outputs": [
    {
     "data": {
      "text/plain": [
       "                  PG      MSFT         F         GE\n",
       "Date                                               \n",
       "1995-01-03  7.396064  2.310187  3.456766  20.163145\n",
       "1995-01-04  7.336782  2.326980  3.549773  20.163145\n",
       "1995-01-05  7.233025  2.288598  3.518769  20.212566\n",
       "1995-01-06  7.247850  2.326980  3.518769  20.113728\n",
       "1995-01-09  7.218204  2.312586  3.580775  19.916044"
      ],
      "text/html": [
       "<div>\n",
       "<style scoped>\n",
       "    .dataframe tbody tr th:only-of-type {\n",
       "        vertical-align: middle;\n",
       "    }\n",
       "\n",
       "    .dataframe tbody tr th {\n",
       "        vertical-align: top;\n",
       "    }\n",
       "\n",
       "    .dataframe thead th {\n",
       "        text-align: right;\n",
       "    }\n",
       "</style>\n",
       "<table border=\"1\" class=\"dataframe\">\n",
       "  <thead>\n",
       "    <tr style=\"text-align: right;\">\n",
       "      <th></th>\n",
       "      <th>PG</th>\n",
       "      <th>MSFT</th>\n",
       "      <th>F</th>\n",
       "      <th>GE</th>\n",
       "    </tr>\n",
       "    <tr>\n",
       "      <th>Date</th>\n",
       "      <th></th>\n",
       "      <th></th>\n",
       "      <th></th>\n",
       "      <th></th>\n",
       "    </tr>\n",
       "  </thead>\n",
       "  <tbody>\n",
       "    <tr>\n",
       "      <th>1995-01-03</th>\n",
       "      <td>7.396064</td>\n",
       "      <td>2.310187</td>\n",
       "      <td>3.456766</td>\n",
       "      <td>20.163145</td>\n",
       "    </tr>\n",
       "    <tr>\n",
       "      <th>1995-01-04</th>\n",
       "      <td>7.336782</td>\n",
       "      <td>2.326980</td>\n",
       "      <td>3.549773</td>\n",
       "      <td>20.163145</td>\n",
       "    </tr>\n",
       "    <tr>\n",
       "      <th>1995-01-05</th>\n",
       "      <td>7.233025</td>\n",
       "      <td>2.288598</td>\n",
       "      <td>3.518769</td>\n",
       "      <td>20.212566</td>\n",
       "    </tr>\n",
       "    <tr>\n",
       "      <th>1995-01-06</th>\n",
       "      <td>7.247850</td>\n",
       "      <td>2.326980</td>\n",
       "      <td>3.518769</td>\n",
       "      <td>20.113728</td>\n",
       "    </tr>\n",
       "    <tr>\n",
       "      <th>1995-01-09</th>\n",
       "      <td>7.218204</td>\n",
       "      <td>2.312586</td>\n",
       "      <td>3.580775</td>\n",
       "      <td>19.916044</td>\n",
       "    </tr>\n",
       "  </tbody>\n",
       "</table>\n",
       "</div>"
      ]
     },
     "execution_count": 75,
     "metadata": {},
     "output_type": "execute_result"
    }
   ],
   "execution_count": 75
  },
  {
   "metadata": {
    "ExecuteTime": {
     "end_time": "2025-03-26T21:22:57.619684Z",
     "start_time": "2025-03-26T21:22:57.600008Z"
    }
   },
   "cell_type": "code",
   "source": "all_df.tail()",
   "id": "f6d9fe5fd9617e89",
   "outputs": [
    {
     "data": {
      "text/plain": [
       "                    PG        MSFT      F          GE\n",
       "Date                                                 \n",
       "2025-03-20  167.550003  386.839996  10.01  203.929993\n",
       "2025-03-21  166.690002  391.260010  10.00  204.130005\n",
       "2025-03-24  165.649994  393.079987  10.25  210.229996\n",
       "2025-03-25  162.850006  395.160004  10.29  212.130005\n",
       "2025-03-26  166.580002  389.970001  10.30  207.369995"
      ],
      "text/html": [
       "<div>\n",
       "<style scoped>\n",
       "    .dataframe tbody tr th:only-of-type {\n",
       "        vertical-align: middle;\n",
       "    }\n",
       "\n",
       "    .dataframe tbody tr th {\n",
       "        vertical-align: top;\n",
       "    }\n",
       "\n",
       "    .dataframe thead th {\n",
       "        text-align: right;\n",
       "    }\n",
       "</style>\n",
       "<table border=\"1\" class=\"dataframe\">\n",
       "  <thead>\n",
       "    <tr style=\"text-align: right;\">\n",
       "      <th></th>\n",
       "      <th>PG</th>\n",
       "      <th>MSFT</th>\n",
       "      <th>F</th>\n",
       "      <th>GE</th>\n",
       "    </tr>\n",
       "    <tr>\n",
       "      <th>Date</th>\n",
       "      <th></th>\n",
       "      <th></th>\n",
       "      <th></th>\n",
       "      <th></th>\n",
       "    </tr>\n",
       "  </thead>\n",
       "  <tbody>\n",
       "    <tr>\n",
       "      <th>2025-03-20</th>\n",
       "      <td>167.550003</td>\n",
       "      <td>386.839996</td>\n",
       "      <td>10.01</td>\n",
       "      <td>203.929993</td>\n",
       "    </tr>\n",
       "    <tr>\n",
       "      <th>2025-03-21</th>\n",
       "      <td>166.690002</td>\n",
       "      <td>391.260010</td>\n",
       "      <td>10.00</td>\n",
       "      <td>204.130005</td>\n",
       "    </tr>\n",
       "    <tr>\n",
       "      <th>2025-03-24</th>\n",
       "      <td>165.649994</td>\n",
       "      <td>393.079987</td>\n",
       "      <td>10.25</td>\n",
       "      <td>210.229996</td>\n",
       "    </tr>\n",
       "    <tr>\n",
       "      <th>2025-03-25</th>\n",
       "      <td>162.850006</td>\n",
       "      <td>395.160004</td>\n",
       "      <td>10.29</td>\n",
       "      <td>212.130005</td>\n",
       "    </tr>\n",
       "    <tr>\n",
       "      <th>2025-03-26</th>\n",
       "      <td>166.580002</td>\n",
       "      <td>389.970001</td>\n",
       "      <td>10.30</td>\n",
       "      <td>207.369995</td>\n",
       "    </tr>\n",
       "  </tbody>\n",
       "</table>\n",
       "</div>"
      ]
     },
     "execution_count": 76,
     "metadata": {},
     "output_type": "execute_result"
    }
   ],
   "execution_count": 76
  },
  {
   "metadata": {},
   "cell_type": "markdown",
   "source": [
    "## Normalization to 100:\n",
    "\n",
    "P1 / P0 * 100"
   ],
   "id": "5548950d2d836d8c"
  },
  {
   "metadata": {
    "ExecuteTime": {
     "end_time": "2025-03-26T21:30:57.358888Z",
     "start_time": "2025-03-26T21:30:57.349761Z"
    }
   },
   "cell_type": "code",
   "source": "print(all_df.iloc[0])",
   "id": "fb47ffc0aef1b39c",
   "outputs": [
    {
     "name": "stdout",
     "output_type": "stream",
     "text": [
      "PG       7.396064\n",
      "MSFT     2.310187\n",
      "F        3.456766\n",
      "GE      20.163145\n",
      "Name: 1995-01-03, dtype: float64\n"
     ]
    }
   ],
   "execution_count": 78
  },
  {
   "metadata": {
    "ExecuteTime": {
     "end_time": "2025-03-26T21:41:34.344113Z",
     "start_time": "2025-03-26T21:41:34.165544Z"
    }
   },
   "cell_type": "code",
   "source": [
    "(all_df / all_df.iloc[0] * 100).plot(figsize=(10,6))\n",
    "plt.show()"
   ],
   "id": "b04b39b07a6a235",
   "outputs": [
    {
     "data": {
      "text/plain": [
       "<Figure size 1000x600 with 1 Axes>"
      ],
      "image/png": "[encoded data removed]"
     },
     "metadata": {},
     "output_type": "display_data"
    }
   ],
   "execution_count": 90
  },
  {
   "metadata": {},
   "cell_type": "markdown",
   "source": "## If we do without normalization we have not good landmark",
   "id": "2e7d5dabef0d564"
  },
  {
   "metadata": {
    "ExecuteTime": {
     "end_time": "2025-03-26T21:37:38.106039Z",
     "start_time": "2025-03-26T21:37:37.954023Z"
    }
   },
   "cell_type": "code",
   "source": "all_df.plot(figsize=(15,6))",
   "id": "dabf06af8096c187",
   "outputs": [
    {
     "data": {
      "text/plain": [
       "<Axes: xlabel='Date'>"
      ]
     },
     "execution_count": 86,
     "metadata": {},
     "output_type": "execute_result"
    },
    {
     "data": {
      "text/plain": [
       "<Figure size 1500x600 with 1 Axes>"
      ],
      "image/png": "[encoded data removed]"
     },
     "metadata": {},
     "output_type": "display_data"
    }
   ],
   "execution_count": 86
  },
  {
   "metadata": {
    "ExecuteTime": {
     "end_time": "2025-03-26T21:39:48.710639Z",
     "start_time": "2025-03-26T21:39:48.693725Z"
    }
   },
   "cell_type": "code",
   "source": "print(all_df.loc['1995-01-03'])",
   "id": "aa1d5030793c1514",
   "outputs": [
    {
     "name": "stdout",
     "output_type": "stream",
     "text": [
      "PG       7.396064\n",
      "MSFT     2.310187\n",
      "F        3.456766\n",
      "GE      20.163145\n",
      "Name: 1995-01-03, dtype: float64\n"
     ]
    }
   ],
   "execution_count": 88
  },
  {
   "metadata": {
    "ExecuteTime": {
     "end_time": "2025-03-26T21:40:09.414058Z",
     "start_time": "2025-03-26T21:40:09.399765Z"
    }
   },
   "cell_type": "code",
   "source": "print(all_df.iloc[0])",
   "id": "29f641a5c4e196c0",
   "outputs": [
    {
     "name": "stdout",
     "output_type": "stream",
     "text": [
      "PG       7.396064\n",
      "MSFT     2.310187\n",
      "F        3.456766\n",
      "GE      20.163145\n",
      "Name: 1995-01-03, dtype: float64\n"
     ]
    }
   ],
   "execution_count": 89
  },
  {
   "metadata": {},
   "cell_type": "markdown",
   "source": "## Calculating the return of a Portfolio of Securities",
   "id": "60778f8e52e8668f"
  },
  {
   "metadata": {
    "ExecuteTime": {
     "end_time": "2025-03-26T21:42:48.183692Z",
     "start_time": "2025-03-26T21:42:48.157410Z"
    }
   },
   "cell_type": "code",
   "source": [
    "returns = (all_df / all_df.shift(1)) - 1\n",
    "returns.head()"
   ],
   "id": "e08dbbfbafec77dd",
   "outputs": [
    {
     "data": {
      "text/plain": [
       "                  PG      MSFT         F        GE\n",
       "Date                                              \n",
       "1995-01-03       NaN       NaN       NaN       NaN\n",
       "1995-01-04 -0.008015  0.007269  0.026906  0.000000\n",
       "1995-01-05 -0.014142 -0.016494 -0.008734  0.002451\n",
       "1995-01-06  0.002050  0.016771  0.000000 -0.004890\n",
       "1995-01-09 -0.004090 -0.006186  0.017622 -0.009828"
      ],
      "text/html": [
       "<div>\n",
       "<style scoped>\n",
       "    .dataframe tbody tr th:only-of-type {\n",
       "        vertical-align: middle;\n",
       "    }\n",
       "\n",
       "    .dataframe tbody tr th {\n",
       "        vertical-align: top;\n",
       "    }\n",
       "\n",
       "    .dataframe thead th {\n",
       "        text-align: right;\n",
       "    }\n",
       "</style>\n",
       "<table border=\"1\" class=\"dataframe\">\n",
       "  <thead>\n",
       "    <tr style=\"text-align: right;\">\n",
       "      <th></th>\n",
       "      <th>PG</th>\n",
       "      <th>MSFT</th>\n",
       "      <th>F</th>\n",
       "      <th>GE</th>\n",
       "    </tr>\n",
       "    <tr>\n",
       "      <th>Date</th>\n",
       "      <th></th>\n",
       "      <th></th>\n",
       "      <th></th>\n",
       "      <th></th>\n",
       "    </tr>\n",
       "  </thead>\n",
       "  <tbody>\n",
       "    <tr>\n",
       "      <th>1995-01-03</th>\n",
       "      <td>NaN</td>\n",
       "      <td>NaN</td>\n",
       "      <td>NaN</td>\n",
       "      <td>NaN</td>\n",
       "    </tr>\n",
       "    <tr>\n",
       "      <th>1995-01-04</th>\n",
       "      <td>-0.008015</td>\n",
       "      <td>0.007269</td>\n",
       "      <td>0.026906</td>\n",
       "      <td>0.000000</td>\n",
       "    </tr>\n",
       "    <tr>\n",
       "      <th>1995-01-05</th>\n",
       "      <td>-0.014142</td>\n",
       "      <td>-0.016494</td>\n",
       "      <td>-0.008734</td>\n",
       "      <td>0.002451</td>\n",
       "    </tr>\n",
       "    <tr>\n",
       "      <th>1995-01-06</th>\n",
       "      <td>0.002050</td>\n",
       "      <td>0.016771</td>\n",
       "      <td>0.000000</td>\n",
       "      <td>-0.004890</td>\n",
       "    </tr>\n",
       "    <tr>\n",
       "      <th>1995-01-09</th>\n",
       "      <td>-0.004090</td>\n",
       "      <td>-0.006186</td>\n",
       "      <td>0.017622</td>\n",
       "      <td>-0.009828</td>\n",
       "    </tr>\n",
       "  </tbody>\n",
       "</table>\n",
       "</div>"
      ]
     },
     "execution_count": 91,
     "metadata": {},
     "output_type": "execute_result"
    }
   ],
   "execution_count": 91
  },
  {
   "metadata": {
    "ExecuteTime": {
     "end_time": "2025-03-26T21:43:54.380948Z",
     "start_time": "2025-03-26T21:43:54.374402Z"
    }
   },
   "cell_type": "code",
   "source": [
    "# Calculate the weights for the portfolio, in this case are 4 tickers, so divide is 0.25\n",
    "weights = np.array([0.25,0.25,0.25,0.25])"
   ],
   "id": "b16e547d16d2f19e",
   "outputs": [],
   "execution_count": 95
  },
  {
   "metadata": {
    "ExecuteTime": {
     "end_time": "2025-03-26T21:45:34.175367Z",
     "start_time": "2025-03-26T21:45:34.111266Z"
    }
   },
   "cell_type": "code",
   "source": [
    "# Calculate the dot product of two arrays\n",
    "np.dot(returns, weights)"
   ],
   "id": "14c0dfd9600cc0c",
   "outputs": [
    {
     "data": {
      "text/plain": [
       "array([        nan,  0.00653992, -0.00922992, ...,  0.01332382,\n",
       "        0.00033219, -0.00292418], shape=(7609,))"
      ]
     },
     "execution_count": 96,
     "metadata": {},
     "output_type": "execute_result"
    }
   ],
   "execution_count": 96
  },
  {
   "metadata": {
    "ExecuteTime": {
     "end_time": "2025-03-26T21:47:26.221922Z",
     "start_time": "2025-03-26T21:47:26.207274Z"
    }
   },
   "cell_type": "code",
   "source": [
    "annual_returns = returns.mean() * 250\n",
    "print(annual_returns)"
   ],
   "id": "c1b2a071ac620ea4",
   "outputs": [
    {
     "name": "stdout",
     "output_type": "stream",
     "text": [
      "PG      0.126422\n",
      "MSFT    0.216257\n",
      "F       0.115742\n",
      "GE      0.127247\n",
      "dtype: float64\n"
     ]
    }
   ],
   "execution_count": 98
  },
  {
   "metadata": {
    "ExecuteTime": {
     "end_time": "2025-03-26T21:51:02.496777Z",
     "start_time": "2025-03-26T21:51:02.477171Z"
    }
   },
   "cell_type": "code",
   "source": "print(np.dot(annual_returns, weights))",
   "id": "a0110319bf218063",
   "outputs": [
    {
     "name": "stdout",
     "output_type": "stream",
     "text": [
      "0.14641676682807486\n"
     ]
    }
   ],
   "execution_count": 103
  },
  {
   "metadata": {
    "ExecuteTime": {
     "end_time": "2025-03-26T21:48:38.409796Z",
     "start_time": "2025-03-26T21:48:38.387117Z"
    }
   },
   "cell_type": "code",
   "source": [
    "pfolio_1 = str(round(np.dot(annual_returns, weights), 5) * 100) + ' %'\n",
    "print(pfolio_1)"
   ],
   "id": "c55f8b6734f5098e",
   "outputs": [
    {
     "name": "stdout",
     "output_type": "stream",
     "text": [
      "14.642 %\n"
     ]
    }
   ],
   "execution_count": 99
  },
  {
   "metadata": {
    "ExecuteTime": {
     "end_time": "2025-03-26T21:52:12.713535Z",
     "start_time": "2025-03-26T21:52:12.702517Z"
    }
   },
   "cell_type": "code",
   "source": "weights_2 = np.array([0.4,0.4,0.15,0.05])",
   "id": "d3732be82b09c30f",
   "outputs": [],
   "execution_count": 104
  },
  {
   "metadata": {
    "ExecuteTime": {
     "end_time": "2025-03-26T21:52:14.044397Z",
     "start_time": "2025-03-26T21:52:14.040967Z"
    }
   },
   "cell_type": "code",
   "source": [
    "pfolio_2 = str(round(np.dot(annual_returns, weights_2), 5) * 100) + ' %'\n",
    "print(pfolio_1)\n",
    "print(pfolio_2)"
   ],
   "id": "537acf40022f6b47",
   "outputs": [
    {
     "name": "stdout",
     "output_type": "stream",
     "text": [
      "14.642 %\n",
      "16.079 %\n"
     ]
    }
   ],
   "execution_count": 105
  }
 ],
 "metadata": {
  "kernelspec": {
   "display_name": "Python 3",
   "language": "python",
   "name": "python3"
  },
  "language_info": {
   "codemirror_mode": {
    "name": "ipython",
    "version": 2
   },
   "file_extension": ".py",
   "mimetype": "text/x-python",
   "name": "python",
   "nbconvert_exporter": "python",
   "pygments_lexer": "ipython2",
   "version": "2.7.6"
  }
 },
 "nbformat": 4,
 "nbformat_minor": 5
}
